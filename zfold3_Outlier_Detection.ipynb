{
  "cells": [
    {
      "cell_type": "code",
      "source": [
        "!pip install konlpy\n",
        "!pip install googletrans==3.1.0a0"
      ],
      "metadata": {
        "id": "oxiJe-7OVYBg"
      },
      "id": "oxiJe-7OVYBg",
      "execution_count": null,
      "outputs": []
    },
    {
      "cell_type": "code",
      "execution_count": null,
      "id": "b72f9a60",
      "metadata": {
        "id": "b72f9a60"
      },
      "outputs": [],
      "source": [
        "import pandas as pd\n",
        "import re\n",
        "import konlpy\n",
        "import wordcloud\n",
        "import os\n",
        "import gensim\n",
        "from konlpy.tag import Komoran\n",
        "import numpy as np\n",
        "import requests\n",
        "import matplotlib.pyplot as plt\n",
        "import seaborn as sns\n",
        "from googletrans import Translator\n",
        "translator = Translator()\n",
        "komoran = Komoran(userdic = \"/content/drive/MyDrive/graduation/komoran_dict.txt\") #기본사전 + 사용자사전\n",
        "\n",
        "stopwords_path = \"/content/drive/MyDrive/graduation/stopwords.txt\"\n",
        "\n",
        "with open(stopwords_path, encoding='utf-8') as f:\n",
        "    stopwords = f.readlines()\n",
        "stopwords = [w.strip() for w in stopwords]"
      ]
    },
    {
      "cell_type": "code",
      "execution_count": null,
      "id": "b7a0e641",
      "metadata": {
        "scrolled": true,
        "id": "b7a0e641"
      },
      "outputs": [],
      "source": [
        "df = pd.read_csv('/content/drive/MyDrive/graduation/all_fold.csv')"
      ]
    },
    {
      "cell_type": "code",
      "execution_count": null,
      "id": "9d37725d",
      "metadata": {
        "id": "9d37725d"
      },
      "outputs": [],
      "source": [
        "#1. 이상치 제거"
      ]
    },
    {
      "cell_type": "code",
      "source": [
        "#이상치 기준 설정 함수\n",
        "'''\n",
        "1. 띄어쓰기 없앰\n",
        "2. 알파벳, 중국어(한자), 일본어(히라가나, 가타가나), 아랍어, 그리고 한국어 음절을 제외한 다른 숫자/기호/글자 제거\n",
        "3. 그 상태에서 문자열의 길이(글자 개수) 측정\n",
        "'''\n",
        "\n",
        "def outlier(text):\n",
        "  text = re.sub(r'[^a-zA-Z가-힇ぁ-ゔァ-ヴー々〆〤一-龥\\u0600-\\u06FF]','',text)\n",
        "  length = len(text)\n",
        "  return length"
      ],
      "metadata": {
        "id": "Re3yMWk8WeT8"
      },
      "id": "Re3yMWk8WeT8",
      "execution_count": null,
      "outputs": []
    },
    {
      "cell_type": "code",
      "source": [
        "outlier('صراحة هاتف رائع يستحق الشراء\t')"
      ],
      "metadata": {
        "colab": {
          "base_uri": "https://localhost:8080/"
        },
        "id": "7JWRC3jMWfMH",
        "outputId": "c8179588-6017-4891-f967-4c31edeb0051"
      },
      "id": "7JWRC3jMWfMH",
      "execution_count": null,
      "outputs": [
        {
          "output_type": "execute_result",
          "data": {
            "text/plain": [
              "24"
            ]
          },
          "metadata": {},
          "execution_count": 301
        }
      ]
    },
    {
      "cell_type": "code",
      "source": [
        "outlier('나는 abc 靑年 カメラ ㅋㅋㅋ 012')"
      ],
      "metadata": {
        "colab": {
          "base_uri": "https://localhost:8080/"
        },
        "id": "HgtRapYbbs-8",
        "outputId": "168b1f1a-f6bc-4206-da56-91183db69079"
      },
      "id": "HgtRapYbbs-8",
      "execution_count": null,
      "outputs": [
        {
          "output_type": "execute_result",
          "data": {
            "text/plain": [
              "10"
            ]
          },
          "metadata": {},
          "execution_count": 302
        }
      ]
    },
    {
      "cell_type": "code",
      "execution_count": null,
      "id": "c462abf4",
      "metadata": {
        "id": "c462abf4"
      },
      "outputs": [],
      "source": [
        "df['length'] = df['REPLY'].apply(lambda x: outlier(str(x)))"
      ]
    },
    {
      "cell_type": "code",
      "execution_count": null,
      "id": "d5554296",
      "metadata": {
        "colab": {
          "base_uri": "https://localhost:8080/",
          "height": 424
        },
        "id": "d5554296",
        "outputId": "3531e942-24aa-4858-e9ac-79a1442ee02f"
      },
      "outputs": [
        {
          "output_type": "execute_result",
          "data": {
            "text/plain": [
              "                                                   REPLY  length\n",
              "0      왜 모든걸 다할수있게 만들어놓고 외장메모리를 못쓰게해놨을까요ㅜㅠ10년간 갤럭시 주구...     418\n",
              "1      이번 폴드와 플립 완성도가 상당히 높다 생각됩니다.시장에 영향이 있을정도로 많이 팔...      61\n",
              "2      1년 뒤에 폴드4가 나오면 그땐 정말 완성형이 되지 않을까요? 이번에 폴드2 쓰다가...     104\n",
              "3      판매량이 폴더시리즈 역대급 이네요. 없어서 못 팔 지경이라니, 앞으로 새로운 생태계...      52\n",
              "4      역시 장단점을 고르게 언급해주셨네요.믿고 보는 잇섭!다만 핸드폰이 패드겸용으로 사용...     283\n",
              "...                                                  ...     ...\n",
              "9998                                               안녕하세요       5\n",
              "9999                                                  대구       2\n",
              "10000                                   올해부터는  낚시는 그만히세요      12\n",
              "10001  개인적으로 아직까지는 바 형태의 스마트폰이 낫지 않나 싶어요. 폴드는 너무 두껍고 ...     161\n",
              "10002  폴드 왜 쓰는질 모르겠음 휴대성+무게 개쒯이고대화면? 그냥 태블릿을 사서 써...밖...      67\n",
              "\n",
              "[10003 rows x 2 columns]"
            ],
            "text/html": [
              "\n",
              "  <div id=\"df-c6f8acec-0b67-4101-986a-ff45f69c7692\">\n",
              "    <div class=\"colab-df-container\">\n",
              "      <div>\n",
              "<style scoped>\n",
              "    .dataframe tbody tr th:only-of-type {\n",
              "        vertical-align: middle;\n",
              "    }\n",
              "\n",
              "    .dataframe tbody tr th {\n",
              "        vertical-align: top;\n",
              "    }\n",
              "\n",
              "    .dataframe thead th {\n",
              "        text-align: right;\n",
              "    }\n",
              "</style>\n",
              "<table border=\"1\" class=\"dataframe\">\n",
              "  <thead>\n",
              "    <tr style=\"text-align: right;\">\n",
              "      <th></th>\n",
              "      <th>REPLY</th>\n",
              "      <th>length</th>\n",
              "    </tr>\n",
              "  </thead>\n",
              "  <tbody>\n",
              "    <tr>\n",
              "      <th>0</th>\n",
              "      <td>왜 모든걸 다할수있게 만들어놓고 외장메모리를 못쓰게해놨을까요ㅜㅠ10년간 갤럭시 주구...</td>\n",
              "      <td>418</td>\n",
              "    </tr>\n",
              "    <tr>\n",
              "      <th>1</th>\n",
              "      <td>이번 폴드와 플립 완성도가 상당히 높다 생각됩니다.시장에 영향이 있을정도로 많이 팔...</td>\n",
              "      <td>61</td>\n",
              "    </tr>\n",
              "    <tr>\n",
              "      <th>2</th>\n",
              "      <td>1년 뒤에 폴드4가 나오면 그땐 정말 완성형이 되지 않을까요? 이번에 폴드2 쓰다가...</td>\n",
              "      <td>104</td>\n",
              "    </tr>\n",
              "    <tr>\n",
              "      <th>3</th>\n",
              "      <td>판매량이 폴더시리즈 역대급 이네요. 없어서 못 팔 지경이라니, 앞으로 새로운 생태계...</td>\n",
              "      <td>52</td>\n",
              "    </tr>\n",
              "    <tr>\n",
              "      <th>4</th>\n",
              "      <td>역시 장단점을 고르게 언급해주셨네요.믿고 보는 잇섭!다만 핸드폰이 패드겸용으로 사용...</td>\n",
              "      <td>283</td>\n",
              "    </tr>\n",
              "    <tr>\n",
              "      <th>...</th>\n",
              "      <td>...</td>\n",
              "      <td>...</td>\n",
              "    </tr>\n",
              "    <tr>\n",
              "      <th>9998</th>\n",
              "      <td>안녕하세요</td>\n",
              "      <td>5</td>\n",
              "    </tr>\n",
              "    <tr>\n",
              "      <th>9999</th>\n",
              "      <td>대구</td>\n",
              "      <td>2</td>\n",
              "    </tr>\n",
              "    <tr>\n",
              "      <th>10000</th>\n",
              "      <td>올해부터는  낚시는 그만히세요</td>\n",
              "      <td>12</td>\n",
              "    </tr>\n",
              "    <tr>\n",
              "      <th>10001</th>\n",
              "      <td>개인적으로 아직까지는 바 형태의 스마트폰이 낫지 않나 싶어요. 폴드는 너무 두껍고 ...</td>\n",
              "      <td>161</td>\n",
              "    </tr>\n",
              "    <tr>\n",
              "      <th>10002</th>\n",
              "      <td>폴드 왜 쓰는질 모르겠음 휴대성+무게 개쒯이고대화면? 그냥 태블릿을 사서 써...밖...</td>\n",
              "      <td>67</td>\n",
              "    </tr>\n",
              "  </tbody>\n",
              "</table>\n",
              "<p>10003 rows × 2 columns</p>\n",
              "</div>\n",
              "      <button class=\"colab-df-convert\" onclick=\"convertToInteractive('df-c6f8acec-0b67-4101-986a-ff45f69c7692')\"\n",
              "              title=\"Convert this dataframe to an interactive table.\"\n",
              "              style=\"display:none;\">\n",
              "        \n",
              "  <svg xmlns=\"http://www.w3.org/2000/svg\" height=\"24px\"viewBox=\"0 0 24 24\"\n",
              "       width=\"24px\">\n",
              "    <path d=\"M0 0h24v24H0V0z\" fill=\"none\"/>\n",
              "    <path d=\"M18.56 5.44l.94 2.06.94-2.06 2.06-.94-2.06-.94-.94-2.06-.94 2.06-2.06.94zm-11 1L8.5 8.5l.94-2.06 2.06-.94-2.06-.94L8.5 2.5l-.94 2.06-2.06.94zm10 10l.94 2.06.94-2.06 2.06-.94-2.06-.94-.94-2.06-.94 2.06-2.06.94z\"/><path d=\"M17.41 7.96l-1.37-1.37c-.4-.4-.92-.59-1.43-.59-.52 0-1.04.2-1.43.59L10.3 9.45l-7.72 7.72c-.78.78-.78 2.05 0 2.83L4 21.41c.39.39.9.59 1.41.59.51 0 1.02-.2 1.41-.59l7.78-7.78 2.81-2.81c.8-.78.8-2.07 0-2.86zM5.41 20L4 18.59l7.72-7.72 1.47 1.35L5.41 20z\"/>\n",
              "  </svg>\n",
              "      </button>\n",
              "      \n",
              "  <style>\n",
              "    .colab-df-container {\n",
              "      display:flex;\n",
              "      flex-wrap:wrap;\n",
              "      gap: 12px;\n",
              "    }\n",
              "\n",
              "    .colab-df-convert {\n",
              "      background-color: #E8F0FE;\n",
              "      border: none;\n",
              "      border-radius: 50%;\n",
              "      cursor: pointer;\n",
              "      display: none;\n",
              "      fill: #1967D2;\n",
              "      height: 32px;\n",
              "      padding: 0 0 0 0;\n",
              "      width: 32px;\n",
              "    }\n",
              "\n",
              "    .colab-df-convert:hover {\n",
              "      background-color: #E2EBFA;\n",
              "      box-shadow: 0px 1px 2px rgba(60, 64, 67, 0.3), 0px 1px 3px 1px rgba(60, 64, 67, 0.15);\n",
              "      fill: #174EA6;\n",
              "    }\n",
              "\n",
              "    [theme=dark] .colab-df-convert {\n",
              "      background-color: #3B4455;\n",
              "      fill: #D2E3FC;\n",
              "    }\n",
              "\n",
              "    [theme=dark] .colab-df-convert:hover {\n",
              "      background-color: #434B5C;\n",
              "      box-shadow: 0px 1px 3px 1px rgba(0, 0, 0, 0.15);\n",
              "      filter: drop-shadow(0px 1px 2px rgba(0, 0, 0, 0.3));\n",
              "      fill: #FFFFFF;\n",
              "    }\n",
              "  </style>\n",
              "\n",
              "      <script>\n",
              "        const buttonEl =\n",
              "          document.querySelector('#df-c6f8acec-0b67-4101-986a-ff45f69c7692 button.colab-df-convert');\n",
              "        buttonEl.style.display =\n",
              "          google.colab.kernel.accessAllowed ? 'block' : 'none';\n",
              "\n",
              "        async function convertToInteractive(key) {\n",
              "          const element = document.querySelector('#df-c6f8acec-0b67-4101-986a-ff45f69c7692');\n",
              "          const dataTable =\n",
              "            await google.colab.kernel.invokeFunction('convertToInteractive',\n",
              "                                                     [key], {});\n",
              "          if (!dataTable) return;\n",
              "\n",
              "          const docLinkHtml = 'Like what you see? Visit the ' +\n",
              "            '<a target=\"_blank\" href=https://colab.research.google.com/notebooks/data_table.ipynb>data table notebook</a>'\n",
              "            + ' to learn more about interactive tables.';\n",
              "          element.innerHTML = '';\n",
              "          dataTable['output_type'] = 'display_data';\n",
              "          await google.colab.output.renderOutput(dataTable, element);\n",
              "          const docLink = document.createElement('div');\n",
              "          docLink.innerHTML = docLinkHtml;\n",
              "          element.appendChild(docLink);\n",
              "        }\n",
              "      </script>\n",
              "    </div>\n",
              "  </div>\n",
              "  "
            ]
          },
          "metadata": {},
          "execution_count": 304
        }
      ],
      "source": [
        "df"
      ]
    },
    {
      "cell_type": "code",
      "execution_count": null,
      "id": "ebd1408c",
      "metadata": {
        "colab": {
          "base_uri": "https://localhost:8080/"
        },
        "id": "ebd1408c",
        "outputId": "dcc5f08d-1e81-46e9-894b-f2639101487f"
      },
      "outputs": [
        {
          "output_type": "execute_result",
          "data": {
            "text/plain": [
              "count    10003.000000\n",
              "mean        36.899030\n",
              "std         58.475878\n",
              "min          0.000000\n",
              "25%         12.000000\n",
              "50%         22.000000\n",
              "75%         41.000000\n",
              "max       2003.000000\n",
              "Name: length, dtype: float64"
            ]
          },
          "metadata": {},
          "execution_count": 305
        }
      ],
      "source": [
        "df['length'].describe()"
      ]
    },
    {
      "cell_type": "code",
      "execution_count": null,
      "id": "726a9749",
      "metadata": {
        "colab": {
          "base_uri": "https://localhost:8080/"
        },
        "id": "726a9749",
        "outputId": "0d5a343d-5a16-4113-b682-6b2187526d9c"
      },
      "outputs": [
        {
          "output_type": "stream",
          "name": "stdout",
          "text": [
            "10.799660308612857\n"
          ]
        }
      ],
      "source": [
        "print(df['length'].skew()) #왼쪽으로 너무 치우침"
      ]
    },
    {
      "cell_type": "code",
      "execution_count": null,
      "id": "a2c294bf",
      "metadata": {
        "colab": {
          "base_uri": "https://localhost:8080/"
        },
        "id": "a2c294bf",
        "outputId": "2451e633-5090-4c60-9fe8-40df191ec50c"
      },
      "outputs": [
        {
          "output_type": "stream",
          "name": "stdout",
          "text": [
            "229.28101988447048\n"
          ]
        }
      ],
      "source": [
        "print(df['length'].kurtosis()) #너무 뾰족함"
      ]
    },
    {
      "cell_type": "code",
      "execution_count": null,
      "id": "0bb06209",
      "metadata": {
        "colab": {
          "base_uri": "https://localhost:8080/",
          "height": 353
        },
        "id": "0bb06209",
        "outputId": "c0db83fe-03bd-4a98-d425-5531d8ad66bd"
      },
      "outputs": [
        {
          "output_type": "stream",
          "name": "stderr",
          "text": [
            "/usr/local/lib/python3.7/dist-packages/seaborn/distributions.py:2619: FutureWarning: `distplot` is a deprecated function and will be removed in a future version. Please adapt your code to use either `displot` (a figure-level function with similar flexibility) or `histplot` (an axes-level function for histograms).\n",
            "  warnings.warn(msg, FutureWarning)\n"
          ]
        },
        {
          "output_type": "execute_result",
          "data": {
            "text/plain": [
              "<matplotlib.axes._subplots.AxesSubplot at 0x7fd2d48eedd0>"
            ]
          },
          "metadata": {},
          "execution_count": 308
        },
        {
          "output_type": "display_data",
          "data": {
            "text/plain": [
              "<Figure size 432x288 with 1 Axes>"
            ],
            "image/png": "[encoded data removed]"
          },
          "metadata": {
            "needs_background": "light"
          }
        }
      ],
      "source": [
        "sns.distplot(df['length']) #정규분포를 이루지 않고 왼쪽으로 너무 치우쳐 있음 -> 데이터 정규화 과정이 필요함"
      ]
    },
    {
      "cell_type": "code",
      "execution_count": null,
      "id": "fa5bc767",
      "metadata": {
        "id": "fa5bc767"
      },
      "outputs": [],
      "source": [
        "df['log_length'] = np.log1p(df['length']) #데이터를 로그변환함 -> log(x+1)"
      ]
    },
    {
      "cell_type": "code",
      "execution_count": null,
      "id": "8439cd67",
      "metadata": {
        "colab": {
          "base_uri": "https://localhost:8080/"
        },
        "id": "8439cd67",
        "outputId": "2001503d-1440-4463-b6f1-1cb06ea30a84"
      },
      "outputs": [
        {
          "output_type": "execute_result",
          "data": {
            "text/plain": [
              "count    10003.000000\n",
              "mean         3.160514\n",
              "std          0.947888\n",
              "min          0.000000\n",
              "25%          2.564949\n",
              "50%          3.135494\n",
              "75%          3.737670\n",
              "max          7.602900\n",
              "Name: log_length, dtype: float64"
            ]
          },
          "metadata": {},
          "execution_count": 310
        }
      ],
      "source": [
        "df['log_length'].describe()"
      ]
    },
    {
      "cell_type": "code",
      "execution_count": null,
      "id": "90d31c4b",
      "metadata": {
        "colab": {
          "base_uri": "https://localhost:8080/"
        },
        "id": "90d31c4b",
        "outputId": "68768fa6-a8a4-4319-ff26-276de99c430e"
      },
      "outputs": [
        {
          "output_type": "stream",
          "name": "stdout",
          "text": [
            "-0.011720461372823\n"
          ]
        }
      ],
      "source": [
        "print(df['log_length'].skew()) #거의 대칭을 이룸"
      ]
    },
    {
      "cell_type": "code",
      "execution_count": null,
      "id": "132cb9e1",
      "metadata": {
        "colab": {
          "base_uri": "https://localhost:8080/"
        },
        "id": "132cb9e1",
        "outputId": "f54cb413-9080-41a5-a410-04597d472b8c"
      },
      "outputs": [
        {
          "output_type": "stream",
          "name": "stdout",
          "text": [
            "0.8693054124667534\n"
          ]
        }
      ],
      "source": [
        "print(df['log_length'].kurtosis()) # 전보다는 정규분포 모양에 가까운 뾰족함"
      ]
    },
    {
      "cell_type": "code",
      "execution_count": null,
      "id": "45fb1b03",
      "metadata": {
        "colab": {
          "base_uri": "https://localhost:8080/",
          "height": 354
        },
        "id": "45fb1b03",
        "outputId": "69de1959-9581-4d4f-d9bb-0f024e6099dc"
      },
      "outputs": [
        {
          "output_type": "stream",
          "name": "stderr",
          "text": [
            "/usr/local/lib/python3.7/dist-packages/seaborn/distributions.py:2619: FutureWarning: `distplot` is a deprecated function and will be removed in a future version. Please adapt your code to use either `displot` (a figure-level function with similar flexibility) or `histplot` (an axes-level function for histograms).\n",
            "  warnings.warn(msg, FutureWarning)\n"
          ]
        },
        {
          "output_type": "execute_result",
          "data": {
            "text/plain": [
              "<matplotlib.axes._subplots.AxesSubplot at 0x7fd2d4780290>"
            ]
          },
          "metadata": {},
          "execution_count": 313
        },
        {
          "output_type": "display_data",
          "data": {
            "text/plain": [
              "<Figure size 432x288 with 1 Axes>"
            ],
            "image/png": "[encoded data removed]"
          },
          "metadata": {
            "needs_background": "light"
          }
        }
      ],
      "source": [
        "sns.distplot(df['log_length']) #그래프상으로도 정규분포 모양과 가까워짐을 확인"
      ]
    },
    {
      "cell_type": "code",
      "execution_count": null,
      "id": "c5b08460",
      "metadata": {
        "colab": {
          "base_uri": "https://localhost:8080/"
        },
        "id": "c5b08460",
        "outputId": "2e499337-aae8-4591-aec0-5905872676fc"
      },
      "outputs": [
        {
          "output_type": "execute_result",
          "data": {
            "text/plain": [
              "0.8058689662287892"
            ]
          },
          "metadata": {},
          "execution_count": 314
        }
      ],
      "source": [
        "q1, q3 =np.percentile(df['log_length'],[25,75])\n",
        "\n",
        "q1 #제1사분위수\n",
        "\n",
        "q3 #제3사분위수\n",
        "\n",
        "iqr = q3-q1 #사분위수 범위\n",
        "\n",
        "lower_bound = q1 - (iqr*1.5) # Q1 - (iqr * 1.5) #이상치 기준점\n",
        "\n",
        "lower_bound #정보가 적은 댓글만 제거할 것이므로 lower_bound만 필요함."
      ]
    },
    {
      "cell_type": "code",
      "source": [
        "outlier_df = df[df['log_length']<=lower_bound]\n",
        "outlier_df.sample(5)"
      ],
      "metadata": {
        "colab": {
          "base_uri": "https://localhost:8080/",
          "height": 206
        },
        "id": "Jegn01w0XpUu",
        "outputId": "49f7138a-57d7-449e-89c5-e0b4ede22894"
      },
      "id": "Jegn01w0XpUu",
      "execution_count": null,
      "outputs": [
        {
          "output_type": "execute_result",
          "data": {
            "text/plain": [
              "     REPLY  length  log_length\n",
              "3988     ?       0    0.000000\n",
              "1529    ㄷㄷ       0    0.000000\n",
              "2144    1등       1    0.693147\n",
              "1359    ㅋㅋ       0    0.000000\n",
              "8392    ❤️       0    0.000000"
            ],
            "text/html": [
              "\n",
              "  <div id=\"df-8c957fd6-5135-470e-8545-7665441bab10\">\n",
              "    <div class=\"colab-df-container\">\n",
              "      <div>\n",
              "<style scoped>\n",
              "    .dataframe tbody tr th:only-of-type {\n",
              "        vertical-align: middle;\n",
              "    }\n",
              "\n",
              "    .dataframe tbody tr th {\n",
              "        vertical-align: top;\n",
              "    }\n",
              "\n",
              "    .dataframe thead th {\n",
              "        text-align: right;\n",
              "    }\n",
              "</style>\n",
              "<table border=\"1\" class=\"dataframe\">\n",
              "  <thead>\n",
              "    <tr style=\"text-align: right;\">\n",
              "      <th></th>\n",
              "      <th>REPLY</th>\n",
              "      <th>length</th>\n",
              "      <th>log_length</th>\n",
              "    </tr>\n",
              "  </thead>\n",
              "  <tbody>\n",
              "    <tr>\n",
              "      <th>3988</th>\n",
              "      <td>?</td>\n",
              "      <td>0</td>\n",
              "      <td>0.000000</td>\n",
              "    </tr>\n",
              "    <tr>\n",
              "      <th>1529</th>\n",
              "      <td>ㄷㄷ</td>\n",
              "      <td>0</td>\n",
              "      <td>0.000000</td>\n",
              "    </tr>\n",
              "    <tr>\n",
              "      <th>2144</th>\n",
              "      <td>1등</td>\n",
              "      <td>1</td>\n",
              "      <td>0.693147</td>\n",
              "    </tr>\n",
              "    <tr>\n",
              "      <th>1359</th>\n",
              "      <td>ㅋㅋ</td>\n",
              "      <td>0</td>\n",
              "      <td>0.000000</td>\n",
              "    </tr>\n",
              "    <tr>\n",
              "      <th>8392</th>\n",
              "      <td>❤️</td>\n",
              "      <td>0</td>\n",
              "      <td>0.000000</td>\n",
              "    </tr>\n",
              "  </tbody>\n",
              "</table>\n",
              "</div>\n",
              "      <button class=\"colab-df-convert\" onclick=\"convertToInteractive('df-8c957fd6-5135-470e-8545-7665441bab10')\"\n",
              "              title=\"Convert this dataframe to an interactive table.\"\n",
              "              style=\"display:none;\">\n",
              "        \n",
              "  <svg xmlns=\"http://www.w3.org/2000/svg\" height=\"24px\"viewBox=\"0 0 24 24\"\n",
              "       width=\"24px\">\n",
              "    <path d=\"M0 0h24v24H0V0z\" fill=\"none\"/>\n",
              "    <path d=\"M18.56 5.44l.94 2.06.94-2.06 2.06-.94-2.06-.94-.94-2.06-.94 2.06-2.06.94zm-11 1L8.5 8.5l.94-2.06 2.06-.94-2.06-.94L8.5 2.5l-.94 2.06-2.06.94zm10 10l.94 2.06.94-2.06 2.06-.94-2.06-.94-.94-2.06-.94 2.06-2.06.94z\"/><path d=\"M17.41 7.96l-1.37-1.37c-.4-.4-.92-.59-1.43-.59-.52 0-1.04.2-1.43.59L10.3 9.45l-7.72 7.72c-.78.78-.78 2.05 0 2.83L4 21.41c.39.39.9.59 1.41.59.51 0 1.02-.2 1.41-.59l7.78-7.78 2.81-2.81c.8-.78.8-2.07 0-2.86zM5.41 20L4 18.59l7.72-7.72 1.47 1.35L5.41 20z\"/>\n",
              "  </svg>\n",
              "      </button>\n",
              "      \n",
              "  <style>\n",
              "    .colab-df-container {\n",
              "      display:flex;\n",
              "      flex-wrap:wrap;\n",
              "      gap: 12px;\n",
              "    }\n",
              "\n",
              "    .colab-df-convert {\n",
              "      background-color: #E8F0FE;\n",
              "      border: none;\n",
              "      border-radius: 50%;\n",
              "      cursor: pointer;\n",
              "      display: none;\n",
              "      fill: #1967D2;\n",
              "      height: 32px;\n",
              "      padding: 0 0 0 0;\n",
              "      width: 32px;\n",
              "    }\n",
              "\n",
              "    .colab-df-convert:hover {\n",
              "      background-color: #E2EBFA;\n",
              "      box-shadow: 0px 1px 2px rgba(60, 64, 67, 0.3), 0px 1px 3px 1px rgba(60, 64, 67, 0.15);\n",
              "      fill: #174EA6;\n",
              "    }\n",
              "\n",
              "    [theme=dark] .colab-df-convert {\n",
              "      background-color: #3B4455;\n",
              "      fill: #D2E3FC;\n",
              "    }\n",
              "\n",
              "    [theme=dark] .colab-df-convert:hover {\n",
              "      background-color: #434B5C;\n",
              "      box-shadow: 0px 1px 3px 1px rgba(0, 0, 0, 0.15);\n",
              "      filter: drop-shadow(0px 1px 2px rgba(0, 0, 0, 0.3));\n",
              "      fill: #FFFFFF;\n",
              "    }\n",
              "  </style>\n",
              "\n",
              "      <script>\n",
              "        const buttonEl =\n",
              "          document.querySelector('#df-8c957fd6-5135-470e-8545-7665441bab10 button.colab-df-convert');\n",
              "        buttonEl.style.display =\n",
              "          google.colab.kernel.accessAllowed ? 'block' : 'none';\n",
              "\n",
              "        async function convertToInteractive(key) {\n",
              "          const element = document.querySelector('#df-8c957fd6-5135-470e-8545-7665441bab10');\n",
              "          const dataTable =\n",
              "            await google.colab.kernel.invokeFunction('convertToInteractive',\n",
              "                                                     [key], {});\n",
              "          if (!dataTable) return;\n",
              "\n",
              "          const docLinkHtml = 'Like what you see? Visit the ' +\n",
              "            '<a target=\"_blank\" href=https://colab.research.google.com/notebooks/data_table.ipynb>data table notebook</a>'\n",
              "            + ' to learn more about interactive tables.';\n",
              "          element.innerHTML = '';\n",
              "          dataTable['output_type'] = 'display_data';\n",
              "          await google.colab.output.renderOutput(dataTable, element);\n",
              "          const docLink = document.createElement('div');\n",
              "          docLink.innerHTML = docLinkHtml;\n",
              "          element.appendChild(docLink);\n",
              "        }\n",
              "      </script>\n",
              "    </div>\n",
              "  </div>\n",
              "  "
            ]
          },
          "metadata": {},
          "execution_count": 315
        }
      ]
    },
    {
      "cell_type": "code",
      "execution_count": null,
      "id": "d51e893c",
      "metadata": {
        "colab": {
          "base_uri": "https://localhost:8080/",
          "height": 424
        },
        "id": "d51e893c",
        "outputId": "2666555e-f913-4fcf-b06f-94c6c0eac961"
      },
      "outputs": [
        {
          "output_type": "execute_result",
          "data": {
            "text/plain": [
              "                                                  REPLY  length  log_length\n",
              "0     왜 모든걸 다할수있게 만들어놓고 외장메모리를 못쓰게해놨을까요ㅜㅠ10년간 갤럭시 주구...     418    6.037871\n",
              "1     이번 폴드와 플립 완성도가 상당히 높다 생각됩니다.시장에 영향이 있을정도로 많이 팔...      61    4.127134\n",
              "2     1년 뒤에 폴드4가 나오면 그땐 정말 완성형이 되지 않을까요? 이번에 폴드2 쓰다가...     104    4.653960\n",
              "3     판매량이 폴더시리즈 역대급 이네요. 없어서 못 팔 지경이라니, 앞으로 새로운 생태계...      52    3.970292\n",
              "4     역시 장단점을 고르게 언급해주셨네요.믿고 보는 잇섭!다만 핸드폰이 패드겸용으로 사용...     283    5.648974\n",
              "...                                                 ...     ...         ...\n",
              "9859                                              안녕하세요       5    1.791759\n",
              "9860                                                 대구       2    1.098612\n",
              "9861                                   올해부터는  낚시는 그만히세요      12    2.564949\n",
              "9862  개인적으로 아직까지는 바 형태의 스마트폰이 낫지 않나 싶어요. 폴드는 너무 두껍고 ...     161    5.087596\n",
              "9863  폴드 왜 쓰는질 모르겠음 휴대성+무게 개쒯이고대화면? 그냥 태블릿을 사서 써...밖...      67    4.219508\n",
              "\n",
              "[9864 rows x 3 columns]"
            ],
            "text/html": [
              "\n",
              "  <div id=\"df-dac65729-c54c-4be6-954d-84888b52f2af\">\n",
              "    <div class=\"colab-df-container\">\n",
              "      <div>\n",
              "<style scoped>\n",
              "    .dataframe tbody tr th:only-of-type {\n",
              "        vertical-align: middle;\n",
              "    }\n",
              "\n",
              "    .dataframe tbody tr th {\n",
              "        vertical-align: top;\n",
              "    }\n",
              "\n",
              "    .dataframe thead th {\n",
              "        text-align: right;\n",
              "    }\n",
              "</style>\n",
              "<table border=\"1\" class=\"dataframe\">\n",
              "  <thead>\n",
              "    <tr style=\"text-align: right;\">\n",
              "      <th></th>\n",
              "      <th>REPLY</th>\n",
              "      <th>length</th>\n",
              "      <th>log_length</th>\n",
              "    </tr>\n",
              "  </thead>\n",
              "  <tbody>\n",
              "    <tr>\n",
              "      <th>0</th>\n",
              "      <td>왜 모든걸 다할수있게 만들어놓고 외장메모리를 못쓰게해놨을까요ㅜㅠ10년간 갤럭시 주구...</td>\n",
              "      <td>418</td>\n",
              "      <td>6.037871</td>\n",
              "    </tr>\n",
              "    <tr>\n",
              "      <th>1</th>\n",
              "      <td>이번 폴드와 플립 완성도가 상당히 높다 생각됩니다.시장에 영향이 있을정도로 많이 팔...</td>\n",
              "      <td>61</td>\n",
              "      <td>4.127134</td>\n",
              "    </tr>\n",
              "    <tr>\n",
              "      <th>2</th>\n",
              "      <td>1년 뒤에 폴드4가 나오면 그땐 정말 완성형이 되지 않을까요? 이번에 폴드2 쓰다가...</td>\n",
              "      <td>104</td>\n",
              "      <td>4.653960</td>\n",
              "    </tr>\n",
              "    <tr>\n",
              "      <th>3</th>\n",
              "      <td>판매량이 폴더시리즈 역대급 이네요. 없어서 못 팔 지경이라니, 앞으로 새로운 생태계...</td>\n",
              "      <td>52</td>\n",
              "      <td>3.970292</td>\n",
              "    </tr>\n",
              "    <tr>\n",
              "      <th>4</th>\n",
              "      <td>역시 장단점을 고르게 언급해주셨네요.믿고 보는 잇섭!다만 핸드폰이 패드겸용으로 사용...</td>\n",
              "      <td>283</td>\n",
              "      <td>5.648974</td>\n",
              "    </tr>\n",
              "    <tr>\n",
              "      <th>...</th>\n",
              "      <td>...</td>\n",
              "      <td>...</td>\n",
              "      <td>...</td>\n",
              "    </tr>\n",
              "    <tr>\n",
              "      <th>9859</th>\n",
              "      <td>안녕하세요</td>\n",
              "      <td>5</td>\n",
              "      <td>1.791759</td>\n",
              "    </tr>\n",
              "    <tr>\n",
              "      <th>9860</th>\n",
              "      <td>대구</td>\n",
              "      <td>2</td>\n",
              "      <td>1.098612</td>\n",
              "    </tr>\n",
              "    <tr>\n",
              "      <th>9861</th>\n",
              "      <td>올해부터는  낚시는 그만히세요</td>\n",
              "      <td>12</td>\n",
              "      <td>2.564949</td>\n",
              "    </tr>\n",
              "    <tr>\n",
              "      <th>9862</th>\n",
              "      <td>개인적으로 아직까지는 바 형태의 스마트폰이 낫지 않나 싶어요. 폴드는 너무 두껍고 ...</td>\n",
              "      <td>161</td>\n",
              "      <td>5.087596</td>\n",
              "    </tr>\n",
              "    <tr>\n",
              "      <th>9863</th>\n",
              "      <td>폴드 왜 쓰는질 모르겠음 휴대성+무게 개쒯이고대화면? 그냥 태블릿을 사서 써...밖...</td>\n",
              "      <td>67</td>\n",
              "      <td>4.219508</td>\n",
              "    </tr>\n",
              "  </tbody>\n",
              "</table>\n",
              "<p>9864 rows × 3 columns</p>\n",
              "</div>\n",
              "      <button class=\"colab-df-convert\" onclick=\"convertToInteractive('df-dac65729-c54c-4be6-954d-84888b52f2af')\"\n",
              "              title=\"Convert this dataframe to an interactive table.\"\n",
              "              style=\"display:none;\">\n",
              "        \n",
              "  <svg xmlns=\"http://www.w3.org/2000/svg\" height=\"24px\"viewBox=\"0 0 24 24\"\n",
              "       width=\"24px\">\n",
              "    <path d=\"M0 0h24v24H0V0z\" fill=\"none\"/>\n",
              "    <path d=\"M18.56 5.44l.94 2.06.94-2.06 2.06-.94-2.06-.94-.94-2.06-.94 2.06-2.06.94zm-11 1L8.5 8.5l.94-2.06 2.06-.94-2.06-.94L8.5 2.5l-.94 2.06-2.06.94zm10 10l.94 2.06.94-2.06 2.06-.94-2.06-.94-.94-2.06-.94 2.06-2.06.94z\"/><path d=\"M17.41 7.96l-1.37-1.37c-.4-.4-.92-.59-1.43-.59-.52 0-1.04.2-1.43.59L10.3 9.45l-7.72 7.72c-.78.78-.78 2.05 0 2.83L4 21.41c.39.39.9.59 1.41.59.51 0 1.02-.2 1.41-.59l7.78-7.78 2.81-2.81c.8-.78.8-2.07 0-2.86zM5.41 20L4 18.59l7.72-7.72 1.47 1.35L5.41 20z\"/>\n",
              "  </svg>\n",
              "      </button>\n",
              "      \n",
              "  <style>\n",
              "    .colab-df-container {\n",
              "      display:flex;\n",
              "      flex-wrap:wrap;\n",
              "      gap: 12px;\n",
              "    }\n",
              "\n",
              "    .colab-df-convert {\n",
              "      background-color: #E8F0FE;\n",
              "      border: none;\n",
              "      border-radius: 50%;\n",
              "      cursor: pointer;\n",
              "      display: none;\n",
              "      fill: #1967D2;\n",
              "      height: 32px;\n",
              "      padding: 0 0 0 0;\n",
              "      width: 32px;\n",
              "    }\n",
              "\n",
              "    .colab-df-convert:hover {\n",
              "      background-color: #E2EBFA;\n",
              "      box-shadow: 0px 1px 2px rgba(60, 64, 67, 0.3), 0px 1px 3px 1px rgba(60, 64, 67, 0.15);\n",
              "      fill: #174EA6;\n",
              "    }\n",
              "\n",
              "    [theme=dark] .colab-df-convert {\n",
              "      background-color: #3B4455;\n",
              "      fill: #D2E3FC;\n",
              "    }\n",
              "\n",
              "    [theme=dark] .colab-df-convert:hover {\n",
              "      background-color: #434B5C;\n",
              "      box-shadow: 0px 1px 3px 1px rgba(0, 0, 0, 0.15);\n",
              "      filter: drop-shadow(0px 1px 2px rgba(0, 0, 0, 0.3));\n",
              "      fill: #FFFFFF;\n",
              "    }\n",
              "  </style>\n",
              "\n",
              "      <script>\n",
              "        const buttonEl =\n",
              "          document.querySelector('#df-dac65729-c54c-4be6-954d-84888b52f2af button.colab-df-convert');\n",
              "        buttonEl.style.display =\n",
              "          google.colab.kernel.accessAllowed ? 'block' : 'none';\n",
              "\n",
              "        async function convertToInteractive(key) {\n",
              "          const element = document.querySelector('#df-dac65729-c54c-4be6-954d-84888b52f2af');\n",
              "          const dataTable =\n",
              "            await google.colab.kernel.invokeFunction('convertToInteractive',\n",
              "                                                     [key], {});\n",
              "          if (!dataTable) return;\n",
              "\n",
              "          const docLinkHtml = 'Like what you see? Visit the ' +\n",
              "            '<a target=\"_blank\" href=https://colab.research.google.com/notebooks/data_table.ipynb>data table notebook</a>'\n",
              "            + ' to learn more about interactive tables.';\n",
              "          element.innerHTML = '';\n",
              "          dataTable['output_type'] = 'display_data';\n",
              "          await google.colab.output.renderOutput(dataTable, element);\n",
              "          const docLink = document.createElement('div');\n",
              "          docLink.innerHTML = docLinkHtml;\n",
              "          element.appendChild(docLink);\n",
              "        }\n",
              "      </script>\n",
              "    </div>\n",
              "  </div>\n",
              "  "
            ]
          },
          "metadata": {},
          "execution_count": 321
        }
      ],
      "source": [
        "new_df = df[df['log_length']>lower_bound] #lower_bound보다 낮은 수치의 데이터를 삭제\n",
        "new_df.index = [i for i in range(len(new_df))]\n",
        "new_df #이상치를 제거한 데이터"
      ]
    },
    {
      "cell_type": "code",
      "source": [
        "new_df['REPLY'] = new_df['REPLY'].apply(lambda x: str(x))\n",
        "new_df['length'] = new_df['length'].apply(lambda x: int(x))\n",
        "new_df['log_length'] = new_df['log_length'].apply(lambda x: float(x))"
      ],
      "metadata": {
        "colab": {
          "base_uri": "https://localhost:8080/"
        },
        "id": "o0Mc4d104QE4",
        "outputId": "d484349b-887f-45c1-fb03-efd3c177edff"
      },
      "id": "o0Mc4d104QE4",
      "execution_count": null,
      "outputs": [
        {
          "output_type": "stream",
          "name": "stderr",
          "text": [
            "/usr/local/lib/python3.7/dist-packages/ipykernel_launcher.py:1: SettingWithCopyWarning: \n",
            "A value is trying to be set on a copy of a slice from a DataFrame.\n",
            "Try using .loc[row_indexer,col_indexer] = value instead\n",
            "\n",
            "See the caveats in the documentation: https://pandas.pydata.org/pandas-docs/stable/user_guide/indexing.html#returning-a-view-versus-a-copy\n",
            "  \"\"\"Entry point for launching an IPython kernel.\n",
            "/usr/local/lib/python3.7/dist-packages/ipykernel_launcher.py:2: SettingWithCopyWarning: \n",
            "A value is trying to be set on a copy of a slice from a DataFrame.\n",
            "Try using .loc[row_indexer,col_indexer] = value instead\n",
            "\n",
            "See the caveats in the documentation: https://pandas.pydata.org/pandas-docs/stable/user_guide/indexing.html#returning-a-view-versus-a-copy\n",
            "  \n",
            "/usr/local/lib/python3.7/dist-packages/ipykernel_launcher.py:3: SettingWithCopyWarning: \n",
            "A value is trying to be set on a copy of a slice from a DataFrame.\n",
            "Try using .loc[row_indexer,col_indexer] = value instead\n",
            "\n",
            "See the caveats in the documentation: https://pandas.pydata.org/pandas-docs/stable/user_guide/indexing.html#returning-a-view-versus-a-copy\n",
            "  This is separate from the ipykernel package so we can avoid doing imports until\n"
          ]
        }
      ]
    },
    {
      "cell_type": "code",
      "source": [
        "new_df"
      ],
      "metadata": {
        "colab": {
          "base_uri": "https://localhost:8080/",
          "height": 424
        },
        "id": "ls2tjBDH59Zb",
        "outputId": "39effe40-5bbc-4c24-afb2-b5669286e8c2"
      },
      "id": "ls2tjBDH59Zb",
      "execution_count": null,
      "outputs": [
        {
          "output_type": "execute_result",
          "data": {
            "text/plain": [
              "                                                  REPLY  length  log_length\n",
              "0     왜 모든걸 다할수있게 만들어놓고 외장메모리를 못쓰게해놨을까요ㅜㅠ10년간 갤럭시 주구...     418    6.037871\n",
              "1     이번 폴드와 플립 완성도가 상당히 높다 생각됩니다.시장에 영향이 있을정도로 많이 팔...      61    4.127134\n",
              "2     1년 뒤에 폴드4가 나오면 그땐 정말 완성형이 되지 않을까요? 이번에 폴드2 쓰다가...     104    4.653960\n",
              "3     판매량이 폴더시리즈 역대급 이네요. 없어서 못 팔 지경이라니, 앞으로 새로운 생태계...      52    3.970292\n",
              "4     역시 장단점을 고르게 언급해주셨네요.믿고 보는 잇섭!다만 핸드폰이 패드겸용으로 사용...     283    5.648974\n",
              "...                                                 ...     ...         ...\n",
              "9859                                              안녕하세요       5    1.791759\n",
              "9860                                                 대구       2    1.098612\n",
              "9861                                   올해부터는  낚시는 그만히세요      12    2.564949\n",
              "9862  개인적으로 아직까지는 바 형태의 스마트폰이 낫지 않나 싶어요. 폴드는 너무 두껍고 ...     161    5.087596\n",
              "9863  폴드 왜 쓰는질 모르겠음 휴대성+무게 개쒯이고대화면? 그냥 태블릿을 사서 써...밖...      67    4.219508\n",
              "\n",
              "[9864 rows x 3 columns]"
            ],
            "text/html": [
              "\n",
              "  <div id=\"df-a74637f7-427d-443c-b801-496e74e830af\">\n",
              "    <div class=\"colab-df-container\">\n",
              "      <div>\n",
              "<style scoped>\n",
              "    .dataframe tbody tr th:only-of-type {\n",
              "        vertical-align: middle;\n",
              "    }\n",
              "\n",
              "    .dataframe tbody tr th {\n",
              "        vertical-align: top;\n",
              "    }\n",
              "\n",
              "    .dataframe thead th {\n",
              "        text-align: right;\n",
              "    }\n",
              "</style>\n",
              "<table border=\"1\" class=\"dataframe\">\n",
              "  <thead>\n",
              "    <tr style=\"text-align: right;\">\n",
              "      <th></th>\n",
              "      <th>REPLY</th>\n",
              "      <th>length</th>\n",
              "      <th>log_length</th>\n",
              "    </tr>\n",
              "  </thead>\n",
              "  <tbody>\n",
              "    <tr>\n",
              "      <th>0</th>\n",
              "      <td>왜 모든걸 다할수있게 만들어놓고 외장메모리를 못쓰게해놨을까요ㅜㅠ10년간 갤럭시 주구...</td>\n",
              "      <td>418</td>\n",
              "      <td>6.037871</td>\n",
              "    </tr>\n",
              "    <tr>\n",
              "      <th>1</th>\n",
              "      <td>이번 폴드와 플립 완성도가 상당히 높다 생각됩니다.시장에 영향이 있을정도로 많이 팔...</td>\n",
              "      <td>61</td>\n",
              "      <td>4.127134</td>\n",
              "    </tr>\n",
              "    <tr>\n",
              "      <th>2</th>\n",
              "      <td>1년 뒤에 폴드4가 나오면 그땐 정말 완성형이 되지 않을까요? 이번에 폴드2 쓰다가...</td>\n",
              "      <td>104</td>\n",
              "      <td>4.653960</td>\n",
              "    </tr>\n",
              "    <tr>\n",
              "      <th>3</th>\n",
              "      <td>판매량이 폴더시리즈 역대급 이네요. 없어서 못 팔 지경이라니, 앞으로 새로운 생태계...</td>\n",
              "      <td>52</td>\n",
              "      <td>3.970292</td>\n",
              "    </tr>\n",
              "    <tr>\n",
              "      <th>4</th>\n",
              "      <td>역시 장단점을 고르게 언급해주셨네요.믿고 보는 잇섭!다만 핸드폰이 패드겸용으로 사용...</td>\n",
              "      <td>283</td>\n",
              "      <td>5.648974</td>\n",
              "    </tr>\n",
              "    <tr>\n",
              "      <th>...</th>\n",
              "      <td>...</td>\n",
              "      <td>...</td>\n",
              "      <td>...</td>\n",
              "    </tr>\n",
              "    <tr>\n",
              "      <th>9859</th>\n",
              "      <td>안녕하세요</td>\n",
              "      <td>5</td>\n",
              "      <td>1.791759</td>\n",
              "    </tr>\n",
              "    <tr>\n",
              "      <th>9860</th>\n",
              "      <td>대구</td>\n",
              "      <td>2</td>\n",
              "      <td>1.098612</td>\n",
              "    </tr>\n",
              "    <tr>\n",
              "      <th>9861</th>\n",
              "      <td>올해부터는  낚시는 그만히세요</td>\n",
              "      <td>12</td>\n",
              "      <td>2.564949</td>\n",
              "    </tr>\n",
              "    <tr>\n",
              "      <th>9862</th>\n",
              "      <td>개인적으로 아직까지는 바 형태의 스마트폰이 낫지 않나 싶어요. 폴드는 너무 두껍고 ...</td>\n",
              "      <td>161</td>\n",
              "      <td>5.087596</td>\n",
              "    </tr>\n",
              "    <tr>\n",
              "      <th>9863</th>\n",
              "      <td>폴드 왜 쓰는질 모르겠음 휴대성+무게 개쒯이고대화면? 그냥 태블릿을 사서 써...밖...</td>\n",
              "      <td>67</td>\n",
              "      <td>4.219508</td>\n",
              "    </tr>\n",
              "  </tbody>\n",
              "</table>\n",
              "<p>9864 rows × 3 columns</p>\n",
              "</div>\n",
              "      <button class=\"colab-df-convert\" onclick=\"convertToInteractive('df-a74637f7-427d-443c-b801-496e74e830af')\"\n",
              "              title=\"Convert this dataframe to an interactive table.\"\n",
              "              style=\"display:none;\">\n",
              "        \n",
              "  <svg xmlns=\"http://www.w3.org/2000/svg\" height=\"24px\"viewBox=\"0 0 24 24\"\n",
              "       width=\"24px\">\n",
              "    <path d=\"M0 0h24v24H0V0z\" fill=\"none\"/>\n",
              "    <path d=\"M18.56 5.44l.94 2.06.94-2.06 2.06-.94-2.06-.94-.94-2.06-.94 2.06-2.06.94zm-11 1L8.5 8.5l.94-2.06 2.06-.94-2.06-.94L8.5 2.5l-.94 2.06-2.06.94zm10 10l.94 2.06.94-2.06 2.06-.94-2.06-.94-.94-2.06-.94 2.06-2.06.94z\"/><path d=\"M17.41 7.96l-1.37-1.37c-.4-.4-.92-.59-1.43-.59-.52 0-1.04.2-1.43.59L10.3 9.45l-7.72 7.72c-.78.78-.78 2.05 0 2.83L4 21.41c.39.39.9.59 1.41.59.51 0 1.02-.2 1.41-.59l7.78-7.78 2.81-2.81c.8-.78.8-2.07 0-2.86zM5.41 20L4 18.59l7.72-7.72 1.47 1.35L5.41 20z\"/>\n",
              "  </svg>\n",
              "      </button>\n",
              "      \n",
              "  <style>\n",
              "    .colab-df-container {\n",
              "      display:flex;\n",
              "      flex-wrap:wrap;\n",
              "      gap: 12px;\n",
              "    }\n",
              "\n",
              "    .colab-df-convert {\n",
              "      background-color: #E8F0FE;\n",
              "      border: none;\n",
              "      border-radius: 50%;\n",
              "      cursor: pointer;\n",
              "      display: none;\n",
              "      fill: #1967D2;\n",
              "      height: 32px;\n",
              "      padding: 0 0 0 0;\n",
              "      width: 32px;\n",
              "    }\n",
              "\n",
              "    .colab-df-convert:hover {\n",
              "      background-color: #E2EBFA;\n",
              "      box-shadow: 0px 1px 2px rgba(60, 64, 67, 0.3), 0px 1px 3px 1px rgba(60, 64, 67, 0.15);\n",
              "      fill: #174EA6;\n",
              "    }\n",
              "\n",
              "    [theme=dark] .colab-df-convert {\n",
              "      background-color: #3B4455;\n",
              "      fill: #D2E3FC;\n",
              "    }\n",
              "\n",
              "    [theme=dark] .colab-df-convert:hover {\n",
              "      background-color: #434B5C;\n",
              "      box-shadow: 0px 1px 3px 1px rgba(0, 0, 0, 0.15);\n",
              "      filter: drop-shadow(0px 1px 2px rgba(0, 0, 0, 0.3));\n",
              "      fill: #FFFFFF;\n",
              "    }\n",
              "  </style>\n",
              "\n",
              "      <script>\n",
              "        const buttonEl =\n",
              "          document.querySelector('#df-a74637f7-427d-443c-b801-496e74e830af button.colab-df-convert');\n",
              "        buttonEl.style.display =\n",
              "          google.colab.kernel.accessAllowed ? 'block' : 'none';\n",
              "\n",
              "        async function convertToInteractive(key) {\n",
              "          const element = document.querySelector('#df-a74637f7-427d-443c-b801-496e74e830af');\n",
              "          const dataTable =\n",
              "            await google.colab.kernel.invokeFunction('convertToInteractive',\n",
              "                                                     [key], {});\n",
              "          if (!dataTable) return;\n",
              "\n",
              "          const docLinkHtml = 'Like what you see? Visit the ' +\n",
              "            '<a target=\"_blank\" href=https://colab.research.google.com/notebooks/data_table.ipynb>data table notebook</a>'\n",
              "            + ' to learn more about interactive tables.';\n",
              "          element.innerHTML = '';\n",
              "          dataTable['output_type'] = 'display_data';\n",
              "          await google.colab.output.renderOutput(dataTable, element);\n",
              "          const docLink = document.createElement('div');\n",
              "          docLink.innerHTML = docLinkHtml;\n",
              "          element.appendChild(docLink);\n",
              "        }\n",
              "      </script>\n",
              "    </div>\n",
              "  </div>\n",
              "  "
            ]
          },
          "metadata": {},
          "execution_count": 337
        }
      ]
    },
    {
      "cell_type": "code",
      "execution_count": null,
      "id": "fdcd7fb2",
      "metadata": {
        "id": "fdcd7fb2"
      },
      "outputs": [],
      "source": [
        "new_df.to_csv('/content/drive/MyDrive/graduation/new_df_fold.csv',index=False)"
      ]
    },
    {
      "cell_type": "code",
      "execution_count": null,
      "id": "dafb616e",
      "metadata": {
        "id": "dafb616e",
        "colab": {
          "base_uri": "https://localhost:8080/",
          "height": 424
        },
        "outputId": "39011d6f-9509-4887-e0e2-b545e1a09ee8"
      },
      "outputs": [
        {
          "output_type": "execute_result",
          "data": {
            "text/plain": [
              "                                                  REPLY  length  log_length\n",
              "0     왜 모든걸 다할수있게 만들어놓고 외장메모리를 못쓰게해놨을까요ㅜㅠ10년간 갤럭시 주구...     418    6.037871\n",
              "1     이번 폴드와 플립 완성도가 상당히 높다 생각됩니다.시장에 영향이 있을정도로 많이 팔...      61    4.127134\n",
              "2     1년 뒤에 폴드4가 나오면 그땐 정말 완성형이 되지 않을까요? 이번에 폴드2 쓰다가...     104    4.653960\n",
              "3     판매량이 폴더시리즈 역대급 이네요. 없어서 못 팔 지경이라니, 앞으로 새로운 생태계...      52    3.970292\n",
              "4     역시 장단점을 고르게 언급해주셨네요.믿고 보는 잇섭!다만 핸드폰이 패드겸용으로 사용...     283    5.648974\n",
              "...                                                 ...     ...         ...\n",
              "9859                                              안녕하세요       5    1.791759\n",
              "9860                                                 대구       2    1.098612\n",
              "9861                                   올해부터는  낚시는 그만히세요      12    2.564949\n",
              "9862  개인적으로 아직까지는 바 형태의 스마트폰이 낫지 않나 싶어요. 폴드는 너무 두껍고 ...     161    5.087596\n",
              "9863  폴드 왜 쓰는질 모르겠음 휴대성+무게 개쒯이고대화면? 그냥 태블릿을 사서 써...밖...      67    4.219508\n",
              "\n",
              "[9864 rows x 3 columns]"
            ],
            "text/html": [
              "\n",
              "  <div id=\"df-b36fd494-81d4-42b8-8467-82e2652c0cf5\">\n",
              "    <div class=\"colab-df-container\">\n",
              "      <div>\n",
              "<style scoped>\n",
              "    .dataframe tbody tr th:only-of-type {\n",
              "        vertical-align: middle;\n",
              "    }\n",
              "\n",
              "    .dataframe tbody tr th {\n",
              "        vertical-align: top;\n",
              "    }\n",
              "\n",
              "    .dataframe thead th {\n",
              "        text-align: right;\n",
              "    }\n",
              "</style>\n",
              "<table border=\"1\" class=\"dataframe\">\n",
              "  <thead>\n",
              "    <tr style=\"text-align: right;\">\n",
              "      <th></th>\n",
              "      <th>REPLY</th>\n",
              "      <th>length</th>\n",
              "      <th>log_length</th>\n",
              "    </tr>\n",
              "  </thead>\n",
              "  <tbody>\n",
              "    <tr>\n",
              "      <th>0</th>\n",
              "      <td>왜 모든걸 다할수있게 만들어놓고 외장메모리를 못쓰게해놨을까요ㅜㅠ10년간 갤럭시 주구...</td>\n",
              "      <td>418</td>\n",
              "      <td>6.037871</td>\n",
              "    </tr>\n",
              "    <tr>\n",
              "      <th>1</th>\n",
              "      <td>이번 폴드와 플립 완성도가 상당히 높다 생각됩니다.시장에 영향이 있을정도로 많이 팔...</td>\n",
              "      <td>61</td>\n",
              "      <td>4.127134</td>\n",
              "    </tr>\n",
              "    <tr>\n",
              "      <th>2</th>\n",
              "      <td>1년 뒤에 폴드4가 나오면 그땐 정말 완성형이 되지 않을까요? 이번에 폴드2 쓰다가...</td>\n",
              "      <td>104</td>\n",
              "      <td>4.653960</td>\n",
              "    </tr>\n",
              "    <tr>\n",
              "      <th>3</th>\n",
              "      <td>판매량이 폴더시리즈 역대급 이네요. 없어서 못 팔 지경이라니, 앞으로 새로운 생태계...</td>\n",
              "      <td>52</td>\n",
              "      <td>3.970292</td>\n",
              "    </tr>\n",
              "    <tr>\n",
              "      <th>4</th>\n",
              "      <td>역시 장단점을 고르게 언급해주셨네요.믿고 보는 잇섭!다만 핸드폰이 패드겸용으로 사용...</td>\n",
              "      <td>283</td>\n",
              "      <td>5.648974</td>\n",
              "    </tr>\n",
              "    <tr>\n",
              "      <th>...</th>\n",
              "      <td>...</td>\n",
              "      <td>...</td>\n",
              "      <td>...</td>\n",
              "    </tr>\n",
              "    <tr>\n",
              "      <th>9859</th>\n",
              "      <td>안녕하세요</td>\n",
              "      <td>5</td>\n",
              "      <td>1.791759</td>\n",
              "    </tr>\n",
              "    <tr>\n",
              "      <th>9860</th>\n",
              "      <td>대구</td>\n",
              "      <td>2</td>\n",
              "      <td>1.098612</td>\n",
              "    </tr>\n",
              "    <tr>\n",
              "      <th>9861</th>\n",
              "      <td>올해부터는  낚시는 그만히세요</td>\n",
              "      <td>12</td>\n",
              "      <td>2.564949</td>\n",
              "    </tr>\n",
              "    <tr>\n",
              "      <th>9862</th>\n",
              "      <td>개인적으로 아직까지는 바 형태의 스마트폰이 낫지 않나 싶어요. 폴드는 너무 두껍고 ...</td>\n",
              "      <td>161</td>\n",
              "      <td>5.087596</td>\n",
              "    </tr>\n",
              "    <tr>\n",
              "      <th>9863</th>\n",
              "      <td>폴드 왜 쓰는질 모르겠음 휴대성+무게 개쒯이고대화면? 그냥 태블릿을 사서 써...밖...</td>\n",
              "      <td>67</td>\n",
              "      <td>4.219508</td>\n",
              "    </tr>\n",
              "  </tbody>\n",
              "</table>\n",
              "<p>9864 rows × 3 columns</p>\n",
              "</div>\n",
              "      <button class=\"colab-df-convert\" onclick=\"convertToInteractive('df-b36fd494-81d4-42b8-8467-82e2652c0cf5')\"\n",
              "              title=\"Convert this dataframe to an interactive table.\"\n",
              "              style=\"display:none;\">\n",
              "        \n",
              "  <svg xmlns=\"http://www.w3.org/2000/svg\" height=\"24px\"viewBox=\"0 0 24 24\"\n",
              "       width=\"24px\">\n",
              "    <path d=\"M0 0h24v24H0V0z\" fill=\"none\"/>\n",
              "    <path d=\"M18.56 5.44l.94 2.06.94-2.06 2.06-.94-2.06-.94-.94-2.06-.94 2.06-2.06.94zm-11 1L8.5 8.5l.94-2.06 2.06-.94-2.06-.94L8.5 2.5l-.94 2.06-2.06.94zm10 10l.94 2.06.94-2.06 2.06-.94-2.06-.94-.94-2.06-.94 2.06-2.06.94z\"/><path d=\"M17.41 7.96l-1.37-1.37c-.4-.4-.92-.59-1.43-.59-.52 0-1.04.2-1.43.59L10.3 9.45l-7.72 7.72c-.78.78-.78 2.05 0 2.83L4 21.41c.39.39.9.59 1.41.59.51 0 1.02-.2 1.41-.59l7.78-7.78 2.81-2.81c.8-.78.8-2.07 0-2.86zM5.41 20L4 18.59l7.72-7.72 1.47 1.35L5.41 20z\"/>\n",
              "  </svg>\n",
              "      </button>\n",
              "      \n",
              "  <style>\n",
              "    .colab-df-container {\n",
              "      display:flex;\n",
              "      flex-wrap:wrap;\n",
              "      gap: 12px;\n",
              "    }\n",
              "\n",
              "    .colab-df-convert {\n",
              "      background-color: #E8F0FE;\n",
              "      border: none;\n",
              "      border-radius: 50%;\n",
              "      cursor: pointer;\n",
              "      display: none;\n",
              "      fill: #1967D2;\n",
              "      height: 32px;\n",
              "      padding: 0 0 0 0;\n",
              "      width: 32px;\n",
              "    }\n",
              "\n",
              "    .colab-df-convert:hover {\n",
              "      background-color: #E2EBFA;\n",
              "      box-shadow: 0px 1px 2px rgba(60, 64, 67, 0.3), 0px 1px 3px 1px rgba(60, 64, 67, 0.15);\n",
              "      fill: #174EA6;\n",
              "    }\n",
              "\n",
              "    [theme=dark] .colab-df-convert {\n",
              "      background-color: #3B4455;\n",
              "      fill: #D2E3FC;\n",
              "    }\n",
              "\n",
              "    [theme=dark] .colab-df-convert:hover {\n",
              "      background-color: #434B5C;\n",
              "      box-shadow: 0px 1px 3px 1px rgba(0, 0, 0, 0.15);\n",
              "      filter: drop-shadow(0px 1px 2px rgba(0, 0, 0, 0.3));\n",
              "      fill: #FFFFFF;\n",
              "    }\n",
              "  </style>\n",
              "\n",
              "      <script>\n",
              "        const buttonEl =\n",
              "          document.querySelector('#df-b36fd494-81d4-42b8-8467-82e2652c0cf5 button.colab-df-convert');\n",
              "        buttonEl.style.display =\n",
              "          google.colab.kernel.accessAllowed ? 'block' : 'none';\n",
              "\n",
              "        async function convertToInteractive(key) {\n",
              "          const element = document.querySelector('#df-b36fd494-81d4-42b8-8467-82e2652c0cf5');\n",
              "          const dataTable =\n",
              "            await google.colab.kernel.invokeFunction('convertToInteractive',\n",
              "                                                     [key], {});\n",
              "          if (!dataTable) return;\n",
              "\n",
              "          const docLinkHtml = 'Like what you see? Visit the ' +\n",
              "            '<a target=\"_blank\" href=https://colab.research.google.com/notebooks/data_table.ipynb>data table notebook</a>'\n",
              "            + ' to learn more about interactive tables.';\n",
              "          element.innerHTML = '';\n",
              "          dataTable['output_type'] = 'display_data';\n",
              "          await google.colab.output.renderOutput(dataTable, element);\n",
              "          const docLink = document.createElement('div');\n",
              "          docLink.innerHTML = docLinkHtml;\n",
              "          element.appendChild(docLink);\n",
              "        }\n",
              "      </script>\n",
              "    </div>\n",
              "  </div>\n",
              "  "
            ]
          },
          "metadata": {},
          "execution_count": 341
        }
      ],
      "source": [
        "pd.read_csv('new_df_fold.csv', lineterminator='\\n')"
      ]
    },
    {
      "cell_type": "code",
      "source": [
        ""
      ],
      "metadata": {
        "id": "B0xeMoKn2DMJ"
      },
      "id": "B0xeMoKn2DMJ",
      "execution_count": null,
      "outputs": []
    }
  ],
  "metadata": {
    "kernelspec": {
      "display_name": "Python 3",
      "language": "python",
      "name": "python3"
    },
    "language_info": {
      "codemirror_mode": {
        "name": "ipython",
        "version": 3
      },
      "file_extension": ".py",
      "mimetype": "text/x-python",
      "name": "python",
      "nbconvert_exporter": "python",
      "pygments_lexer": "ipython3",
      "version": "3.8.8"
    },
    "colab": {
      "name": "zfold3 댓글 이상치 제거.ipynb",
      "provenance": [],
      "collapsed_sections": []
    }
  },
  "nbformat": 4,
  "nbformat_minor": 5
}