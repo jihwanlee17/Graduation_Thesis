{
  "cells": [
    {
      "cell_type": "code",
      "execution_count": null,
      "id": "7fa7d77c",
      "metadata": {
        "id": "7fa7d77c"
      },
      "outputs": [],
      "source": [
        "###댓글 수집하기"
      ]
    },
    {
      "cell_type": "code",
      "execution_count": null,
      "id": "382cc2b2",
      "metadata": {
        "id": "382cc2b2",
        "outputId": "136403a6-243f-4e00-8998-b7b0ead915e1"
      },
      "outputs": [
        {
          "name": "stderr",
          "output_type": "stream",
          "text": [
            "<ipython-input-31-375eb186f8d1>:11: DeprecationWarning: executable_path has been deprecated, please pass in a Service object\n",
            "  driver = wd.Chrome(executable_path=\"C:\\chromedriver.exe\", options=options)\n"
          ]
        }
      ],
      "source": [
        "#패키지 불러오기\n",
        "from selenium import webdriver as wd\n",
        "from bs4 import BeautifulSoup\n",
        "import time\n",
        "import re\n",
        "import pandas as pd\n",
        "\n",
        "#기본 설정\n",
        "options = wd.ChromeOptions()\n",
        "options.add_experimental_option(\"excludeSwitches\", [\"enable-logging\"]) #Error 다루기\n",
        "driver = wd.Chrome(executable_path=\"C:\\chromedriver.exe\", options=options)\n",
        "driver.set_window_size(800, 600) #크롬 창 사이즈 조절 -> 창 사이즈 너무 크면 댓글 수집 불가능\n",
        "url = 'https://www.youtube.com/watch?v=SaSONEB9t_0' #유튜브 영상 웹사이트 주소\n",
        "driver.get(url) #영상 띄우기\n",
        "\n",
        "#스크롤 내리기\n",
        "last_page_height = driver.execute_script(\"return document.documentElement.scrollHeight\")\n",
        "\n",
        "while True: \n",
        "    driver.execute_script(\"window.scrollTo(0, document.documentElement.scrollHeight);\")\n",
        "    time.sleep(3.0)\n",
        "    new_page_height = driver.execute_script(\"return document.documentElement.scrollHeight\")\n",
        "    if new_page_height == last_page_height:\n",
        "        time.sleep(3.0)\n",
        "        if new_page_height == driver.execute_script(\"return document.documentElement.scrollHeight\"):\n",
        "            break\n",
        "    else:\n",
        "        last_page_height = new_page_height\n",
        "\n",
        "#파싱\n",
        "source = driver.page_source     \n",
        "soup = BeautifulSoup(source, 'lxml')\n",
        "\n",
        "#데이터 저장\n",
        "com = []\n",
        "comments = soup.find_all(\"ytd-comment-thread-renderer\", class_ = \"style-scope ytd-item-section-renderer\")\n",
        "\n",
        "#댓글 저장\n",
        "for comment in comments :\n",
        "    \n",
        "    #댓글 내용\n",
        "    com_temp = str(comment.find(\"yt-formatted-string\", id=\"content-text\").text)\n",
        "    com_temp = com_temp.replace('\\n', '')\n",
        "    com.append(com_temp)\n",
        "    \n",
        "df = pd.DataFrame({\"REPLY\" : com})\n"
      ]
    },
    {
      "cell_type": "code",
      "execution_count": null,
      "id": "be34a63b",
      "metadata": {
        "id": "be34a63b"
      },
      "outputs": [],
      "source": [
        "#df = df[:-1] #제품 후기와 관련 없는, 영상 제작자의 게시글"
      ]
    },
    {
      "cell_type": "code",
      "execution_count": null,
      "id": "9a865478",
      "metadata": {
        "id": "9a865478"
      },
      "outputs": [],
      "source": [
        "df.to_csv('fold38', index=False) #수집한 댓글 파일 저장"
      ]
    },
    {
      "cell_type": "code",
      "execution_count": null,
      "id": "4504d1c5",
      "metadata": {
        "scrolled": true,
        "id": "4504d1c5",
        "outputId": "9b81c5d8-d6a5-48bd-8467-4b8cf1aebe98"
      },
      "outputs": [
        {
          "data": {
            "text/html": [
              "<div>\n",
              "<style scoped>\n",
              "    .dataframe tbody tr th:only-of-type {\n",
              "        vertical-align: middle;\n",
              "    }\n",
              "\n",
              "    .dataframe tbody tr th {\n",
              "        vertical-align: top;\n",
              "    }\n",
              "\n",
              "    .dataframe thead th {\n",
              "        text-align: right;\n",
              "    }\n",
              "</style>\n",
              "<table border=\"1\" class=\"dataframe\">\n",
              "  <thead>\n",
              "    <tr style=\"text-align: right;\">\n",
              "      <th></th>\n",
              "      <th>REPLY</th>\n",
              "    </tr>\n",
              "  </thead>\n",
              "  <tbody>\n",
              "    <tr>\n",
              "      <th>1</th>\n",
              "      <td>진짜 쉽게 설명해주셔서 잘 봤습니다 감사합니다</td>\n",
              "    </tr>\n",
              "    <tr>\n",
              "      <th>2</th>\n",
              "      <td>경석이형 리뷰하는데 계속 폴드를 화살코가 가리키고 있어요 ㅋㅋㅋ광고효과 예술</td>\n",
              "    </tr>\n",
              "    <tr>\n",
              "      <th>3</th>\n",
              "      <td>경석형님 폰 보시는 눈 있군요저도 폴드3 사고 대만족 중입니다이전 폰이 노트8인 것...</td>\n",
              "    </tr>\n",
              "    <tr>\n",
              "      <th>4</th>\n",
              "      <td>새 폰 구매하셔서 너무 좋아하시는 듯 합니다!~^^저도 z플립 구매했습니다~ㅎㅎ신문...</td>\n",
              "    </tr>\n",
              "    <tr>\n",
              "      <th>5</th>\n",
              "      <td>저도 이번에 바꼈어요 ...너무 좋아요. 이북  읽기도 너무 좋고 멀티로 여러 창 ...</td>\n",
              "    </tr>\n",
              "    <tr>\n",
              "      <th>6</th>\n",
              "      <td>삼성 폴더블폰 재고가 없을 정도로 인기가 대단하군요~    😲</td>\n",
              "    </tr>\n",
              "    <tr>\n",
              "      <th>7</th>\n",
              "      <td>만족해하시는 모습 넘 귀여우시네요 ㅠㅠ 테크유튜버들보다 훨 와닿았어요 잘봤어요!!!</td>\n",
              "    </tr>\n",
              "    <tr>\n",
              "      <th>8</th>\n",
              "      <td>좋은 정보 감사드립니다 👍👍👍</td>\n",
              "    </tr>\n",
              "    <tr>\n",
              "      <th>9</th>\n",
              "      <td>지금 막 구입하려는 중인데 도움 되었어요 감사합니다!!^^</td>\n",
              "    </tr>\n",
              "    <tr>\n",
              "      <th>10</th>\n",
              "      <td>저도 노트9 사용하고 있는데 UDC가 더 완벽해진다면 넘어가려고 존버 하고 있습니다^^</td>\n",
              "    </tr>\n",
              "    <tr>\n",
              "      <th>11</th>\n",
              "      <td>노트8..ㅋㅋㅋ형님 오래 쓰셨군요 Z폴드 저도 쓰는데 조아영 딘디 쓰세용 ㅋ</td>\n",
              "    </tr>\n",
              "    <tr>\n",
              "      <th>12</th>\n",
              "      <td>참 유익한 리뷰네요지금 폰도 2년 되가는데 저도 이번에 한번 바꿔봐야겠어요</td>\n",
              "    </tr>\n",
              "    <tr>\n",
              "      <th>13</th>\n",
              "      <td>키보드 설정 하는거 있어요 바꾸시면 되요 그럼 전에 쓰시던거랑 자판 똑같아요^^</td>\n",
              "    </tr>\n",
              "    <tr>\n",
              "      <th>14</th>\n",
              "      <td>폴드 리뷰도 에듀윌 서경석!!</td>\n",
              "    </tr>\n",
              "    <tr>\n",
              "      <th>15</th>\n",
              "      <td>선배님 모습에서 어린아이의 행복한 모습이 보기 좋습니당.^^</td>\n",
              "    </tr>\n",
              "    <tr>\n",
              "      <th>16</th>\n",
              "      <td>밝기를 거의 최대로 두고 쓰시나봐요 저는 s8인데 아직도 번인현상이 거의 없어서..</td>\n",
              "    </tr>\n",
              "    <tr>\n",
              "      <th>17</th>\n",
              "      <td>와~-~선댓글  후 시청 하겠습니다</td>\n",
              "    </tr>\n",
              "    <tr>\n",
              "      <th>18</th>\n",
              "      <td>슬림아머 추천드려요튼튼하고 좋아요</td>\n",
              "    </tr>\n",
              "    <tr>\n",
              "      <th>19</th>\n",
              "      <td>유튜브  방송  볼때  최고</td>\n",
              "    </tr>\n",
              "    <tr>\n",
              "      <th>20</th>\n",
              "      <td>폴드3는 역시 실버지</td>\n",
              "    </tr>\n",
              "    <tr>\n",
              "      <th>21</th>\n",
              "      <td>아라리 케이스 추천합니다. 쿠팡에있어요</td>\n",
              "    </tr>\n",
              "    <tr>\n",
              "      <th>22</th>\n",
              "      <td>선배님 출시일이 2011년으로 되어있어요?^^</td>\n",
              "    </tr>\n",
              "    <tr>\n",
              "      <th>23</th>\n",
              "      <td>폴드3가 10년전에 출시했었군요~~~ 아~~~펜기능 마니 쓰시면 메모한 거 좀 보여...</td>\n",
              "    </tr>\n",
              "    <tr>\n",
              "      <th>24</th>\n",
              "      <td>폴드3로 보고있쥬~</td>\n",
              "    </tr>\n",
              "    <tr>\n",
              "      <th>25</th>\n",
              "      <td>어떤유튜버는 코로 지문 잠금해제하는 영상도 올렸든데...코로 싸인같은거 하는 영상이...</td>\n",
              "    </tr>\n",
              "    <tr>\n",
              "      <th>26</th>\n",
              "      <td>흠...일반인의 리뷰 잘 보고 갑니다^^근데 UDC는 좀 표가 많이 나긴 하더라고요...</td>\n",
              "    </tr>\n",
              "    <tr>\n",
              "      <th>27</th>\n",
              "      <td>피부가 참좋으시네요;; 10년전이나 지금이나 그대로세요</td>\n",
              "    </tr>\n",
              "    <tr>\n",
              "      <th>28</th>\n",
              "      <td>체감무게는 보통 누워서 폰 보다가 놓쳐서 광대가 부러지는 소리가 나거나 뚝배기에 떨...</td>\n",
              "    </tr>\n",
              "  </tbody>\n",
              "</table>\n",
              "</div>"
            ],
            "text/plain": [
              "                                                REPLY\n",
              "1                           진짜 쉽게 설명해주셔서 잘 봤습니다 감사합니다\n",
              "2          경석이형 리뷰하는데 계속 폴드를 화살코가 가리키고 있어요 ㅋㅋㅋ광고효과 예술\n",
              "3   경석형님 폰 보시는 눈 있군요저도 폴드3 사고 대만족 중입니다이전 폰이 노트8인 것...\n",
              "4   새 폰 구매하셔서 너무 좋아하시는 듯 합니다!~^^저도 z플립 구매했습니다~ㅎㅎ신문...\n",
              "5   저도 이번에 바꼈어요 ...너무 좋아요. 이북  읽기도 너무 좋고 멀티로 여러 창 ...\n",
              "6                  삼성 폴더블폰 재고가 없을 정도로 인기가 대단하군요~    😲\n",
              "7      만족해하시는 모습 넘 귀여우시네요 ㅠㅠ 테크유튜버들보다 훨 와닿았어요 잘봤어요!!!\n",
              "8                                    좋은 정보 감사드립니다 👍👍👍\n",
              "9                    지금 막 구입하려는 중인데 도움 되었어요 감사합니다!!^^\n",
              "10   저도 노트9 사용하고 있는데 UDC가 더 완벽해진다면 넘어가려고 존버 하고 있습니다^^\n",
              "11         노트8..ㅋㅋㅋ형님 오래 쓰셨군요 Z폴드 저도 쓰는데 조아영 딘디 쓰세용 ㅋ\n",
              "12          참 유익한 리뷰네요지금 폰도 2년 되가는데 저도 이번에 한번 바꿔봐야겠어요\n",
              "13       키보드 설정 하는거 있어요 바꾸시면 되요 그럼 전에 쓰시던거랑 자판 똑같아요^^\n",
              "14                                   폴드 리뷰도 에듀윌 서경석!!\n",
              "15                  선배님 모습에서 어린아이의 행복한 모습이 보기 좋습니당.^^\n",
              "16     밝기를 거의 최대로 두고 쓰시나봐요 저는 s8인데 아직도 번인현상이 거의 없어서..\n",
              "17                                와~-~선댓글  후 시청 하겠습니다\n",
              "18                                 슬림아머 추천드려요튼튼하고 좋아요\n",
              "19                                    유튜브  방송  볼때  최고\n",
              "20                                        폴드3는 역시 실버지\n",
              "21                              아라리 케이스 추천합니다. 쿠팡에있어요\n",
              "22                          선배님 출시일이 2011년으로 되어있어요?^^\n",
              "23  폴드3가 10년전에 출시했었군요~~~ 아~~~펜기능 마니 쓰시면 메모한 거 좀 보여...\n",
              "24                                         폴드3로 보고있쥬~\n",
              "25  어떤유튜버는 코로 지문 잠금해제하는 영상도 올렸든데...코로 싸인같은거 하는 영상이...\n",
              "26  흠...일반인의 리뷰 잘 보고 갑니다^^근데 UDC는 좀 표가 많이 나긴 하더라고요...\n",
              "27                     피부가 참좋으시네요;; 10년전이나 지금이나 그대로세요\n",
              "28  체감무게는 보통 누워서 폰 보다가 놓쳐서 광대가 부러지는 소리가 나거나 뚝배기에 떨..."
            ]
          },
          "execution_count": 42,
          "metadata": {},
          "output_type": "execute_result"
        }
      ],
      "source": [
        "df"
      ]
    },
    {
      "cell_type": "code",
      "execution_count": null,
      "id": "728248c0",
      "metadata": {
        "id": "728248c0"
      },
      "outputs": [],
      "source": [
        "#_______________________________________________________________________________________________"
      ]
    },
    {
      "cell_type": "code",
      "execution_count": null,
      "id": "3634de42",
      "metadata": {
        "id": "3634de42"
      },
      "outputs": [],
      "source": [
        "# 파일 합치기"
      ]
    },
    {
      "cell_type": "code",
      "execution_count": null,
      "id": "a1a86146",
      "metadata": {
        "id": "a1a86146"
      },
      "outputs": [],
      "source": [
        "import os\n",
        "\n",
        "#현재 경로에 있는 파일들의 이름을 리스트로 보여줌\n",
        "files = os.listdir(r'./')\n",
        "\n",
        "#파일 이름중 flip 또는 fold로 구성된 파일 이름으로 구성된 리스트를 따로 만듦\n",
        "flip_fold=[file for file in files if 'fold' in file or 'flip' in file]\n",
        "\n",
        "#flip, fold별로 파일 경로를 담은 리스트 각각 생성\n",
        "flip_paths = []\n",
        "fold_paths = []\n",
        "for file in flip_fold:\n",
        "    if 'flip' in file:\n",
        "        flip_paths.append(os.path.join('./', file))\n",
        "    if 'fold' in file:\n",
        "        fold_paths.append(os.path.join('./', file))\n",
        "\n",
        "### flip 파일들 합치고 저장하기\n",
        "#각 파일을 불러와서 리스트의 원소로 담기\n",
        "flip_file_list = [pd.DataFrame(pd.read_csv(file)) for file in flip_paths]    \n",
        "    \n",
        "#파일을 모두 합치기\n",
        "new_df=pd.concat(flip_file_list)\n",
        "\n",
        "#인덱스를 댓글 개수만큼 변환\n",
        "new_df.index = [i for i in range(len(new_df))]\n",
        "\n",
        "#파일 이름 설정 후 현재 경로에 저장하기\n",
        "new_df.to_csv('all_flip.csv', index=False)\n",
        "\n",
        "#_______________________________________________________________________________________________\n",
        "\n",
        "### fold 파일들 합치고 저장하기\n",
        "#각 파일을 불러와서 리스트의 원소로 담기\n",
        "fold_file_list = [pd.DataFrame(pd.read_csv(file)) for file in fold_paths]\n",
        "    \n",
        "#파일을 모두 합치기\n",
        "new_df2=pd.concat(fold_file_list)\n",
        "\n",
        "#인덱스를 댓글 개수만큼 변환\n",
        "new_df2.index = [i for i in range(len(new_df2))]\n",
        "\n",
        "#파일 이름 설정 후 현재 경로에 저장하기\n",
        "new_df2.to_csv('all_fold.csv', index=False)"
      ]
    },
    {
      "cell_type": "code",
      "execution_count": null,
      "id": "79ac49e0",
      "metadata": {
        "id": "79ac49e0"
      },
      "outputs": [],
      "source": [
        ""
      ]
    }
  ],
  "metadata": {
    "kernelspec": {
      "display_name": "Python 3",
      "language": "python",
      "name": "python3"
    },
    "language_info": {
      "codemirror_mode": {
        "name": "ipython",
        "version": 3
      },
      "file_extension": ".py",
      "mimetype": "text/x-python",
      "name": "python",
      "nbconvert_exporter": "python",
      "pygments_lexer": "ipython3",
      "version": "3.8.8"
    },
    "colab": {
      "name": "flip, fold 유튜브 댓글 크롤링.ipynb",
      "provenance": [],
      "collapsed_sections": []
    }
  },
  "nbformat": 4,
  "nbformat_minor": 5
}