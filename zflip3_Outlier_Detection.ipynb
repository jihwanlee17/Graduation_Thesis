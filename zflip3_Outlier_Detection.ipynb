{
  "cells": [
    {
      "cell_type": "code",
      "source": [
        "!pip install konlpy\n",
        "!pip install googletrans==3.1.0a0"
      ],
      "metadata": {
        "id": "512njpreJNYI"
      },
      "id": "512njpreJNYI",
      "execution_count": null,
      "outputs": []
    },
    {
      "cell_type": "code",
      "execution_count": null,
      "id": "7c6afd2b",
      "metadata": {
        "id": "7c6afd2b"
      },
      "outputs": [],
      "source": [
        "import pandas as pd\n",
        "import re\n",
        "import konlpy\n",
        "import wordcloud\n",
        "import os\n",
        "import gensim\n",
        "from konlpy.tag import Komoran\n",
        "import numpy as np\n",
        "import requests\n",
        "import matplotlib.pyplot as plt\n",
        "import seaborn as sns\n",
        "from googletrans import Translator\n",
        "translator = Translator()\n",
        "komoran = Komoran(userdic = \"/content/drive/MyDrive/graduation/komoran_dict.txt\") #기본사전 + 사용자사전\n",
        "stopwords_path = \"/content/drive/MyDrive/graduation/stopwords.txt\" \n",
        "\n",
        "with open(stopwords_path, encoding='utf-8') as f:\n",
        "    stopwords = f.readlines()\n",
        "stopwords = [w.strip() for w in stopwords] #불용어사전"
      ]
    },
    {
      "cell_type": "code",
      "execution_count": null,
      "id": "5712ac9e",
      "metadata": {
        "colab": {
          "base_uri": "https://localhost:8080/"
        },
        "id": "5712ac9e",
        "outputId": "7a0755a1-5081-4878-a2cd-1892029fb16a"
      },
      "outputs": [
        {
          "output_type": "execute_result",
          "data": {
            "text/plain": [
              "['아', '휴', '아이구', '아이쿠', '아이고', '어', '나', '우리', '저희', '따라']"
            ]
          },
          "metadata": {},
          "execution_count": 134
        }
      ],
      "source": [
        "stopwords[:10]"
      ]
    },
    {
      "cell_type": "code",
      "execution_count": null,
      "id": "68871436",
      "metadata": {
        "id": "68871436"
      },
      "outputs": [],
      "source": [
        "df = pd.read_csv('/content/drive/MyDrive/graduation/all_flip.csv', encoding='cp949')"
      ]
    },
    {
      "cell_type": "code",
      "execution_count": null,
      "id": "8ad67afe",
      "metadata": {
        "id": "8ad67afe"
      },
      "outputs": [],
      "source": [
        "#1. 이상치 제거"
      ]
    },
    {
      "cell_type": "code",
      "source": [
        "#이상치 기준 설정 함수\n",
        "'''\n",
        "1. 띄어쓰기 없앰\n",
        "2. 알파벳, 중국어(한자), 일본어(히라가나, 가타가나), 아랍어, 그리고 한국어 음절을 '제외'한 다른 숫자/기호/글자 제거\n",
        "3. 그 상태에서 문자열의 길이(글자 개수) 측정\n",
        "'''\n",
        "\n",
        "def outlier(text):\n",
        "  text = re.sub(r'[^a-zA-Z가-힇ぁ-ゔァ-ヴー々〆〤一-龥\\u0600-\\u06FF]','',text)\n",
        "  length = len(text)\n",
        "  return length\n"
      ],
      "metadata": {
        "id": "bWRSjio3LH_W"
      },
      "id": "bWRSjio3LH_W",
      "execution_count": null,
      "outputs": []
    },
    {
      "cell_type": "code",
      "source": [
        "outlier('나는 abc 靑年 カメラ')"
      ],
      "metadata": {
        "colab": {
          "base_uri": "https://localhost:8080/"
        },
        "id": "CKrPH5aOPVGy",
        "outputId": "c961641b-1aae-49ec-9b9c-1c61c32b7b5e"
      },
      "id": "CKrPH5aOPVGy",
      "execution_count": null,
      "outputs": [
        {
          "output_type": "execute_result",
          "data": {
            "text/plain": [
              "10"
            ]
          },
          "metadata": {},
          "execution_count": 138
        }
      ]
    },
    {
      "cell_type": "code",
      "execution_count": null,
      "id": "28db56e1",
      "metadata": {
        "id": "28db56e1"
      },
      "outputs": [],
      "source": [
        "df['length'] = df['REPLY'].apply(lambda x: outlier(str(x)))"
      ]
    },
    {
      "cell_type": "code",
      "execution_count": null,
      "id": "3046c4e1",
      "metadata": {
        "colab": {
          "base_uri": "https://localhost:8080/",
          "height": 468
        },
        "id": "3046c4e1",
        "outputId": "81878b00-bedf-4ce9-ff48-99c272b5e457"
      },
      "outputs": [
        {
          "output_type": "execute_result",
          "data": {
            "text/plain": [
              "                                                   REPLY  length\n",
              "0      와 진짜 매번 볼때마다 느끼는거지만 기업쪽에 잘보이려는거 단 1도 없이 장단점 솔직...     103\n",
              "1               삼성폰 리뷰하면서 LG 카톡 광고가 ㅋㅋ정말 순간 센스 넘칩니다 ^_^b      26\n",
              "2      와.. 저도 플립 사용중인데 쓰면서 좋은 점, 개선되었음 하는 점 명확히 정리해주셔...      97\n",
              "3      아이폰 쓰다가 플립으로 넘어왔는데 일단 사용하면서 너무 만족했어요. 물론 배터리가 ...     121\n",
              "4      진짜 딱 배터리가 크리티컬한 단점이긴 한데 저번에 잇섭님 분해영상 보니까 나름 위쪽...      85\n",
              "...                                                  ...     ...\n",
              "9998                           순간 개그만 박성호씨가 여장하신줄 알았네요;;      19\n",
              "9999                 여자가쓰면진짜이쁜데  남자가쓰면  보기좋지도않음  너무여성스러움      29\n",
              "10000                     아무리봐도 선글라스가 안어울리네.보면서 계속 거슬려요.      24\n",
              "10001  그렇게. 똑똑하면. 댁들이 만들지.  돈버는. 방법도. 가지가지네이걸 만든사람 노고...      38\n",
              "10002                                          페미 느낌 남..       5\n",
              "\n",
              "[10003 rows x 2 columns]"
            ],
            "text/html": [
              "\n",
              "  <div id=\"df-731af794-c121-4f08-a2d8-8ab5fc5dbc39\">\n",
              "    <div class=\"colab-df-container\">\n",
              "      <div>\n",
              "<style scoped>\n",
              "    .dataframe tbody tr th:only-of-type {\n",
              "        vertical-align: middle;\n",
              "    }\n",
              "\n",
              "    .dataframe tbody tr th {\n",
              "        vertical-align: top;\n",
              "    }\n",
              "\n",
              "    .dataframe thead th {\n",
              "        text-align: right;\n",
              "    }\n",
              "</style>\n",
              "<table border=\"1\" class=\"dataframe\">\n",
              "  <thead>\n",
              "    <tr style=\"text-align: right;\">\n",
              "      <th></th>\n",
              "      <th>REPLY</th>\n",
              "      <th>length</th>\n",
              "    </tr>\n",
              "  </thead>\n",
              "  <tbody>\n",
              "    <tr>\n",
              "      <th>0</th>\n",
              "      <td>와 진짜 매번 볼때마다 느끼는거지만 기업쪽에 잘보이려는거 단 1도 없이 장단점 솔직...</td>\n",
              "      <td>103</td>\n",
              "    </tr>\n",
              "    <tr>\n",
              "      <th>1</th>\n",
              "      <td>삼성폰 리뷰하면서 LG 카톡 광고가 ㅋㅋ정말 순간 센스 넘칩니다 ^_^b</td>\n",
              "      <td>26</td>\n",
              "    </tr>\n",
              "    <tr>\n",
              "      <th>2</th>\n",
              "      <td>와.. 저도 플립 사용중인데 쓰면서 좋은 점, 개선되었음 하는 점 명확히 정리해주셔...</td>\n",
              "      <td>97</td>\n",
              "    </tr>\n",
              "    <tr>\n",
              "      <th>3</th>\n",
              "      <td>아이폰 쓰다가 플립으로 넘어왔는데 일단 사용하면서 너무 만족했어요. 물론 배터리가 ...</td>\n",
              "      <td>121</td>\n",
              "    </tr>\n",
              "    <tr>\n",
              "      <th>4</th>\n",
              "      <td>진짜 딱 배터리가 크리티컬한 단점이긴 한데 저번에 잇섭님 분해영상 보니까 나름 위쪽...</td>\n",
              "      <td>85</td>\n",
              "    </tr>\n",
              "    <tr>\n",
              "      <th>...</th>\n",
              "      <td>...</td>\n",
              "      <td>...</td>\n",
              "    </tr>\n",
              "    <tr>\n",
              "      <th>9998</th>\n",
              "      <td>순간 개그만 박성호씨가 여장하신줄 알았네요;;</td>\n",
              "      <td>19</td>\n",
              "    </tr>\n",
              "    <tr>\n",
              "      <th>9999</th>\n",
              "      <td>여자가쓰면진짜이쁜데  남자가쓰면  보기좋지도않음  너무여성스러움</td>\n",
              "      <td>29</td>\n",
              "    </tr>\n",
              "    <tr>\n",
              "      <th>10000</th>\n",
              "      <td>아무리봐도 선글라스가 안어울리네.보면서 계속 거슬려요.</td>\n",
              "      <td>24</td>\n",
              "    </tr>\n",
              "    <tr>\n",
              "      <th>10001</th>\n",
              "      <td>그렇게. 똑똑하면. 댁들이 만들지.  돈버는. 방법도. 가지가지네이걸 만든사람 노고...</td>\n",
              "      <td>38</td>\n",
              "    </tr>\n",
              "    <tr>\n",
              "      <th>10002</th>\n",
              "      <td>페미 느낌 남..</td>\n",
              "      <td>5</td>\n",
              "    </tr>\n",
              "  </tbody>\n",
              "</table>\n",
              "<p>10003 rows × 2 columns</p>\n",
              "</div>\n",
              "      <button class=\"colab-df-convert\" onclick=\"convertToInteractive('df-731af794-c121-4f08-a2d8-8ab5fc5dbc39')\"\n",
              "              title=\"Convert this dataframe to an interactive table.\"\n",
              "              style=\"display:none;\">\n",
              "        \n",
              "  <svg xmlns=\"http://www.w3.org/2000/svg\" height=\"24px\"viewBox=\"0 0 24 24\"\n",
              "       width=\"24px\">\n",
              "    <path d=\"M0 0h24v24H0V0z\" fill=\"none\"/>\n",
              "    <path d=\"M18.56 5.44l.94 2.06.94-2.06 2.06-.94-2.06-.94-.94-2.06-.94 2.06-2.06.94zm-11 1L8.5 8.5l.94-2.06 2.06-.94-2.06-.94L8.5 2.5l-.94 2.06-2.06.94zm10 10l.94 2.06.94-2.06 2.06-.94-2.06-.94-.94-2.06-.94 2.06-2.06.94z\"/><path d=\"M17.41 7.96l-1.37-1.37c-.4-.4-.92-.59-1.43-.59-.52 0-1.04.2-1.43.59L10.3 9.45l-7.72 7.72c-.78.78-.78 2.05 0 2.83L4 21.41c.39.39.9.59 1.41.59.51 0 1.02-.2 1.41-.59l7.78-7.78 2.81-2.81c.8-.78.8-2.07 0-2.86zM5.41 20L4 18.59l7.72-7.72 1.47 1.35L5.41 20z\"/>\n",
              "  </svg>\n",
              "      </button>\n",
              "      \n",
              "  <style>\n",
              "    .colab-df-container {\n",
              "      display:flex;\n",
              "      flex-wrap:wrap;\n",
              "      gap: 12px;\n",
              "    }\n",
              "\n",
              "    .colab-df-convert {\n",
              "      background-color: #E8F0FE;\n",
              "      border: none;\n",
              "      border-radius: 50%;\n",
              "      cursor: pointer;\n",
              "      display: none;\n",
              "      fill: #1967D2;\n",
              "      height: 32px;\n",
              "      padding: 0 0 0 0;\n",
              "      width: 32px;\n",
              "    }\n",
              "\n",
              "    .colab-df-convert:hover {\n",
              "      background-color: #E2EBFA;\n",
              "      box-shadow: 0px 1px 2px rgba(60, 64, 67, 0.3), 0px 1px 3px 1px rgba(60, 64, 67, 0.15);\n",
              "      fill: #174EA6;\n",
              "    }\n",
              "\n",
              "    [theme=dark] .colab-df-convert {\n",
              "      background-color: #3B4455;\n",
              "      fill: #D2E3FC;\n",
              "    }\n",
              "\n",
              "    [theme=dark] .colab-df-convert:hover {\n",
              "      background-color: #434B5C;\n",
              "      box-shadow: 0px 1px 3px 1px rgba(0, 0, 0, 0.15);\n",
              "      filter: drop-shadow(0px 1px 2px rgba(0, 0, 0, 0.3));\n",
              "      fill: #FFFFFF;\n",
              "    }\n",
              "  </style>\n",
              "\n",
              "      <script>\n",
              "        const buttonEl =\n",
              "          document.querySelector('#df-731af794-c121-4f08-a2d8-8ab5fc5dbc39 button.colab-df-convert');\n",
              "        buttonEl.style.display =\n",
              "          google.colab.kernel.accessAllowed ? 'block' : 'none';\n",
              "\n",
              "        async function convertToInteractive(key) {\n",
              "          const element = document.querySelector('#df-731af794-c121-4f08-a2d8-8ab5fc5dbc39');\n",
              "          const dataTable =\n",
              "            await google.colab.kernel.invokeFunction('convertToInteractive',\n",
              "                                                     [key], {});\n",
              "          if (!dataTable) return;\n",
              "\n",
              "          const docLinkHtml = 'Like what you see? Visit the ' +\n",
              "            '<a target=\"_blank\" href=https://colab.research.google.com/notebooks/data_table.ipynb>data table notebook</a>'\n",
              "            + ' to learn more about interactive tables.';\n",
              "          element.innerHTML = '';\n",
              "          dataTable['output_type'] = 'display_data';\n",
              "          await google.colab.output.renderOutput(dataTable, element);\n",
              "          const docLink = document.createElement('div');\n",
              "          docLink.innerHTML = docLinkHtml;\n",
              "          element.appendChild(docLink);\n",
              "        }\n",
              "      </script>\n",
              "    </div>\n",
              "  </div>\n",
              "  "
            ]
          },
          "metadata": {},
          "execution_count": 140
        }
      ],
      "source": [
        "df"
      ]
    },
    {
      "cell_type": "code",
      "execution_count": null,
      "id": "d373c29d",
      "metadata": {
        "colab": {
          "base_uri": "https://localhost:8080/"
        },
        "id": "d373c29d",
        "outputId": "83bed27e-c425-4e4c-ce7d-93e8a0030df4"
      },
      "outputs": [
        {
          "output_type": "execute_result",
          "data": {
            "text/plain": [
              "count    10003.000000\n",
              "mean        34.633710\n",
              "std         43.114056\n",
              "min          0.000000\n",
              "25%         12.000000\n",
              "50%         22.000000\n",
              "75%         41.000000\n",
              "max        679.000000\n",
              "Name: length, dtype: float64"
            ]
          },
          "metadata": {},
          "execution_count": 141
        }
      ],
      "source": [
        "df['length'].describe()"
      ]
    },
    {
      "cell_type": "code",
      "execution_count": null,
      "id": "533342e4",
      "metadata": {
        "colab": {
          "base_uri": "https://localhost:8080/"
        },
        "id": "533342e4",
        "outputId": "af6412f7-0410-4ead-ace9-895164d49846"
      },
      "outputs": [
        {
          "output_type": "stream",
          "name": "stdout",
          "text": [
            "4.847489001636717\n"
          ]
        }
      ],
      "source": [
        "print(df['length'].skew()) #왼쪽으로 너무 치우침"
      ]
    },
    {
      "cell_type": "code",
      "execution_count": null,
      "id": "9edded1c",
      "metadata": {
        "colab": {
          "base_uri": "https://localhost:8080/"
        },
        "id": "9edded1c",
        "outputId": "1eac99f3-b5de-42b5-b6c9-bef4b3a2327f"
      },
      "outputs": [
        {
          "output_type": "stream",
          "name": "stdout",
          "text": [
            "38.77147664866325\n"
          ]
        }
      ],
      "source": [
        "print(df['length'].kurtosis()) #너무 뾰족함"
      ]
    },
    {
      "cell_type": "code",
      "execution_count": null,
      "id": "30237dde",
      "metadata": {
        "colab": {
          "base_uri": "https://localhost:8080/",
          "height": 357
        },
        "id": "30237dde",
        "outputId": "6eb61b10-a315-449d-bc54-e12d68c13742"
      },
      "outputs": [
        {
          "output_type": "stream",
          "name": "stderr",
          "text": [
            "/usr/local/lib/python3.7/dist-packages/seaborn/distributions.py:2619: FutureWarning: `distplot` is a deprecated function and will be removed in a future version. Please adapt your code to use either `displot` (a figure-level function with similar flexibility) or `histplot` (an axes-level function for histograms).\n",
            "  warnings.warn(msg, FutureWarning)\n"
          ]
        },
        {
          "output_type": "execute_result",
          "data": {
            "text/plain": [
              "<matplotlib.axes._subplots.AxesSubplot at 0x7f592cbeb350>"
            ]
          },
          "metadata": {},
          "execution_count": 144
        },
        {
          "output_type": "display_data",
          "data": {
            "text/plain": [
              "<Figure size 432x288 with 1 Axes>"
            ],
            "image/png": "[encoded data removed]"
          },
          "metadata": {
            "needs_background": "light"
          }
        }
      ],
      "source": [
        "sns.distplot(df['length']) #정규분포를 이루지 않고 왼쪽으로 너무 치우쳐 있음 -> 데이터 정규화 과정이 필요함"
      ]
    },
    {
      "cell_type": "code",
      "execution_count": null,
      "id": "9b00c88d",
      "metadata": {
        "id": "9b00c88d"
      },
      "outputs": [],
      "source": [
        "df['log_length'] = np.log1p(df['length']) #데이터를 로그변환함 -> log(x+1)"
      ]
    },
    {
      "cell_type": "code",
      "execution_count": null,
      "id": "0e178120",
      "metadata": {
        "colab": {
          "base_uri": "https://localhost:8080/"
        },
        "id": "0e178120",
        "outputId": "4083f34c-a2a5-41c8-e494-09a8d5122e44"
      },
      "outputs": [
        {
          "output_type": "execute_result",
          "data": {
            "text/plain": [
              "count    10003.000000\n",
              "mean         3.153706\n",
              "std          0.906787\n",
              "min          0.000000\n",
              "25%          2.564949\n",
              "50%          3.135494\n",
              "75%          3.737670\n",
              "max          6.522093\n",
              "Name: log_length, dtype: float64"
            ]
          },
          "metadata": {},
          "execution_count": 146
        }
      ],
      "source": [
        "df['log_length'].describe()"
      ]
    },
    {
      "cell_type": "code",
      "execution_count": null,
      "id": "4a6d0cc1",
      "metadata": {
        "colab": {
          "base_uri": "https://localhost:8080/"
        },
        "id": "4a6d0cc1",
        "outputId": "f419e6c8-fdc4-4bb1-f8af-4b2cd5c45d48"
      },
      "outputs": [
        {
          "output_type": "stream",
          "name": "stdout",
          "text": [
            "-0.0456078890987966\n"
          ]
        }
      ],
      "source": [
        "print(df['log_length'].skew()) #거의 대칭을 이룸"
      ]
    },
    {
      "cell_type": "code",
      "execution_count": null,
      "id": "48bdbe49",
      "metadata": {
        "colab": {
          "base_uri": "https://localhost:8080/"
        },
        "id": "48bdbe49",
        "outputId": "f8137f32-a274-41d4-8670-55b8080a71d5"
      },
      "outputs": [
        {
          "output_type": "stream",
          "name": "stdout",
          "text": [
            "0.7019578778580038\n"
          ]
        }
      ],
      "source": [
        "print(df['log_length'].kurtosis()) # 전보다는 정규분포 모양에 가까운 뾰족함"
      ]
    },
    {
      "cell_type": "code",
      "execution_count": null,
      "id": "c20e437b",
      "metadata": {
        "scrolled": true,
        "colab": {
          "base_uri": "https://localhost:8080/",
          "height": 354
        },
        "id": "c20e437b",
        "outputId": "39a52a4b-23fe-469f-cd9f-86e6f36e6822"
      },
      "outputs": [
        {
          "output_type": "stream",
          "name": "stderr",
          "text": [
            "/usr/local/lib/python3.7/dist-packages/seaborn/distributions.py:2619: FutureWarning: `distplot` is a deprecated function and will be removed in a future version. Please adapt your code to use either `displot` (a figure-level function with similar flexibility) or `histplot` (an axes-level function for histograms).\n",
            "  warnings.warn(msg, FutureWarning)\n"
          ]
        },
        {
          "output_type": "execute_result",
          "data": {
            "text/plain": [
              "<matplotlib.axes._subplots.AxesSubplot at 0x7f5927720810>"
            ]
          },
          "metadata": {},
          "execution_count": 149
        },
        {
          "output_type": "display_data",
          "data": {
            "text/plain": [
              "<Figure size 432x288 with 1 Axes>"
            ],
            "image/png": "[encoded data removed]"
          },
          "metadata": {
            "needs_background": "light"
          }
        }
      ],
      "source": [
        "sns.distplot(df['log_length']) #그래프상으로도 정규분포 모양과 가까워짐을 확인"
      ]
    },
    {
      "cell_type": "code",
      "execution_count": null,
      "id": "41b8dff0",
      "metadata": {
        "colab": {
          "base_uri": "https://localhost:8080/"
        },
        "id": "41b8dff0",
        "outputId": "93fed1b9-015c-425b-e18a-2c35eb96a799"
      },
      "outputs": [
        {
          "output_type": "execute_result",
          "data": {
            "text/plain": [
              "0.8058689662287892"
            ]
          },
          "metadata": {},
          "execution_count": 150
        }
      ],
      "source": [
        "q1, q3 =np.percentile(df['log_length'],[25,75])\n",
        "\n",
        "q1 #제1사분위수\n",
        "\n",
        "q3 #제3사분위수\n",
        "\n",
        "iqr = q3-q1 #사분위수 범위\n",
        "\n",
        "lower_bound = q1 - (iqr*1.5) #이상치 기준점\n",
        "lower_bound #정보가 적은 댓글만 제거할 것이므로 lower_bound만 필요함.\n",
        "\n"
      ]
    },
    {
      "cell_type": "code",
      "source": [
        "outlier_df = df[df['log_length']<=lower_bound]"
      ],
      "metadata": {
        "id": "rFIGbQcOSxlu"
      },
      "id": "rFIGbQcOSxlu",
      "execution_count": null,
      "outputs": []
    },
    {
      "cell_type": "code",
      "source": [
        "outlier_df.sample(5)"
      ],
      "metadata": {
        "colab": {
          "base_uri": "https://localhost:8080/",
          "height": 206
        },
        "id": "O9PEUt3uS2bt",
        "outputId": "895b20af-3c2b-4621-c7ed-7f1d2b10631d"
      },
      "id": "O9PEUt3uS2bt",
      "execution_count": null,
      "outputs": [
        {
          "output_type": "execute_result",
          "data": {
            "text/plain": [
              "                     REPLY  length  log_length\n",
              "9955  4:32 허!!!!!!!!!!!!!!       1    0.693147\n",
              "5297                   ㅇㅇㅃ       0    0.000000\n",
              "7852                    ㅇㅈ       0    0.000000\n",
              "9211                    ㅋㅋ       0    0.000000\n",
              "1793                   ㅈㅎㄷ       0    0.000000"
            ],
            "text/html": [
              "\n",
              "  <div id=\"df-a68de6e3-580f-43fc-8d4b-981a855146ee\">\n",
              "    <div class=\"colab-df-container\">\n",
              "      <div>\n",
              "<style scoped>\n",
              "    .dataframe tbody tr th:only-of-type {\n",
              "        vertical-align: middle;\n",
              "    }\n",
              "\n",
              "    .dataframe tbody tr th {\n",
              "        vertical-align: top;\n",
              "    }\n",
              "\n",
              "    .dataframe thead th {\n",
              "        text-align: right;\n",
              "    }\n",
              "</style>\n",
              "<table border=\"1\" class=\"dataframe\">\n",
              "  <thead>\n",
              "    <tr style=\"text-align: right;\">\n",
              "      <th></th>\n",
              "      <th>REPLY</th>\n",
              "      <th>length</th>\n",
              "      <th>log_length</th>\n",
              "    </tr>\n",
              "  </thead>\n",
              "  <tbody>\n",
              "    <tr>\n",
              "      <th>9955</th>\n",
              "      <td>4:32 허!!!!!!!!!!!!!!</td>\n",
              "      <td>1</td>\n",
              "      <td>0.693147</td>\n",
              "    </tr>\n",
              "    <tr>\n",
              "      <th>5297</th>\n",
              "      <td>ㅇㅇㅃ</td>\n",
              "      <td>0</td>\n",
              "      <td>0.000000</td>\n",
              "    </tr>\n",
              "    <tr>\n",
              "      <th>7852</th>\n",
              "      <td>ㅇㅈ</td>\n",
              "      <td>0</td>\n",
              "      <td>0.000000</td>\n",
              "    </tr>\n",
              "    <tr>\n",
              "      <th>9211</th>\n",
              "      <td>ㅋㅋ</td>\n",
              "      <td>0</td>\n",
              "      <td>0.000000</td>\n",
              "    </tr>\n",
              "    <tr>\n",
              "      <th>1793</th>\n",
              "      <td>ㅈㅎㄷ</td>\n",
              "      <td>0</td>\n",
              "      <td>0.000000</td>\n",
              "    </tr>\n",
              "  </tbody>\n",
              "</table>\n",
              "</div>\n",
              "      <button class=\"colab-df-convert\" onclick=\"convertToInteractive('df-a68de6e3-580f-43fc-8d4b-981a855146ee')\"\n",
              "              title=\"Convert this dataframe to an interactive table.\"\n",
              "              style=\"display:none;\">\n",
              "        \n",
              "  <svg xmlns=\"http://www.w3.org/2000/svg\" height=\"24px\"viewBox=\"0 0 24 24\"\n",
              "       width=\"24px\">\n",
              "    <path d=\"M0 0h24v24H0V0z\" fill=\"none\"/>\n",
              "    <path d=\"M18.56 5.44l.94 2.06.94-2.06 2.06-.94-2.06-.94-.94-2.06-.94 2.06-2.06.94zm-11 1L8.5 8.5l.94-2.06 2.06-.94-2.06-.94L8.5 2.5l-.94 2.06-2.06.94zm10 10l.94 2.06.94-2.06 2.06-.94-2.06-.94-.94-2.06-.94 2.06-2.06.94z\"/><path d=\"M17.41 7.96l-1.37-1.37c-.4-.4-.92-.59-1.43-.59-.52 0-1.04.2-1.43.59L10.3 9.45l-7.72 7.72c-.78.78-.78 2.05 0 2.83L4 21.41c.39.39.9.59 1.41.59.51 0 1.02-.2 1.41-.59l7.78-7.78 2.81-2.81c.8-.78.8-2.07 0-2.86zM5.41 20L4 18.59l7.72-7.72 1.47 1.35L5.41 20z\"/>\n",
              "  </svg>\n",
              "      </button>\n",
              "      \n",
              "  <style>\n",
              "    .colab-df-container {\n",
              "      display:flex;\n",
              "      flex-wrap:wrap;\n",
              "      gap: 12px;\n",
              "    }\n",
              "\n",
              "    .colab-df-convert {\n",
              "      background-color: #E8F0FE;\n",
              "      border: none;\n",
              "      border-radius: 50%;\n",
              "      cursor: pointer;\n",
              "      display: none;\n",
              "      fill: #1967D2;\n",
              "      height: 32px;\n",
              "      padding: 0 0 0 0;\n",
              "      width: 32px;\n",
              "    }\n",
              "\n",
              "    .colab-df-convert:hover {\n",
              "      background-color: #E2EBFA;\n",
              "      box-shadow: 0px 1px 2px rgba(60, 64, 67, 0.3), 0px 1px 3px 1px rgba(60, 64, 67, 0.15);\n",
              "      fill: #174EA6;\n",
              "    }\n",
              "\n",
              "    [theme=dark] .colab-df-convert {\n",
              "      background-color: #3B4455;\n",
              "      fill: #D2E3FC;\n",
              "    }\n",
              "\n",
              "    [theme=dark] .colab-df-convert:hover {\n",
              "      background-color: #434B5C;\n",
              "      box-shadow: 0px 1px 3px 1px rgba(0, 0, 0, 0.15);\n",
              "      filter: drop-shadow(0px 1px 2px rgba(0, 0, 0, 0.3));\n",
              "      fill: #FFFFFF;\n",
              "    }\n",
              "  </style>\n",
              "\n",
              "      <script>\n",
              "        const buttonEl =\n",
              "          document.querySelector('#df-a68de6e3-580f-43fc-8d4b-981a855146ee button.colab-df-convert');\n",
              "        buttonEl.style.display =\n",
              "          google.colab.kernel.accessAllowed ? 'block' : 'none';\n",
              "\n",
              "        async function convertToInteractive(key) {\n",
              "          const element = document.querySelector('#df-a68de6e3-580f-43fc-8d4b-981a855146ee');\n",
              "          const dataTable =\n",
              "            await google.colab.kernel.invokeFunction('convertToInteractive',\n",
              "                                                     [key], {});\n",
              "          if (!dataTable) return;\n",
              "\n",
              "          const docLinkHtml = 'Like what you see? Visit the ' +\n",
              "            '<a target=\"_blank\" href=https://colab.research.google.com/notebooks/data_table.ipynb>data table notebook</a>'\n",
              "            + ' to learn more about interactive tables.';\n",
              "          element.innerHTML = '';\n",
              "          dataTable['output_type'] = 'display_data';\n",
              "          await google.colab.output.renderOutput(dataTable, element);\n",
              "          const docLink = document.createElement('div');\n",
              "          docLink.innerHTML = docLinkHtml;\n",
              "          element.appendChild(docLink);\n",
              "        }\n",
              "      </script>\n",
              "    </div>\n",
              "  </div>\n",
              "  "
            ]
          },
          "metadata": {},
          "execution_count": 152
        }
      ]
    },
    {
      "cell_type": "code",
      "execution_count": null,
      "id": "be3e83ce",
      "metadata": {
        "id": "be3e83ce"
      },
      "outputs": [],
      "source": [
        "new_df = df[df['log_length']>lower_bound] #lower_bound보다 낮은 수치의 데이터를 삭제"
      ]
    },
    {
      "cell_type": "code",
      "execution_count": null,
      "id": "4c39902c",
      "metadata": {
        "colab": {
          "base_uri": "https://localhost:8080/",
          "height": 554
        },
        "id": "4c39902c",
        "outputId": "44caa4cb-fc9c-47eb-b821-ef6478ac5db5"
      },
      "outputs": [
        {
          "output_type": "execute_result",
          "data": {
            "text/plain": [
              "                                                  REPLY  length  log_length\n",
              "0     와 진짜 매번 볼때마다 느끼는거지만 기업쪽에 잘보이려는거 단 1도 없이 장단점 솔직...     103    4.644391\n",
              "1              삼성폰 리뷰하면서 LG 카톡 광고가 ㅋㅋ정말 순간 센스 넘칩니다 ^_^b      26    3.295837\n",
              "2     와.. 저도 플립 사용중인데 쓰면서 좋은 점, 개선되었음 하는 점 명확히 정리해주셔...      97    4.584967\n",
              "3     아이폰 쓰다가 플립으로 넘어왔는데 일단 사용하면서 너무 만족했어요. 물론 배터리가 ...     121    4.804021\n",
              "4     진짜 딱 배터리가 크리티컬한 단점이긴 한데 저번에 잇섭님 분해영상 보니까 나름 위쪽...      85    4.454347\n",
              "...                                                 ...     ...         ...\n",
              "9893                          순간 개그만 박성호씨가 여장하신줄 알았네요;;      19    2.995732\n",
              "9894                여자가쓰면진짜이쁜데  남자가쓰면  보기좋지도않음  너무여성스러움      29    3.401197\n",
              "9895                     아무리봐도 선글라스가 안어울리네.보면서 계속 거슬려요.      24    3.218876\n",
              "9896  그렇게. 똑똑하면. 댁들이 만들지.  돈버는. 방법도. 가지가지네이걸 만든사람 노고...      38    3.663562\n",
              "9897                                          페미 느낌 남..       5    1.791759\n",
              "\n",
              "[9898 rows x 3 columns]"
            ],
            "text/html": [
              "\n",
              "  <div id=\"df-ec5c5f40-e0ee-4341-ae2f-bee754e11fff\">\n",
              "    <div class=\"colab-df-container\">\n",
              "      <div>\n",
              "<style scoped>\n",
              "    .dataframe tbody tr th:only-of-type {\n",
              "        vertical-align: middle;\n",
              "    }\n",
              "\n",
              "    .dataframe tbody tr th {\n",
              "        vertical-align: top;\n",
              "    }\n",
              "\n",
              "    .dataframe thead th {\n",
              "        text-align: right;\n",
              "    }\n",
              "</style>\n",
              "<table border=\"1\" class=\"dataframe\">\n",
              "  <thead>\n",
              "    <tr style=\"text-align: right;\">\n",
              "      <th></th>\n",
              "      <th>REPLY</th>\n",
              "      <th>length</th>\n",
              "      <th>log_length</th>\n",
              "    </tr>\n",
              "  </thead>\n",
              "  <tbody>\n",
              "    <tr>\n",
              "      <th>0</th>\n",
              "      <td>와 진짜 매번 볼때마다 느끼는거지만 기업쪽에 잘보이려는거 단 1도 없이 장단점 솔직...</td>\n",
              "      <td>103</td>\n",
              "      <td>4.644391</td>\n",
              "    </tr>\n",
              "    <tr>\n",
              "      <th>1</th>\n",
              "      <td>삼성폰 리뷰하면서 LG 카톡 광고가 ㅋㅋ정말 순간 센스 넘칩니다 ^_^b</td>\n",
              "      <td>26</td>\n",
              "      <td>3.295837</td>\n",
              "    </tr>\n",
              "    <tr>\n",
              "      <th>2</th>\n",
              "      <td>와.. 저도 플립 사용중인데 쓰면서 좋은 점, 개선되었음 하는 점 명확히 정리해주셔...</td>\n",
              "      <td>97</td>\n",
              "      <td>4.584967</td>\n",
              "    </tr>\n",
              "    <tr>\n",
              "      <th>3</th>\n",
              "      <td>아이폰 쓰다가 플립으로 넘어왔는데 일단 사용하면서 너무 만족했어요. 물론 배터리가 ...</td>\n",
              "      <td>121</td>\n",
              "      <td>4.804021</td>\n",
              "    </tr>\n",
              "    <tr>\n",
              "      <th>4</th>\n",
              "      <td>진짜 딱 배터리가 크리티컬한 단점이긴 한데 저번에 잇섭님 분해영상 보니까 나름 위쪽...</td>\n",
              "      <td>85</td>\n",
              "      <td>4.454347</td>\n",
              "    </tr>\n",
              "    <tr>\n",
              "      <th>...</th>\n",
              "      <td>...</td>\n",
              "      <td>...</td>\n",
              "      <td>...</td>\n",
              "    </tr>\n",
              "    <tr>\n",
              "      <th>9893</th>\n",
              "      <td>순간 개그만 박성호씨가 여장하신줄 알았네요;;</td>\n",
              "      <td>19</td>\n",
              "      <td>2.995732</td>\n",
              "    </tr>\n",
              "    <tr>\n",
              "      <th>9894</th>\n",
              "      <td>여자가쓰면진짜이쁜데  남자가쓰면  보기좋지도않음  너무여성스러움</td>\n",
              "      <td>29</td>\n",
              "      <td>3.401197</td>\n",
              "    </tr>\n",
              "    <tr>\n",
              "      <th>9895</th>\n",
              "      <td>아무리봐도 선글라스가 안어울리네.보면서 계속 거슬려요.</td>\n",
              "      <td>24</td>\n",
              "      <td>3.218876</td>\n",
              "    </tr>\n",
              "    <tr>\n",
              "      <th>9896</th>\n",
              "      <td>그렇게. 똑똑하면. 댁들이 만들지.  돈버는. 방법도. 가지가지네이걸 만든사람 노고...</td>\n",
              "      <td>38</td>\n",
              "      <td>3.663562</td>\n",
              "    </tr>\n",
              "    <tr>\n",
              "      <th>9897</th>\n",
              "      <td>페미 느낌 남..</td>\n",
              "      <td>5</td>\n",
              "      <td>1.791759</td>\n",
              "    </tr>\n",
              "  </tbody>\n",
              "</table>\n",
              "<p>9898 rows × 3 columns</p>\n",
              "</div>\n",
              "      <button class=\"colab-df-convert\" onclick=\"convertToInteractive('df-ec5c5f40-e0ee-4341-ae2f-bee754e11fff')\"\n",
              "              title=\"Convert this dataframe to an interactive table.\"\n",
              "              style=\"display:none;\">\n",
              "        \n",
              "  <svg xmlns=\"http://www.w3.org/2000/svg\" height=\"24px\"viewBox=\"0 0 24 24\"\n",
              "       width=\"24px\">\n",
              "    <path d=\"M0 0h24v24H0V0z\" fill=\"none\"/>\n",
              "    <path d=\"M18.56 5.44l.94 2.06.94-2.06 2.06-.94-2.06-.94-.94-2.06-.94 2.06-2.06.94zm-11 1L8.5 8.5l.94-2.06 2.06-.94-2.06-.94L8.5 2.5l-.94 2.06-2.06.94zm10 10l.94 2.06.94-2.06 2.06-.94-2.06-.94-.94-2.06-.94 2.06-2.06.94z\"/><path d=\"M17.41 7.96l-1.37-1.37c-.4-.4-.92-.59-1.43-.59-.52 0-1.04.2-1.43.59L10.3 9.45l-7.72 7.72c-.78.78-.78 2.05 0 2.83L4 21.41c.39.39.9.59 1.41.59.51 0 1.02-.2 1.41-.59l7.78-7.78 2.81-2.81c.8-.78.8-2.07 0-2.86zM5.41 20L4 18.59l7.72-7.72 1.47 1.35L5.41 20z\"/>\n",
              "  </svg>\n",
              "      </button>\n",
              "      \n",
              "  <style>\n",
              "    .colab-df-container {\n",
              "      display:flex;\n",
              "      flex-wrap:wrap;\n",
              "      gap: 12px;\n",
              "    }\n",
              "\n",
              "    .colab-df-convert {\n",
              "      background-color: #E8F0FE;\n",
              "      border: none;\n",
              "      border-radius: 50%;\n",
              "      cursor: pointer;\n",
              "      display: none;\n",
              "      fill: #1967D2;\n",
              "      height: 32px;\n",
              "      padding: 0 0 0 0;\n",
              "      width: 32px;\n",
              "    }\n",
              "\n",
              "    .colab-df-convert:hover {\n",
              "      background-color: #E2EBFA;\n",
              "      box-shadow: 0px 1px 2px rgba(60, 64, 67, 0.3), 0px 1px 3px 1px rgba(60, 64, 67, 0.15);\n",
              "      fill: #174EA6;\n",
              "    }\n",
              "\n",
              "    [theme=dark] .colab-df-convert {\n",
              "      background-color: #3B4455;\n",
              "      fill: #D2E3FC;\n",
              "    }\n",
              "\n",
              "    [theme=dark] .colab-df-convert:hover {\n",
              "      background-color: #434B5C;\n",
              "      box-shadow: 0px 1px 3px 1px rgba(0, 0, 0, 0.15);\n",
              "      filter: drop-shadow(0px 1px 2px rgba(0, 0, 0, 0.3));\n",
              "      fill: #FFFFFF;\n",
              "    }\n",
              "  </style>\n",
              "\n",
              "      <script>\n",
              "        const buttonEl =\n",
              "          document.querySelector('#df-ec5c5f40-e0ee-4341-ae2f-bee754e11fff button.colab-df-convert');\n",
              "        buttonEl.style.display =\n",
              "          google.colab.kernel.accessAllowed ? 'block' : 'none';\n",
              "\n",
              "        async function convertToInteractive(key) {\n",
              "          const element = document.querySelector('#df-ec5c5f40-e0ee-4341-ae2f-bee754e11fff');\n",
              "          const dataTable =\n",
              "            await google.colab.kernel.invokeFunction('convertToInteractive',\n",
              "                                                     [key], {});\n",
              "          if (!dataTable) return;\n",
              "\n",
              "          const docLinkHtml = 'Like what you see? Visit the ' +\n",
              "            '<a target=\"_blank\" href=https://colab.research.google.com/notebooks/data_table.ipynb>data table notebook</a>'\n",
              "            + ' to learn more about interactive tables.';\n",
              "          element.innerHTML = '';\n",
              "          dataTable['output_type'] = 'display_data';\n",
              "          await google.colab.output.renderOutput(dataTable, element);\n",
              "          const docLink = document.createElement('div');\n",
              "          docLink.innerHTML = docLinkHtml;\n",
              "          element.appendChild(docLink);\n",
              "        }\n",
              "      </script>\n",
              "    </div>\n",
              "  </div>\n",
              "  "
            ]
          },
          "metadata": {},
          "execution_count": 154
        }
      ],
      "source": [
        "new_df.index = [i for i in range(len(new_df))]\n",
        "new_df #이상치를 제거한 데이터"
      ]
    },
    {
      "cell_type": "code",
      "execution_count": null,
      "id": "65555791",
      "metadata": {
        "id": "65555791"
      },
      "outputs": [],
      "source": [
        "new_df.to_csv('/content/drive/MyDrive/graduation/new_df_flip.csv', index=False)"
      ]
    },
    {
      "cell_type": "code",
      "source": [
        "#___________________________________________________________________"
      ],
      "metadata": {
        "id": "wd5vDwMjQ3ll"
      },
      "id": "wd5vDwMjQ3ll",
      "execution_count": null,
      "outputs": []
    }
  ],
  "metadata": {
    "kernelspec": {
      "display_name": "Python 3",
      "language": "python",
      "name": "python3"
    },
    "language_info": {
      "codemirror_mode": {
        "name": "ipython",
        "version": 3
      },
      "file_extension": ".py",
      "mimetype": "text/x-python",
      "name": "python",
      "nbconvert_exporter": "python",
      "pygments_lexer": "ipython3",
      "version": "3.8.8"
    },
    "colab": {
      "name": "zflip3 댓글 이상치 제거.ipynb",
      "provenance": [],
      "collapsed_sections": []
    }
  },
  "nbformat": 4,
  "nbformat_minor": 5
}