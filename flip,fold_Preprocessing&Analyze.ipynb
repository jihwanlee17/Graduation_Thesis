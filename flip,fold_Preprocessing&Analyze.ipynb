{
  "nbformat": 4,
  "nbformat_minor": 0,
  "metadata": {
    "colab": {
      "name": "flip,fold 전처리&빈도분석 및 wordcloud생성&LDA토픽모델링.ipynb",
      "provenance": [],
      "collapsed_sections": []
    },
    "kernelspec": {
      "name": "python3",
      "display_name": "Python 3"
    },
    "language_info": {
      "name": "python"
    }
  },
  "cells": [
    {
      "cell_type": "code",
      "source": [
        "# !pip install googletrans==3.1.0a0\n",
        "# !pip install konlpy\n",
        "# !pip install pyLDAvis"
      ],
      "metadata": {
        "id": "Sc8aaeH876et"
      },
      "execution_count": null,
      "outputs": []
    },
    {
      "cell_type": "code",
      "source": [
        "import pandas as pd\n",
        "import re\n",
        "import konlpy\n",
        "import wordcloud\n",
        "import os\n",
        "import gensim\n",
        "import pyLDAvis\n",
        "import pyLDAvis.sklearn\n",
        "pyLDAvis.enable_notebook()\n",
        "from konlpy.tag import Komoran\n",
        "import numpy as np\n",
        "import requests\n",
        "import matplotlib.pyplot as plt\n",
        "import seaborn as sns\n",
        "from googletrans import Translator\n",
        "trans = Translator()\n",
        "komoran = Komoran(userdic = \"/content/drive/MyDrive/graduation/komoran_dict.txt\") #기본사전 + 사용자사전\n",
        "\n",
        "stopwords_path = \"/content/drive/MyDrive/graduation/stopwords.txt\"\n",
        "\n",
        "with open(stopwords_path, encoding='utf-8') as f:\n",
        "    stopwords = f.readlines()\n",
        "stopwords = [w.strip() for w in stopwords]"
      ],
      "metadata": {
        "id": "caLYjEtL8sem"
      },
      "execution_count": null,
      "outputs": []
    },
    {
      "cell_type": "code",
      "source": [
        "#전처리 함수 만들기(이상치를 제거한 데이터에서 수행)\n",
        "def preprocessing(text):\n",
        "    #외국어 번역 - 문장이 외국어(영어, 일본어, 중국어, 아랍어)로만 또는 외국어와 숫자의 조합으로 작성된 경우에만 한국어로 번역\n",
        "    text=re.sub(r'[^A-Za-z가-힇ㄱ-ㅎㅏ-ㅣ\\s0-9ぁ-ゔァ-ヴー々〆〤一-龥\\u0600-\\u06FF]', '',text) #공백, 숫자, 문자만 남아있음\n",
        "    if not bool(re.search(r'[ㅏ-ㅣㄱ-ㅎ가-힇]', text)): #한글이 전혀 들어가 있지 않은 문장인 경우\n",
        "      if all([w.isalnum() for w in text.split()]): #문장이 외국어로만 또는 외국어와 숫자의 조합으로만 구성되어 있을 때만 번역기 적용\n",
        "        text = translate(text)\n",
        "        \n",
        "    #정규화\n",
        "    text = normalization(text)\n",
        "    \n",
        "    #형태소 분석 및 불용어 제거\n",
        "    bag = cleaning(text)\n",
        "    \n",
        "    #단어로 구성된 리스트를 반환\n",
        "    return bag"
      ],
      "metadata": {
        "id": "SRvCN2q79WEA"
      },
      "execution_count": null,
      "outputs": []
    },
    {
      "cell_type": "code",
      "source": [
        "#2. 외국어-한국어 번역 함수\n",
        "def translate(text:str): #번역할 문장(문자열) 입력\n",
        "    \n",
        "    result = trans.translate(text, dest = 'ko')\n",
        "    text = result.text\n",
        "    return text"
      ],
      "metadata": {
        "id": "e2XVZKTH6N59"
      },
      "execution_count": null,
      "outputs": []
    },
    {
      "cell_type": "code",
      "source": [
        "#3. 정규화 함수\n",
        "\n",
        "def normalization(text):\n",
        "    ##영어 단어의 소문자화\n",
        "    text = text.lower()\n",
        "    \n",
        "    ##동의어 통일\n",
        "    #갤럭시 시리즈\n",
        "    text = re.sub(r'(갤럭시|galaxy)\\s*(z|지)*\\s*(플립|flip)\\s*(일|1)*','플립',text)\n",
        "    text = re.sub(r'(갤럭시|galaxy)\\s*(z|지)*\\s*(폴드|fold)\\s*(일|1)*','폴드',text)\n",
        "    text = re.sub(r'(갤럭시|galaxy)\\s*(z|지)*\\s*(플립|flip)\\s*(삼|3)','플립',text)\n",
        "    text = re.sub(r'(갤럭시|galaxy)\\s*(z|지)*\\s*(폴드|fold)\\s*(삼|3)','폴드',text)\n",
        "    text = re.sub(r'(갤럭시|galaxy)\\s*(z|지)*\\s*(폴드|fold)\\s*(사|4)*','폴드',text)\n",
        "    text = re.sub(r'(갤럭시|galaxy)\\s*(z|지)*\\s*(플립|flip)\\s*(사|4)*','플립',text)\n",
        "    text = re.sub(r'(갤럭시|galaxy)\\s*(s|에스)\\s*(이십이|22)','갤럭시에스이십이',text)\n",
        "    text = re.sub(r'(갤럭시|galaxy)\\s*(s|에스)\\s*(이십일|21)','갤럭시에스이십일',text)\n",
        "    text = re.sub(r'(갤럭시|galaxy)\\s*(s|에스)\\s*(이십|20)','갤럭시에스이십',text)\n",
        "    text = re.sub(r'(갤럭시|galaxy)\\s*(note|노트)\\s*(이십|트웬티|20)','갤럭시노트이십',text)\n",
        "    text = re.sub(r'(갤럭시|galaxy)\\s*(note|노트)\\s*(10|십|텐)','갤럭시노트십',text)\n",
        "    \n",
        "    #애플 시리즈\n",
        "    text = re.sub(r'(아이폰|iphone)\\s*(13|십삼|서틴)','아이폰십삼',text)\n",
        "    text = re.sub(r'(아이폰|iphone)\\s*(13|십삼|서틴)\\s*(프로|pro)','아이폰십삼프로',text)\n",
        "    text = re.sub(r'(아이폰|iphone)\\s*(13|십삼|서틴)\\s*(프로|pro)\\s*(맥스|max)','아이폰십삼프로맥스',text)\n",
        "    text = re.sub(r'(아이폰|iphone)\\s*(12|십이|트웰브)','아이폰십이',text)\n",
        "    text = re.sub(r'(아이폰|iphone)\\s*(12|십이|트웰브)\\s*(프로|pro)','아이폰십이프로',text)\n",
        "    text = re.sub(r'(아이폰|iphone)\\s*(12|십이|트웰브)\\s*(프로|pro)\\s*(맥스|max)','아이폰십이프로맥스',text)\n",
        "\n",
        "    #나머지 단어들 동의어 통일\n",
        "    text = re.sub(r'대한민국|한국|korea','한국',text)\n",
        "    text = re.sub(r'미국|아메리카|us|usa|u.s.a','미국',text)\n",
        "    text = re.sub(r's(\\s*펜|\\s*pen)','에스펜',text)\n",
        "    \n",
        "    #오타정정 및 그 외 작업\n",
        "    text = re.sub('(배테리|밧데리|배터리)','배터리',text)\n",
        "    \n",
        "    text = re.sub(r'멀티\\s*(태|테)스킹','멀티태스킹',text)\n",
        "    text = re.sub('(잇|이)쁘','예쁘',text)\n",
        "    text = text.replace('색', '색깔')\n",
        "    text = text.replace('색깔깔', '색깔')\n",
        "    text = text.replace('하면', '화면')\n",
        "    text = text.replace('(폴더|더블)', '폴더블')\n",
        "    \n",
        "    #복합명사 복원\n",
        "    text = re.sub(r'커버\\s*디스플레이', '커버디스플레이',text)\n",
        "    text = re.sub(r'언더\\s*디스플레이\\s*카메라','언더디스플레이카메라',text)\n",
        "    \n",
        "    ##한국어 발음의 알파벳 표기를 한글로 표현\n",
        "    text = re.sub('samsung', '삼성', text)\n",
        "    text = re.sub('gamsung', '감성', text)\n",
        "    text = re.sub('iphone', '아이폰', text)\n",
        "    text = re.sub('galaxy', '갤럭시', text)\n",
        "    \n",
        "    #줄임말 복원\n",
        "    text = text.replace('삼페', '삼성페이').replace('애페', '애플페이').replace('기변욕구','기기 변경 욕구')\n",
        "    \n",
        "    #전문용어(영어 약자) 한국어 번역\n",
        "    text = text.replace('gif', '움짤').replace('udc', '언더디스플레이카메라').replace('gos','게임옵티마이징서비스').replace('oled','유기발광다이오드').replace('hz','주사율').replace('mah','미리암페어')\n",
        "    \n",
        "    #텍스트 반환\n",
        "    return text"
      ],
      "metadata": {
        "id": "YPLOgYA59OYM"
      },
      "execution_count": null,
      "outputs": []
    },
    {
      "cell_type": "code",
      "source": [
        "#4. 형태소 분석 및 불용어 제거\n",
        "def cleaning(text):\n",
        "    text = re.sub(r'[^가-힇]','',text) #한글만 남김\n",
        "    postagged = komoran.pos(text) #형태소단위로 문장 분절\n",
        "\n",
        "    #일반명사, 고유명사, 형용사, 동사를 제외한 모든 품사 단어들은 제거\n",
        "    words = []\n",
        "    for w, p in postagged:\n",
        "      if p in ['NNG','NNP','VA', 'VV']:\n",
        "        if p in ['VA','VV']:\n",
        "          ws = w+'다' #어미복원 - 용언 어간에 어미 '-다' 삽입\n",
        "          words.append(ws)\n",
        "        else:  \n",
        "          words.append(w)\n",
        "\n",
        "    re_words = [w for w in words if w not in stopwords] #불용어 제거\n",
        "    last_text=' '.join(re_words)\n",
        "    last_text = normalization(last_text) #형태소분석 후 2차 정규화\n",
        "    \n",
        "    re_words = last_text.split()\n",
        "    re_words = [w for w in re_words if len(w)>1] #1음절 단어는 의미를 잘 이해할 수 없으므로 제거\n",
        "    return re_words"
      ],
      "metadata": {
        "id": "VqrO2QvE9Ruv"
      },
      "execution_count": null,
      "outputs": []
    },
    {
      "cell_type": "code",
      "source": [
        "#zflip 파일 처리"
      ],
      "metadata": {
        "id": "_kF41qDWyKki"
      },
      "execution_count": null,
      "outputs": []
    },
    {
      "cell_type": "code",
      "source": [
        "zflip3_comment_words = pd.DataFrame(columns = ['comment_list'])"
      ],
      "metadata": {
        "id": "N2P4_NJu9uYt"
      },
      "execution_count": null,
      "outputs": []
    },
    {
      "cell_type": "code",
      "source": [
        "new_df = pd.read_csv('/content/drive/MyDrive/graduation/new_df_flip.csv', lineterminator='\\n')"
      ],
      "metadata": {
        "id": "UNltIlj494__"
      },
      "execution_count": null,
      "outputs": []
    },
    {
      "cell_type": "code",
      "source": [
        "zflip3_comment_words['comment_list'] = new_df['REPLY'].apply(lambda x: preprocessing(x))"
      ],
      "metadata": {
        "id": "Pb8kk3d391HB"
      },
      "execution_count": null,
      "outputs": []
    },
    {
      "cell_type": "code",
      "source": [
        "zflip3_comment_words.to_csv('/content/drive/MyDrive/graduation/flip_word_bags.csv', index=False)"
      ],
      "metadata": {
        "id": "7fm5JeWg-KT6"
      },
      "execution_count": null,
      "outputs": []
    },
    {
      "cell_type": "code",
      "source": [
        "zflip3_comment_words"
      ],
      "metadata": {
        "id": "xFpq51-r-Vk9",
        "colab": {
          "base_uri": "https://localhost:8080/",
          "height": 424
        },
        "outputId": "d8309bb0-1f6c-481d-e85b-e43347241ea3"
      },
      "execution_count": null,
      "outputs": [
        {
          "output_type": "execute_result",
          "data": {
            "text/plain": [
              "                                           comment_list\n",
              "0                         [느끼다, 기업, 장단점, 좋다, 건너뛰다, 재밌다]\n",
              "1                                     [가정, 순간, 센스, 넘치다]\n",
              "2     [플립, 좋다, 개선, 정리, 시청, 배터리, 녹다, 그리다, 지문인식, 빠르다, ...\n",
              "3     [플립, 넘어오다, 데일, 만족, 배터리, 가조, 아쉽다, 디자인, 계속, 질리다,...\n",
              "4     [배터리, 크다, 단점, 이기다, 저번, 분해, 보니, 위쪽, 공간, 털다, 배터리...\n",
              "...                                                 ...\n",
              "9893                                      [순간, 개그, 박성호]\n",
              "9894                                      [예쁘다, 좋다, 여성]\n",
              "9895                                     [어울리다, 계속, 슬다]\n",
              "9896                             [화면, 벌다, 법도, 가지가지, 고도]\n",
              "9897                                                 []\n",
              "\n",
              "[9898 rows x 1 columns]"
            ],
            "text/html": [
              "\n",
              "  <div id=\"df-921dfdec-3814-4671-a405-356a74d63b65\">\n",
              "    <div class=\"colab-df-container\">\n",
              "      <div>\n",
              "<style scoped>\n",
              "    .dataframe tbody tr th:only-of-type {\n",
              "        vertical-align: middle;\n",
              "    }\n",
              "\n",
              "    .dataframe tbody tr th {\n",
              "        vertical-align: top;\n",
              "    }\n",
              "\n",
              "    .dataframe thead th {\n",
              "        text-align: right;\n",
              "    }\n",
              "</style>\n",
              "<table border=\"1\" class=\"dataframe\">\n",
              "  <thead>\n",
              "    <tr style=\"text-align: right;\">\n",
              "      <th></th>\n",
              "      <th>comment_list</th>\n",
              "    </tr>\n",
              "  </thead>\n",
              "  <tbody>\n",
              "    <tr>\n",
              "      <th>0</th>\n",
              "      <td>[느끼다, 기업, 장단점, 좋다, 건너뛰다, 재밌다]</td>\n",
              "    </tr>\n",
              "    <tr>\n",
              "      <th>1</th>\n",
              "      <td>[가정, 순간, 센스, 넘치다]</td>\n",
              "    </tr>\n",
              "    <tr>\n",
              "      <th>2</th>\n",
              "      <td>[플립, 좋다, 개선, 정리, 시청, 배터리, 녹다, 그리다, 지문인식, 빠르다, ...</td>\n",
              "    </tr>\n",
              "    <tr>\n",
              "      <th>3</th>\n",
              "      <td>[플립, 넘어오다, 데일, 만족, 배터리, 가조, 아쉽다, 디자인, 계속, 질리다,...</td>\n",
              "    </tr>\n",
              "    <tr>\n",
              "      <th>4</th>\n",
              "      <td>[배터리, 크다, 단점, 이기다, 저번, 분해, 보니, 위쪽, 공간, 털다, 배터리...</td>\n",
              "    </tr>\n",
              "    <tr>\n",
              "      <th>...</th>\n",
              "      <td>...</td>\n",
              "    </tr>\n",
              "    <tr>\n",
              "      <th>9893</th>\n",
              "      <td>[순간, 개그, 박성호]</td>\n",
              "    </tr>\n",
              "    <tr>\n",
              "      <th>9894</th>\n",
              "      <td>[예쁘다, 좋다, 여성]</td>\n",
              "    </tr>\n",
              "    <tr>\n",
              "      <th>9895</th>\n",
              "      <td>[어울리다, 계속, 슬다]</td>\n",
              "    </tr>\n",
              "    <tr>\n",
              "      <th>9896</th>\n",
              "      <td>[화면, 벌다, 법도, 가지가지, 고도]</td>\n",
              "    </tr>\n",
              "    <tr>\n",
              "      <th>9897</th>\n",
              "      <td>[]</td>\n",
              "    </tr>\n",
              "  </tbody>\n",
              "</table>\n",
              "<p>9898 rows × 1 columns</p>\n",
              "</div>\n",
              "      <button class=\"colab-df-convert\" onclick=\"convertToInteractive('df-921dfdec-3814-4671-a405-356a74d63b65')\"\n",
              "              title=\"Convert this dataframe to an interactive table.\"\n",
              "              style=\"display:none;\">\n",
              "        \n",
              "  <svg xmlns=\"http://www.w3.org/2000/svg\" height=\"24px\"viewBox=\"0 0 24 24\"\n",
              "       width=\"24px\">\n",
              "    <path d=\"M0 0h24v24H0V0z\" fill=\"none\"/>\n",
              "    <path d=\"M18.56 5.44l.94 2.06.94-2.06 2.06-.94-2.06-.94-.94-2.06-.94 2.06-2.06.94zm-11 1L8.5 8.5l.94-2.06 2.06-.94-2.06-.94L8.5 2.5l-.94 2.06-2.06.94zm10 10l.94 2.06.94-2.06 2.06-.94-2.06-.94-.94-2.06-.94 2.06-2.06.94z\"/><path d=\"M17.41 7.96l-1.37-1.37c-.4-.4-.92-.59-1.43-.59-.52 0-1.04.2-1.43.59L10.3 9.45l-7.72 7.72c-.78.78-.78 2.05 0 2.83L4 21.41c.39.39.9.59 1.41.59.51 0 1.02-.2 1.41-.59l7.78-7.78 2.81-2.81c.8-.78.8-2.07 0-2.86zM5.41 20L4 18.59l7.72-7.72 1.47 1.35L5.41 20z\"/>\n",
              "  </svg>\n",
              "      </button>\n",
              "      \n",
              "  <style>\n",
              "    .colab-df-container {\n",
              "      display:flex;\n",
              "      flex-wrap:wrap;\n",
              "      gap: 12px;\n",
              "    }\n",
              "\n",
              "    .colab-df-convert {\n",
              "      background-color: #E8F0FE;\n",
              "      border: none;\n",
              "      border-radius: 50%;\n",
              "      cursor: pointer;\n",
              "      display: none;\n",
              "      fill: #1967D2;\n",
              "      height: 32px;\n",
              "      padding: 0 0 0 0;\n",
              "      width: 32px;\n",
              "    }\n",
              "\n",
              "    .colab-df-convert:hover {\n",
              "      background-color: #E2EBFA;\n",
              "      box-shadow: 0px 1px 2px rgba(60, 64, 67, 0.3), 0px 1px 3px 1px rgba(60, 64, 67, 0.15);\n",
              "      fill: #174EA6;\n",
              "    }\n",
              "\n",
              "    [theme=dark] .colab-df-convert {\n",
              "      background-color: #3B4455;\n",
              "      fill: #D2E3FC;\n",
              "    }\n",
              "\n",
              "    [theme=dark] .colab-df-convert:hover {\n",
              "      background-color: #434B5C;\n",
              "      box-shadow: 0px 1px 3px 1px rgba(0, 0, 0, 0.15);\n",
              "      filter: drop-shadow(0px 1px 2px rgba(0, 0, 0, 0.3));\n",
              "      fill: #FFFFFF;\n",
              "    }\n",
              "  </style>\n",
              "\n",
              "      <script>\n",
              "        const buttonEl =\n",
              "          document.querySelector('#df-921dfdec-3814-4671-a405-356a74d63b65 button.colab-df-convert');\n",
              "        buttonEl.style.display =\n",
              "          google.colab.kernel.accessAllowed ? 'block' : 'none';\n",
              "\n",
              "        async function convertToInteractive(key) {\n",
              "          const element = document.querySelector('#df-921dfdec-3814-4671-a405-356a74d63b65');\n",
              "          const dataTable =\n",
              "            await google.colab.kernel.invokeFunction('convertToInteractive',\n",
              "                                                     [key], {});\n",
              "          if (!dataTable) return;\n",
              "\n",
              "          const docLinkHtml = 'Like what you see? Visit the ' +\n",
              "            '<a target=\"_blank\" href=https://colab.research.google.com/notebooks/data_table.ipynb>data table notebook</a>'\n",
              "            + ' to learn more about interactive tables.';\n",
              "          element.innerHTML = '';\n",
              "          dataTable['output_type'] = 'display_data';\n",
              "          await google.colab.output.renderOutput(dataTable, element);\n",
              "          const docLink = document.createElement('div');\n",
              "          docLink.innerHTML = docLinkHtml;\n",
              "          element.appendChild(docLink);\n",
              "        }\n",
              "      </script>\n",
              "    </div>\n",
              "  </div>\n",
              "  "
            ]
          },
          "metadata": {},
          "execution_count": 94
        }
      ]
    },
    {
      "cell_type": "code",
      "source": [
        "#zfold 파일 처리"
      ],
      "metadata": {
        "id": "an0mnxwfBpQR"
      },
      "execution_count": null,
      "outputs": []
    },
    {
      "cell_type": "code",
      "source": [
        "new_df['REPLY'] = new_df['REPLY'].apply(lambda x: str(x))"
      ],
      "metadata": {
        "id": "19eOzUyGn8tq"
      },
      "execution_count": null,
      "outputs": []
    },
    {
      "cell_type": "code",
      "source": [
        "new_df = pd.read_csv('/content/drive/MyDrive/graduation/new_df_fold.csv', lineterminator='\\n')"
      ],
      "metadata": {
        "id": "ouNjx5R-D0G9"
      },
      "execution_count": null,
      "outputs": []
    },
    {
      "cell_type": "code",
      "source": [
        "new_df"
      ],
      "metadata": {
        "id": "fudJs75m1y_q",
        "colab": {
          "base_uri": "https://localhost:8080/",
          "height": 424
        },
        "outputId": "42a4a549-7afa-47ef-d8f2-a3e5dc412364"
      },
      "execution_count": null,
      "outputs": [
        {
          "output_type": "execute_result",
          "data": {
            "text/plain": [
              "                                                  REPLY  length  log_length\n",
              "0     왜 모든걸 다할수있게 만들어놓고 외장메모리를 못쓰게해놨을까요ㅜㅠ10년간 갤럭시 주구...     418    6.037871\n",
              "1     이번 폴드와 플립 완성도가 상당히 높다 생각됩니다.시장에 영향이 있을정도로 많이 팔...      61    4.127134\n",
              "2     1년 뒤에 폴드4가 나오면 그땐 정말 완성형이 되지 않을까요? 이번에 폴드2 쓰다가...     104    4.653960\n",
              "3     판매량이 폴더시리즈 역대급 이네요. 없어서 못 팔 지경이라니, 앞으로 새로운 생태계...      52    3.970292\n",
              "4     역시 장단점을 고르게 언급해주셨네요.믿고 보는 잇섭!다만 핸드폰이 패드겸용으로 사용...     283    5.648974\n",
              "...                                                 ...     ...         ...\n",
              "9859                                              안녕하세요       5    1.791759\n",
              "9860                                                 대구       2    1.098612\n",
              "9861                                   올해부터는  낚시는 그만히세요      12    2.564949\n",
              "9862  개인적으로 아직까지는 바 형태의 스마트폰이 낫지 않나 싶어요. 폴드는 너무 두껍고 ...     161    5.087596\n",
              "9863  폴드 왜 쓰는질 모르겠음 휴대성+무게 개쒯이고대화면? 그냥 태블릿을 사서 써...밖...      67    4.219508\n",
              "\n",
              "[9864 rows x 3 columns]"
            ],
            "text/html": [
              "\n",
              "  <div id=\"df-b4b4a6bf-7397-46dc-9076-5fe452af40ef\">\n",
              "    <div class=\"colab-df-container\">\n",
              "      <div>\n",
              "<style scoped>\n",
              "    .dataframe tbody tr th:only-of-type {\n",
              "        vertical-align: middle;\n",
              "    }\n",
              "\n",
              "    .dataframe tbody tr th {\n",
              "        vertical-align: top;\n",
              "    }\n",
              "\n",
              "    .dataframe thead th {\n",
              "        text-align: right;\n",
              "    }\n",
              "</style>\n",
              "<table border=\"1\" class=\"dataframe\">\n",
              "  <thead>\n",
              "    <tr style=\"text-align: right;\">\n",
              "      <th></th>\n",
              "      <th>REPLY</th>\n",
              "      <th>length</th>\n",
              "      <th>log_length</th>\n",
              "    </tr>\n",
              "  </thead>\n",
              "  <tbody>\n",
              "    <tr>\n",
              "      <th>0</th>\n",
              "      <td>왜 모든걸 다할수있게 만들어놓고 외장메모리를 못쓰게해놨을까요ㅜㅠ10년간 갤럭시 주구...</td>\n",
              "      <td>418</td>\n",
              "      <td>6.037871</td>\n",
              "    </tr>\n",
              "    <tr>\n",
              "      <th>1</th>\n",
              "      <td>이번 폴드와 플립 완성도가 상당히 높다 생각됩니다.시장에 영향이 있을정도로 많이 팔...</td>\n",
              "      <td>61</td>\n",
              "      <td>4.127134</td>\n",
              "    </tr>\n",
              "    <tr>\n",
              "      <th>2</th>\n",
              "      <td>1년 뒤에 폴드4가 나오면 그땐 정말 완성형이 되지 않을까요? 이번에 폴드2 쓰다가...</td>\n",
              "      <td>104</td>\n",
              "      <td>4.653960</td>\n",
              "    </tr>\n",
              "    <tr>\n",
              "      <th>3</th>\n",
              "      <td>판매량이 폴더시리즈 역대급 이네요. 없어서 못 팔 지경이라니, 앞으로 새로운 생태계...</td>\n",
              "      <td>52</td>\n",
              "      <td>3.970292</td>\n",
              "    </tr>\n",
              "    <tr>\n",
              "      <th>4</th>\n",
              "      <td>역시 장단점을 고르게 언급해주셨네요.믿고 보는 잇섭!다만 핸드폰이 패드겸용으로 사용...</td>\n",
              "      <td>283</td>\n",
              "      <td>5.648974</td>\n",
              "    </tr>\n",
              "    <tr>\n",
              "      <th>...</th>\n",
              "      <td>...</td>\n",
              "      <td>...</td>\n",
              "      <td>...</td>\n",
              "    </tr>\n",
              "    <tr>\n",
              "      <th>9859</th>\n",
              "      <td>안녕하세요</td>\n",
              "      <td>5</td>\n",
              "      <td>1.791759</td>\n",
              "    </tr>\n",
              "    <tr>\n",
              "      <th>9860</th>\n",
              "      <td>대구</td>\n",
              "      <td>2</td>\n",
              "      <td>1.098612</td>\n",
              "    </tr>\n",
              "    <tr>\n",
              "      <th>9861</th>\n",
              "      <td>올해부터는  낚시는 그만히세요</td>\n",
              "      <td>12</td>\n",
              "      <td>2.564949</td>\n",
              "    </tr>\n",
              "    <tr>\n",
              "      <th>9862</th>\n",
              "      <td>개인적으로 아직까지는 바 형태의 스마트폰이 낫지 않나 싶어요. 폴드는 너무 두껍고 ...</td>\n",
              "      <td>161</td>\n",
              "      <td>5.087596</td>\n",
              "    </tr>\n",
              "    <tr>\n",
              "      <th>9863</th>\n",
              "      <td>폴드 왜 쓰는질 모르겠음 휴대성+무게 개쒯이고대화면? 그냥 태블릿을 사서 써...밖...</td>\n",
              "      <td>67</td>\n",
              "      <td>4.219508</td>\n",
              "    </tr>\n",
              "  </tbody>\n",
              "</table>\n",
              "<p>9864 rows × 3 columns</p>\n",
              "</div>\n",
              "      <button class=\"colab-df-convert\" onclick=\"convertToInteractive('df-b4b4a6bf-7397-46dc-9076-5fe452af40ef')\"\n",
              "              title=\"Convert this dataframe to an interactive table.\"\n",
              "              style=\"display:none;\">\n",
              "        \n",
              "  <svg xmlns=\"http://www.w3.org/2000/svg\" height=\"24px\"viewBox=\"0 0 24 24\"\n",
              "       width=\"24px\">\n",
              "    <path d=\"M0 0h24v24H0V0z\" fill=\"none\"/>\n",
              "    <path d=\"M18.56 5.44l.94 2.06.94-2.06 2.06-.94-2.06-.94-.94-2.06-.94 2.06-2.06.94zm-11 1L8.5 8.5l.94-2.06 2.06-.94-2.06-.94L8.5 2.5l-.94 2.06-2.06.94zm10 10l.94 2.06.94-2.06 2.06-.94-2.06-.94-.94-2.06-.94 2.06-2.06.94z\"/><path d=\"M17.41 7.96l-1.37-1.37c-.4-.4-.92-.59-1.43-.59-.52 0-1.04.2-1.43.59L10.3 9.45l-7.72 7.72c-.78.78-.78 2.05 0 2.83L4 21.41c.39.39.9.59 1.41.59.51 0 1.02-.2 1.41-.59l7.78-7.78 2.81-2.81c.8-.78.8-2.07 0-2.86zM5.41 20L4 18.59l7.72-7.72 1.47 1.35L5.41 20z\"/>\n",
              "  </svg>\n",
              "      </button>\n",
              "      \n",
              "  <style>\n",
              "    .colab-df-container {\n",
              "      display:flex;\n",
              "      flex-wrap:wrap;\n",
              "      gap: 12px;\n",
              "    }\n",
              "\n",
              "    .colab-df-convert {\n",
              "      background-color: #E8F0FE;\n",
              "      border: none;\n",
              "      border-radius: 50%;\n",
              "      cursor: pointer;\n",
              "      display: none;\n",
              "      fill: #1967D2;\n",
              "      height: 32px;\n",
              "      padding: 0 0 0 0;\n",
              "      width: 32px;\n",
              "    }\n",
              "\n",
              "    .colab-df-convert:hover {\n",
              "      background-color: #E2EBFA;\n",
              "      box-shadow: 0px 1px 2px rgba(60, 64, 67, 0.3), 0px 1px 3px 1px rgba(60, 64, 67, 0.15);\n",
              "      fill: #174EA6;\n",
              "    }\n",
              "\n",
              "    [theme=dark] .colab-df-convert {\n",
              "      background-color: #3B4455;\n",
              "      fill: #D2E3FC;\n",
              "    }\n",
              "\n",
              "    [theme=dark] .colab-df-convert:hover {\n",
              "      background-color: #434B5C;\n",
              "      box-shadow: 0px 1px 3px 1px rgba(0, 0, 0, 0.15);\n",
              "      filter: drop-shadow(0px 1px 2px rgba(0, 0, 0, 0.3));\n",
              "      fill: #FFFFFF;\n",
              "    }\n",
              "  </style>\n",
              "\n",
              "      <script>\n",
              "        const buttonEl =\n",
              "          document.querySelector('#df-b4b4a6bf-7397-46dc-9076-5fe452af40ef button.colab-df-convert');\n",
              "        buttonEl.style.display =\n",
              "          google.colab.kernel.accessAllowed ? 'block' : 'none';\n",
              "\n",
              "        async function convertToInteractive(key) {\n",
              "          const element = document.querySelector('#df-b4b4a6bf-7397-46dc-9076-5fe452af40ef');\n",
              "          const dataTable =\n",
              "            await google.colab.kernel.invokeFunction('convertToInteractive',\n",
              "                                                     [key], {});\n",
              "          if (!dataTable) return;\n",
              "\n",
              "          const docLinkHtml = 'Like what you see? Visit the ' +\n",
              "            '<a target=\"_blank\" href=https://colab.research.google.com/notebooks/data_table.ipynb>data table notebook</a>'\n",
              "            + ' to learn more about interactive tables.';\n",
              "          element.innerHTML = '';\n",
              "          dataTable['output_type'] = 'display_data';\n",
              "          await google.colab.output.renderOutput(dataTable, element);\n",
              "          const docLink = document.createElement('div');\n",
              "          docLink.innerHTML = docLinkHtml;\n",
              "          element.appendChild(docLink);\n",
              "        }\n",
              "      </script>\n",
              "    </div>\n",
              "  </div>\n",
              "  "
            ]
          },
          "metadata": {},
          "execution_count": 98
        }
      ]
    },
    {
      "cell_type": "code",
      "source": [
        "zfold3_comment_words = pd.DataFrame(columns = ['comment_list'])"
      ],
      "metadata": {
        "id": "LAleYiuFECsB"
      },
      "execution_count": null,
      "outputs": []
    },
    {
      "cell_type": "code",
      "source": [
        "zfold3_comment_words['comment_list'] = new_df['REPLY'].apply(lambda x: preprocessing(str(x)))"
      ],
      "metadata": {
        "id": "cq-Oz-Z_D69L"
      },
      "execution_count": null,
      "outputs": []
    },
    {
      "cell_type": "code",
      "source": [
        "zfold3_comment_words.to_csv('/content/drive/MyDrive/graduation/fold_word_bags.csv', index=False)"
      ],
      "metadata": {
        "id": "RHhygbFCEFJh"
      },
      "execution_count": null,
      "outputs": []
    },
    {
      "cell_type": "code",
      "source": [
        "zfold3_comment_words"
      ],
      "metadata": {
        "id": "iUzQDAYlEMMR",
        "colab": {
          "base_uri": "https://localhost:8080/",
          "height": 424
        },
        "outputId": "feeb49c7-803b-4de6-ab93-84b455ab44f0"
      },
      "execution_count": null,
      "outputs": [
        {
          "output_type": "execute_result",
          "data": {
            "text/plain": [
              "                                           comment_list\n",
              "0                                                    []\n",
              "1                                                    []\n",
              "2     [폴드, 때다, 완성, 폴드, 플립, 넘어오다, 보니, 폴드, 괜찮다, 무게, 내부...\n",
              "3     [판매량, 폴더, 시리즈, 역대급, 새롭다, 생태계, 구축, 게임, 체인, 저가, ...\n",
              "4                                                    []\n",
              "...                                                 ...\n",
              "9859                                                 []\n",
              "9860                                                 []\n",
              "9861                                           [올해, 낚시]\n",
              "9862  [까지다, 태의, 스마트폰, 낫다, 폴드, 두껍, 고무, 플립, 예쁘다, 휴대, 아...\n",
              "9863                                                 []\n",
              "\n",
              "[9864 rows x 1 columns]"
            ],
            "text/html": [
              "\n",
              "  <div id=\"df-783c1338-7208-48cd-93c4-ab1bfd20cd04\">\n",
              "    <div class=\"colab-df-container\">\n",
              "      <div>\n",
              "<style scoped>\n",
              "    .dataframe tbody tr th:only-of-type {\n",
              "        vertical-align: middle;\n",
              "    }\n",
              "\n",
              "    .dataframe tbody tr th {\n",
              "        vertical-align: top;\n",
              "    }\n",
              "\n",
              "    .dataframe thead th {\n",
              "        text-align: right;\n",
              "    }\n",
              "</style>\n",
              "<table border=\"1\" class=\"dataframe\">\n",
              "  <thead>\n",
              "    <tr style=\"text-align: right;\">\n",
              "      <th></th>\n",
              "      <th>comment_list</th>\n",
              "    </tr>\n",
              "  </thead>\n",
              "  <tbody>\n",
              "    <tr>\n",
              "      <th>0</th>\n",
              "      <td>[]</td>\n",
              "    </tr>\n",
              "    <tr>\n",
              "      <th>1</th>\n",
              "      <td>[]</td>\n",
              "    </tr>\n",
              "    <tr>\n",
              "      <th>2</th>\n",
              "      <td>[폴드, 때다, 완성, 폴드, 플립, 넘어오다, 보니, 폴드, 괜찮다, 무게, 내부...</td>\n",
              "    </tr>\n",
              "    <tr>\n",
              "      <th>3</th>\n",
              "      <td>[판매량, 폴더, 시리즈, 역대급, 새롭다, 생태계, 구축, 게임, 체인, 저가, ...</td>\n",
              "    </tr>\n",
              "    <tr>\n",
              "      <th>4</th>\n",
              "      <td>[]</td>\n",
              "    </tr>\n",
              "    <tr>\n",
              "      <th>...</th>\n",
              "      <td>...</td>\n",
              "    </tr>\n",
              "    <tr>\n",
              "      <th>9859</th>\n",
              "      <td>[]</td>\n",
              "    </tr>\n",
              "    <tr>\n",
              "      <th>9860</th>\n",
              "      <td>[]</td>\n",
              "    </tr>\n",
              "    <tr>\n",
              "      <th>9861</th>\n",
              "      <td>[올해, 낚시]</td>\n",
              "    </tr>\n",
              "    <tr>\n",
              "      <th>9862</th>\n",
              "      <td>[까지다, 태의, 스마트폰, 낫다, 폴드, 두껍, 고무, 플립, 예쁘다, 휴대, 아...</td>\n",
              "    </tr>\n",
              "    <tr>\n",
              "      <th>9863</th>\n",
              "      <td>[]</td>\n",
              "    </tr>\n",
              "  </tbody>\n",
              "</table>\n",
              "<p>9864 rows × 1 columns</p>\n",
              "</div>\n",
              "      <button class=\"colab-df-convert\" onclick=\"convertToInteractive('df-783c1338-7208-48cd-93c4-ab1bfd20cd04')\"\n",
              "              title=\"Convert this dataframe to an interactive table.\"\n",
              "              style=\"display:none;\">\n",
              "        \n",
              "  <svg xmlns=\"http://www.w3.org/2000/svg\" height=\"24px\"viewBox=\"0 0 24 24\"\n",
              "       width=\"24px\">\n",
              "    <path d=\"M0 0h24v24H0V0z\" fill=\"none\"/>\n",
              "    <path d=\"M18.56 5.44l.94 2.06.94-2.06 2.06-.94-2.06-.94-.94-2.06-.94 2.06-2.06.94zm-11 1L8.5 8.5l.94-2.06 2.06-.94-2.06-.94L8.5 2.5l-.94 2.06-2.06.94zm10 10l.94 2.06.94-2.06 2.06-.94-2.06-.94-.94-2.06-.94 2.06-2.06.94z\"/><path d=\"M17.41 7.96l-1.37-1.37c-.4-.4-.92-.59-1.43-.59-.52 0-1.04.2-1.43.59L10.3 9.45l-7.72 7.72c-.78.78-.78 2.05 0 2.83L4 21.41c.39.39.9.59 1.41.59.51 0 1.02-.2 1.41-.59l7.78-7.78 2.81-2.81c.8-.78.8-2.07 0-2.86zM5.41 20L4 18.59l7.72-7.72 1.47 1.35L5.41 20z\"/>\n",
              "  </svg>\n",
              "      </button>\n",
              "      \n",
              "  <style>\n",
              "    .colab-df-container {\n",
              "      display:flex;\n",
              "      flex-wrap:wrap;\n",
              "      gap: 12px;\n",
              "    }\n",
              "\n",
              "    .colab-df-convert {\n",
              "      background-color: #E8F0FE;\n",
              "      border: none;\n",
              "      border-radius: 50%;\n",
              "      cursor: pointer;\n",
              "      display: none;\n",
              "      fill: #1967D2;\n",
              "      height: 32px;\n",
              "      padding: 0 0 0 0;\n",
              "      width: 32px;\n",
              "    }\n",
              "\n",
              "    .colab-df-convert:hover {\n",
              "      background-color: #E2EBFA;\n",
              "      box-shadow: 0px 1px 2px rgba(60, 64, 67, 0.3), 0px 1px 3px 1px rgba(60, 64, 67, 0.15);\n",
              "      fill: #174EA6;\n",
              "    }\n",
              "\n",
              "    [theme=dark] .colab-df-convert {\n",
              "      background-color: #3B4455;\n",
              "      fill: #D2E3FC;\n",
              "    }\n",
              "\n",
              "    [theme=dark] .colab-df-convert:hover {\n",
              "      background-color: #434B5C;\n",
              "      box-shadow: 0px 1px 3px 1px rgba(0, 0, 0, 0.15);\n",
              "      filter: drop-shadow(0px 1px 2px rgba(0, 0, 0, 0.3));\n",
              "      fill: #FFFFFF;\n",
              "    }\n",
              "  </style>\n",
              "\n",
              "      <script>\n",
              "        const buttonEl =\n",
              "          document.querySelector('#df-783c1338-7208-48cd-93c4-ab1bfd20cd04 button.colab-df-convert');\n",
              "        buttonEl.style.display =\n",
              "          google.colab.kernel.accessAllowed ? 'block' : 'none';\n",
              "\n",
              "        async function convertToInteractive(key) {\n",
              "          const element = document.querySelector('#df-783c1338-7208-48cd-93c4-ab1bfd20cd04');\n",
              "          const dataTable =\n",
              "            await google.colab.kernel.invokeFunction('convertToInteractive',\n",
              "                                                     [key], {});\n",
              "          if (!dataTable) return;\n",
              "\n",
              "          const docLinkHtml = 'Like what you see? Visit the ' +\n",
              "            '<a target=\"_blank\" href=https://colab.research.google.com/notebooks/data_table.ipynb>data table notebook</a>'\n",
              "            + ' to learn more about interactive tables.';\n",
              "          element.innerHTML = '';\n",
              "          dataTable['output_type'] = 'display_data';\n",
              "          await google.colab.output.renderOutput(dataTable, element);\n",
              "          const docLink = document.createElement('div');\n",
              "          docLink.innerHTML = docLinkHtml;\n",
              "          element.appendChild(docLink);\n",
              "        }\n",
              "      </script>\n",
              "    </div>\n",
              "  </div>\n",
              "  "
            ]
          },
          "metadata": {},
          "execution_count": 102
        }
      ]
    },
    {
      "cell_type": "code",
      "source": [
        "### wordcloud 생성"
      ],
      "metadata": {
        "id": "tnkGYCxTKrwj"
      },
      "execution_count": null,
      "outputs": []
    },
    {
      "cell_type": "code",
      "source": [
        "#flip_wordcloud"
      ],
      "metadata": {
        "id": "y7_gOmEqKv-c"
      },
      "execution_count": null,
      "outputs": []
    },
    {
      "cell_type": "code",
      "source": [
        "flip_words = []\n",
        "for bag in zflip3_comment_words['comment_list'].to_list():\n",
        "  for w in bag:\n",
        "    if len(w)>1: #1음절 표현은 의미를 파악하기 어려워서 제거\n",
        "      flip_words.append(w)"
      ],
      "metadata": {
        "id": "H_f7OQwWFz_w"
      },
      "execution_count": null,
      "outputs": []
    },
    {
      "cell_type": "code",
      "source": [
        "len(flip_words)"
      ],
      "metadata": {
        "id": "X-pxzdqGHE6p",
        "colab": {
          "base_uri": "https://localhost:8080/"
        },
        "outputId": "5ec21e1a-30ac-48e6-bb6e-13ac154780f3"
      },
      "execution_count": null,
      "outputs": [
        {
          "output_type": "execute_result",
          "data": {
            "text/plain": [
              "43560"
            ]
          },
          "metadata": {},
          "execution_count": 106
        }
      ]
    },
    {
      "cell_type": "code",
      "source": [
        "from collections import Counter\n",
        "counter = Counter(flip_words)\n",
        "flip_common = counter.most_common(30)"
      ],
      "metadata": {
        "id": "c7YetfK_HJ8F"
      },
      "execution_count": null,
      "outputs": []
    },
    {
      "cell_type": "code",
      "source": [
        "from wordcloud import WordCloud"
      ],
      "metadata": {
        "id": "oVozqqPLIe85"
      },
      "execution_count": null,
      "outputs": []
    },
    {
      "cell_type": "code",
      "source": [
        "flip_common"
      ],
      "metadata": {
        "id": "y9YJh1OpJzLg",
        "colab": {
          "base_uri": "https://localhost:8080/"
        },
        "outputId": "ece57a73-08b1-49cf-c775-2b1b8f48e540"
      },
      "execution_count": null,
      "outputs": [
        {
          "output_type": "execute_result",
          "data": {
            "text/plain": [
              "[('플립', 1861),\n",
              " ('예쁘다', 1243),\n",
              " ('좋다', 865),\n",
              " ('디자인', 666),\n",
              " ('배터리', 565),\n",
              " ('접다', 556),\n",
              " ('화면', 436),\n",
              " ('사다', 339),\n",
              " ('색깔', 329),\n",
              " ('바꾸다', 285),\n",
              " ('케이스', 275),\n",
              " ('단점', 233),\n",
              " ('고민', 231),\n",
              " ('카메라', 224),\n",
              " ('발열', 221),\n",
              " ('크다', 220),\n",
              " ('갈아타다', 219),\n",
              " ('폴드', 208),\n",
              " ('불편', 195),\n",
              " ('삼성페이', 185),\n",
              " ('넘어가다', 179),\n",
              " ('열다', 162),\n",
              " ('느끼다', 161),\n",
              " ('느낌', 160),\n",
              " ('기능', 146),\n",
              " ('노트', 143),\n",
              " ('핸드폰', 137),\n",
              " ('만족', 134),\n",
              " ('액정', 133),\n",
              " ('충전', 119)]"
            ]
          },
          "metadata": {},
          "execution_count": 109
        }
      ]
    },
    {
      "cell_type": "code",
      "source": [
        "wc = WordCloud(font_path='/content/drive/MyDrive/graduation/SamsungOneKoreanOTF 600.otf',background_color=\"white\", max_font_size=60)\n",
        "cloud = wc.generate_from_frequencies(dict(flip_common))"
      ],
      "metadata": {
        "id": "P1a3QekhINC-"
      },
      "execution_count": null,
      "outputs": []
    },
    {
      "cell_type": "code",
      "source": [
        "plt.figure(figsize=(10, 8))\n",
        "plt.axis('off')\n",
        "plt.imshow(cloud)\n",
        "plt.show()"
      ],
      "metadata": {
        "id": "XZ6Z9KuTIygt",
        "colab": {
          "base_uri": "https://localhost:8080/",
          "height": 310
        },
        "outputId": "4111b7f3-a3d0-42b2-892b-3306b98a923a"
      },
      "execution_count": null,
      "outputs": [
        {
          "output_type": "display_data",
          "data": {
            "text/plain": [
              "<Figure size 720x576 with 1 Axes>"
            ],
            "image/png": "[encoded data removed]"
          },
          "metadata": {
            "needs_background": "light"
          }
        }
      ]
    },
    {
      "cell_type": "code",
      "source": [
        "cloud.to_file('/content/drive/MyDrive/graduation/flip0508.jpg')"
      ],
      "metadata": {
        "id": "IVr9BzusKTCJ",
        "colab": {
          "base_uri": "https://localhost:8080/"
        },
        "outputId": "168a6e36-75d4-4c2b-9d02-0cdeaeb25a56"
      },
      "execution_count": null,
      "outputs": [
        {
          "output_type": "execute_result",
          "data": {
            "text/plain": [
              "<wordcloud.wordcloud.WordCloud at 0x7fc04dead110>"
            ]
          },
          "metadata": {},
          "execution_count": 112
        }
      ]
    },
    {
      "cell_type": "code",
      "source": [
        "#z폴드 단어 빈도 및 워드클라우드"
      ],
      "metadata": {
        "id": "CwWTUpkMlxvp"
      },
      "execution_count": null,
      "outputs": []
    },
    {
      "cell_type": "code",
      "source": [
        "fold_words = []\n",
        "for bag in zfold3_comment_words['comment_list'].to_list():\n",
        "  for w in bag:\n",
        "    if len(w)>1:\n",
        "      fold_words.append(w)\n",
        "\n",
        "counter = Counter(fold_words)\n",
        "fold_common = counter.most_common(30)\n",
        "\n",
        "wc = WordCloud(font_path='/content/drive/MyDrive/graduation/SamsungOneKoreanOTF 600.otf',background_color=\"white\", max_font_size=60)\n",
        "cloud = wc.generate_from_frequencies(dict(fold_common))\n",
        "\n",
        "cloud.to_file('/content/drive/MyDrive/graduation/fold0508.jpg')\n",
        "\n",
        "plt.figure(figsize=(10, 8))\n",
        "plt.axis('off')\n",
        "plt.imshow(cloud)\n",
        "plt.show()"
      ],
      "metadata": {
        "id": "ScMr_88OKmpU",
        "colab": {
          "base_uri": "https://localhost:8080/",
          "height": 310
        },
        "outputId": "11e4b51b-c0a8-43cb-b6a5-e6999fe9ab52"
      },
      "execution_count": null,
      "outputs": [
        {
          "output_type": "display_data",
          "data": {
            "text/plain": [
              "<Figure size 720x576 with 1 Axes>"
            ],
            "image/png": "[encoded data removed]"
          },
          "metadata": {
            "needs_background": "light"
          }
        }
      ]
    },
    {
      "cell_type": "code",
      "source": [
        "fold_common"
      ],
      "metadata": {
        "id": "SS-EQtqeLPCP",
        "colab": {
          "base_uri": "https://localhost:8080/"
        },
        "outputId": "4f59292d-3a64-4194-f54e-8d2278c717be"
      },
      "execution_count": null,
      "outputs": [
        {
          "output_type": "execute_result",
          "data": {
            "text/plain": [
              "[('폴드', 2306),\n",
              " ('좋다', 1258),\n",
              " ('화면', 723),\n",
              " ('언더디스플레이카메라', 607),\n",
              " ('플립', 550),\n",
              " ('카메라', 527),\n",
              " ('노트', 333),\n",
              " ('크다', 302),\n",
              " ('접다', 291),\n",
              " ('사다', 282),\n",
              " ('방수', 260),\n",
              " ('에스펜', 238),\n",
              " ('느낌', 233),\n",
              " ('단점', 227),\n",
              " ('무게', 223),\n",
              " ('가격', 223),\n",
              " ('예쁘다', 220),\n",
              " ('아쉽다', 205),\n",
              " ('기능', 191),\n",
              " ('배터리', 183),\n",
              " ('디스플레이', 181),\n",
              " ('색깔', 174),\n",
              " ('기다리다', 167),\n",
              " ('구매', 167),\n",
              " ('기대', 165),\n",
              " ('기술', 164),\n",
              " ('느끼다', 162),\n",
              " ('비교', 160),\n",
              " ('디자인', 160),\n",
              " ('제품', 151)]"
            ]
          },
          "metadata": {},
          "execution_count": 115
        }
      ]
    },
    {
      "cell_type": "code",
      "source": [
        "commonflipwords = [w for w, i in flip_common]\n",
        "commonfoldwords = [w for w, i in fold_common]"
      ],
      "metadata": {
        "id": "93dYbwIXni2Z"
      },
      "execution_count": null,
      "outputs": []
    },
    {
      "cell_type": "code",
      "source": [
        "#플립, 폴드 공통으로 나타나는 고빈도 어휘\n",
        "set(commonflipwords).intersection(set(commonfoldwords))"
      ],
      "metadata": {
        "id": "QqniAuJSvXUF",
        "colab": {
          "base_uri": "https://localhost:8080/"
        },
        "outputId": "90a23be3-9d3e-40d6-b32f-dec095455ad6"
      },
      "execution_count": null,
      "outputs": [
        {
          "output_type": "execute_result",
          "data": {
            "text/plain": [
              "{'기능',\n",
              " '노트',\n",
              " '느끼다',\n",
              " '느낌',\n",
              " '단점',\n",
              " '디자인',\n",
              " '배터리',\n",
              " '사다',\n",
              " '색깔',\n",
              " '예쁘다',\n",
              " '접다',\n",
              " '좋다',\n",
              " '카메라',\n",
              " '크다',\n",
              " '폴드',\n",
              " '플립',\n",
              " '화면'}"
            ]
          },
          "metadata": {},
          "execution_count": 117
        }
      ]
    },
    {
      "cell_type": "code",
      "source": [
        "#flip에만 나타나는 고빈도 어휘\n",
        "set(commonflipwords).difference(set(commonfoldwords))"
      ],
      "metadata": {
        "id": "BXaOdG1nv0y6",
        "colab": {
          "base_uri": "https://localhost:8080/"
        },
        "outputId": "f26130c9-ba3b-4959-aeba-aab00b810670"
      },
      "execution_count": null,
      "outputs": [
        {
          "output_type": "execute_result",
          "data": {
            "text/plain": [
              "{'갈아타다',\n",
              " '고민',\n",
              " '넘어가다',\n",
              " '만족',\n",
              " '바꾸다',\n",
              " '발열',\n",
              " '불편',\n",
              " '삼성페이',\n",
              " '액정',\n",
              " '열다',\n",
              " '충전',\n",
              " '케이스',\n",
              " '핸드폰'}"
            ]
          },
          "metadata": {},
          "execution_count": 118
        }
      ]
    },
    {
      "cell_type": "code",
      "source": [
        "#fold에만 나타나는 고빈도 어휘\n",
        "set(commonfoldwords).difference(set(commonflipwords))"
      ],
      "metadata": {
        "id": "7YIJ3g9UwFeR",
        "colab": {
          "base_uri": "https://localhost:8080/"
        },
        "outputId": "c0546373-6f54-49bd-c5be-e09328af9888"
      },
      "execution_count": null,
      "outputs": [
        {
          "output_type": "execute_result",
          "data": {
            "text/plain": [
              "{'가격',\n",
              " '구매',\n",
              " '기다리다',\n",
              " '기대',\n",
              " '기술',\n",
              " '디스플레이',\n",
              " '무게',\n",
              " '방수',\n",
              " '비교',\n",
              " '아쉽다',\n",
              " '언더디스플레이카메라',\n",
              " '에스펜',\n",
              " '제품'}"
            ]
          },
          "metadata": {},
          "execution_count": 119
        }
      ]
    },
    {
      "cell_type": "code",
      "source": [
        "# 토픽모델링 "
      ],
      "metadata": {
        "id": "MBR8BR5nc5LY"
      },
      "execution_count": null,
      "outputs": []
    },
    {
      "cell_type": "code",
      "execution_count": null,
      "metadata": {
        "id": "krvznb6fzzN8"
      },
      "outputs": [],
      "source": [
        "import pandas as pd\n",
        "import re\n",
        "import wordcloud\n",
        "import os\n",
        "import gensim\n",
        "import numpy as np\n",
        "import requests\n",
        "import matplotlib.pyplot as plt\n",
        "import seaborn as sns\n",
        "import sklearn\n",
        "from sklearn.feature_extraction.text import TfidfVectorizer\n",
        "from sklearn.decomposition import LatentDirichletAllocation"
      ]
    },
    {
      "cell_type": "code",
      "source": [
        "flip_bag = pd.read_csv(\"/content/drive/MyDrive/graduation/flip_word_bags.csv\")\n",
        "fold_bag = pd.read_csv(\"/content/drive/MyDrive/graduation/fold_word_bags.csv\")"
      ],
      "metadata": {
        "id": "R8mYXYAv27mb"
      },
      "execution_count": null,
      "outputs": []
    },
    {
      "cell_type": "code",
      "source": [
        "\n",
        "#플립 학습데이터\n",
        "flip_vocab = []\n",
        "for i in range(len(flip_bag['comment_list'])):\n",
        "  ls = []\n",
        "  for w in flip_bag['comment_list'][i].replace('[','').replace(']','').split(','):\n",
        "    ls.append(w.replace(\"'\",'').replace(' ',''))\n",
        "  flip_vocab.append(ls)\n",
        "\n",
        "#폴드 학습데이터\n",
        "fold_vocab = []\n",
        "for i in range(len(fold_bag['comment_list'])):\n",
        "  ls = []\n",
        "  for w in fold_bag['comment_list'][i].replace('[','').replace(']','').split(','):\n",
        "    ls.append(w.replace(\"'\",'').replace(' ',''))\n",
        "  fold_vocab.append(ls)"
      ],
      "metadata": {
        "id": "iAN7NKbJyM1m"
      },
      "execution_count": null,
      "outputs": []
    },
    {
      "cell_type": "code",
      "source": [
        "#LDA"
      ],
      "metadata": {
        "id": "_HidgEQyOtYX"
      },
      "execution_count": null,
      "outputs": []
    },
    {
      "cell_type": "code",
      "source": [
        "#플립 댓글의 토픽모델링"
      ],
      "metadata": {
        "id": "5SZY8iScKoVI"
      },
      "execution_count": null,
      "outputs": []
    },
    {
      "cell_type": "code",
      "source": [
        "detokenized = []\n",
        "for i in range(len(flip_vocab)):\n",
        "  text = ' '.join(flip_vocab[i])\n",
        "  detokenized.append(text)"
      ],
      "metadata": {
        "id": "Ha2xCNNo_UJe"
      },
      "execution_count": null,
      "outputs": []
    },
    {
      "cell_type": "code",
      "source": [
        "detokenized[:3]"
      ],
      "metadata": {
        "colab": {
          "base_uri": "https://localhost:8080/"
        },
        "id": "VoJ4-fEFB93c",
        "outputId": "22a6c5ba-3a85-4f36-c259-4ef76e258642"
      },
      "execution_count": null,
      "outputs": [
        {
          "output_type": "execute_result",
          "data": {
            "text/plain": [
              "['느끼다 기업 장단점 좋다 건너뛰다 재밌다',\n",
              " '가정 순간 센스 넘치다',\n",
              " '플립 좋다 개선 정리 시청 배터리 녹다 그리다 지문인식 빠르다 좋다 배터리 발열 개선']"
            ]
          },
          "metadata": {},
          "execution_count": 144
        }
      ]
    },
    {
      "cell_type": "code",
      "source": [
        "from sklearn.feature_extraction.text import TfidfVectorizer\n",
        "from sklearn.decomposition import LatentDirichletAllocation"
      ],
      "metadata": {
        "id": "qBQXKVt1CCLN"
      },
      "execution_count": null,
      "outputs": []
    },
    {
      "cell_type": "code",
      "source": [
        "vectorizer = TfidfVectorizer(max_features=1000)\n",
        "tfidf = vectorizer.fit_transform(detokenized)"
      ],
      "metadata": {
        "id": "fuDmW-FyCWeo"
      },
      "execution_count": null,
      "outputs": []
    },
    {
      "cell_type": "code",
      "source": [
        "tfidf.shape"
      ],
      "metadata": {
        "colab": {
          "base_uri": "https://localhost:8080/"
        },
        "id": "kROh7TFqDAB6",
        "outputId": "9fc7ece8-32b6-4711-aa9e-bcc1af55b29d"
      },
      "execution_count": null,
      "outputs": [
        {
          "output_type": "execute_result",
          "data": {
            "text/plain": [
              "(9898, 1000)"
            ]
          },
          "metadata": {},
          "execution_count": 147
        }
      ]
    },
    {
      "cell_type": "code",
      "source": [
        "lda_model = LatentDirichletAllocation(n_components=6,learning_method='online',random_state=777,max_iter=1)\n",
        "lda_top = lda_model.fit_transform(tfidf)\n"
      ],
      "metadata": {
        "id": "BjV05hEHDBCv"
      },
      "execution_count": null,
      "outputs": []
    },
    {
      "cell_type": "code",
      "source": [
        "terms = vectorizer.get_feature_names()\n",
        "\n",
        "def get_topics(components, feature_names, n=10):\n",
        "    for idx, topic in enumerate(components):\n",
        "        print(\"Topic %d:\" % (idx+1), [(feature_names[i], topic[i].round(2)) for i in topic.argsort()[:-n - 1:-1]])\n",
        "\n",
        "get_topics(lda_model.components_,terms)"
      ],
      "metadata": {
        "colab": {
          "base_uri": "https://localhost:8080/"
        },
        "id": "TCVg3xF2FkqP",
        "outputId": "10eeef17-da38-43fc-cfe8-ba7370fe0a7b"
      },
      "execution_count": null,
      "outputs": [
        {
          "output_type": "stream",
          "name": "stdout",
          "text": [
            "Topic 1: [('배터리', 49.82), ('빼다', 43.8), ('단점', 43.24), ('게임', 37.76), ('갖다', 31.91), ('플립', 30.96), ('아쉽다', 30.45), ('예쁘다', 29.59), ('대박', 27.3), ('발열', 25.01)]\n",
            "Topic 2: [('화면', 67.97), ('가격', 51.11), ('핸드폰', 47.78), ('플립', 46.84), ('케이스', 46.05), ('액정', 37.69), ('크림', 35.6), ('접다', 33.41), ('예쁘다', 32.29), ('다니다', 32.28)]\n",
            "Topic 3: [('디자인', 71.65), ('바꾸다', 66.46), ('귀엽다', 55.84), ('감성', 38.53), ('플립', 36.52), ('미치다', 36.41), ('재밌다', 35.63), ('갈다', 35.51), ('닮다', 29.3), ('주다', 27.45)]\n",
            "Topic 4: [('예쁘다', 407.39), ('사다', 136.81), ('갈아타다', 114.83), ('색깔', 107.64), ('플립', 82.7), ('그린', 58.88), ('실물', 41.88), ('아이패드', 37.0), ('들어오다', 36.49), ('디자인', 36.02)]\n",
            "Topic 5: [('플립', 188.93), ('폴드', 70.05), ('넘어가다', 60.86), ('카메라', 55.94), ('고민', 44.09), ('크다', 33.58), ('느낌', 32.25), ('기다리다', 31.78), ('좋다', 31.22), ('신경', 30.57)]\n",
            "Topic 6: [('케이스', 161.85), ('좋다', 132.43), ('접다', 105.48), ('플립', 63.5), ('불편', 49.24), ('열다', 43.68), ('빠지다', 39.68), ('아이폰십삼', 33.69), ('닫다', 32.21), ('화면', 29.95)]\n"
          ]
        },
        {
          "output_type": "stream",
          "name": "stderr",
          "text": [
            "/usr/local/lib/python3.7/dist-packages/sklearn/utils/deprecation.py:87: FutureWarning: Function get_feature_names is deprecated; get_feature_names is deprecated in 1.0 and will be removed in 1.2. Please use get_feature_names_out instead.\n",
            "  warnings.warn(msg, category=FutureWarning)\n"
          ]
        }
      ]
    },
    {
      "cell_type": "code",
      "execution_count": null,
      "metadata": {
        "id": "HxKaq5VIRF0V"
      },
      "outputs": [],
      "source": [
        "#visualization - flip"
      ]
    },
    {
      "cell_type": "code",
      "execution_count": null,
      "metadata": {
        "colab": {
          "base_uri": "https://localhost:8080/",
          "height": 953
        },
        "id": "MRNJXv7ERNSn",
        "outputId": "0ed958ad-06ca-4f6e-d6d6-3ea72046036f"
      },
      "outputs": [
        {
          "output_type": "stream",
          "name": "stderr",
          "text": [
            "/usr/local/lib/python3.7/dist-packages/sklearn/utils/deprecation.py:87: FutureWarning: Function get_feature_names is deprecated; get_feature_names is deprecated in 1.0 and will be removed in 1.2. Please use get_feature_names_out instead.\n",
            "  warnings.warn(msg, category=FutureWarning)\n",
            "/usr/local/lib/python3.7/dist-packages/pyLDAvis/_prepare.py:247: FutureWarning: In a future version of pandas all arguments of DataFrame.drop except for the argument 'labels' will be keyword-only\n",
            "  by='saliency', ascending=False).head(R).drop('saliency', 1)\n"
          ]
        },
        {
          "output_type": "execute_result",
          "data": {
            "text/plain": [
              "PreparedData(topic_coordinates=              x         y  topics  cluster       Freq\n",
              "topic                                                \n",
              "5     -0.201813  0.128882       1        1  19.557506\n",
              "1     -0.182113  0.071186       2        1  19.159887\n",
              "4      0.050293 -0.036493       3        1  16.521763\n",
              "3      0.264667  0.183058       4        1  16.294791\n",
              "0      0.056728 -0.076372       5        1  15.419023\n",
              "2      0.012238 -0.270262       6        1  13.047031, topic_info=     Term        Freq       Total Category  logprob  loglift\n",
              "612   예쁘다  469.000000  469.000000  Default  30.0000  30.0000\n",
              "884   케이스  195.000000  195.000000  Default  29.0000  29.0000\n",
              "421    사다  148.000000  148.000000  Default  28.0000  28.0000\n",
              "23   갈아타다  106.000000  106.000000  Default  27.0000  27.0000\n",
              "446    색깔   97.000000   97.000000  Default  26.0000  26.0000\n",
              "..    ...         ...         ...      ...      ...      ...\n",
              "86     구매   23.131440   35.109097   Topic6  -4.2947   1.6193\n",
              "429   사용자   17.232211   24.031778   Topic6  -4.5891   1.7040\n",
              "938    플립   41.261129  450.694885   Topic6  -3.7160  -0.3543\n",
              "175   느끼다   16.845988   61.877725   Topic6  -4.6118   0.7356\n",
              "795    좋다   15.126715  223.077169   Topic6  -4.7194  -0.6544\n",
              "\n",
              "[295 rows x 6 columns], token_table=      Topic      Freq  Term\n",
              "term                       \n",
              "1         2  0.983060    가격\n",
              "2         3  0.955151    가나\n",
              "9         2  0.905504   가볍다\n",
              "12        2  0.965081   가운데\n",
              "16        3  0.137187    가지\n",
              "...     ...       ...   ...\n",
              "991       1  0.946255    후기\n",
              "996       1  0.961696   휴대성\n",
              "997       2  0.846321   휴대폰\n",
              "997       3  0.094036   휴대폰\n",
              "998       6  0.944532  흔들리다\n",
              "\n",
              "[357 rows x 3 columns], R=30, lambda_step=0.01, plot_opts={'xlab': 'PC1', 'ylab': 'PC2'}, topic_order=[6, 2, 5, 4, 1, 3])"
            ],
            "text/html": [
              "\n",
              "<link rel=\"stylesheet\" type=\"text/css\" href=\"https://cdn.jsdelivr.net/gh/bmabey/pyLDAvis@3.3.1/pyLDAvis/js/ldavis.v1.0.0.css\">\n",
              "\n",
              "\n",
              "<div id=\"ldavis_el591404639496748321289666989\"></div>\n",
              "<script type=\"text/javascript\">\n",
              "\n",
              "var ldavis_el591404639496748321289666989_data = {\"mdsDat\": {\"x\": [-0.201813356767597, -0.18211326833230163, 0.050293293626174435, 0.2646669539935019, 0.056728136696895866, 0.012238240783326564], \"y\": [0.12888209019893124, 0.07118642990741801, -0.036492827968287185, 0.18305816660761917, -0.07637225237419415, -0.27026160637148694], \"topics\": [1, 2, 3, 4, 5, 6], \"cluster\": [1, 1, 1, 1, 1, 1], \"Freq\": [19.557505632338092, 19.159886576014117, 16.521762598996624, 16.2947909855947, 15.419023011914348, 13.047031195142122]}, \"tinfo\": {\"Term\": [\"\\uc608\\uc058\\ub2e4\", \"\\ucf00\\uc774\\uc2a4\", \"\\uc0ac\\ub2e4\", \"\\uac08\\uc544\\ud0c0\\ub2e4\", \"\\uc0c9\\uae54\", \"\\uc811\\ub2e4\", \"\\uadc0\\uc5fd\\ub2e4\", \"\\ubc14\\uafb8\\ub2e4\", \"\\ud3f4\\ub4dc\", \"\\ub118\\uc5b4\\uac00\\ub2e4\", \"\\ud50c\\ub9bd\", \"\\uce74\\uba54\\ub77c\", \"\\uadf8\\ub9b0\", \"\\uac10\\uc131\", \"\\ube7c\\ub2e4\", \"\\ubbf8\\uce58\\ub2e4\", \"\\uc7ac\\ubc0c\\ub2e4\", \"\\uac08\\ub2e4\", \"\\uac00\\uaca9\", \"\\ub514\\uc790\\uc778\", \"\\uac8c\\uc784\", \"\\ubc30\\ud130\\ub9ac\", \"\\uc88b\\ub2e4\", \"\\uace0\\ubbfc\", \"\\ud578\\ub4dc\\ud3f0\", \"\\ub2ee\\ub2e4\", \"\\uc2e4\\ubb3c\", \"\\uc5f4\\ub2e4\", \"\\ud654\\uba74\", \"\\uc8fc\\ub2e4\", \"\\uc544\\uc774\\ud3f0\\uc2ed\\uc0bc\", \"\\ub2eb\\ub2e4\", \"\\uc5f4\\ub2e4\", \"\\ucc38\\ub2e4\", \"\\uc54c\\ub9ac\\ub2e4\", \"\\ucd5c\\uace0\", \"\\uc190\\ud1b1\\uc790\\uad6d\", \"\\uc5f4\\ub9ac\\ub2e4\", \"\\ud3b4\\ub2e4\", \"\\uc790\\ub791\", \"\\uc785\\ub2e4\", \"\\ub204\\ub974\\ub2e4\", \"\\uc9c0\\ubb38\\uc778\\uc2dd\", \"\\ubaa8\\ub378\", \"\\ub77c\\uace0\", \"\\uae54\\ub2e4\", \"\\ud6c4\\uae30\", \"\\ud734\\ub300\\uc131\", \"\\ubc84\\ud2bc\", \"\\uc0c1\\ud0dc\", \"\\ub85c\\uace0\", \"\\uc804\\ud654\", \"\\ud22c\\uba85\", \"\\uc704\\uce58\", \"\\uc744\\uc0ac\", \"\\ub4e3\\ub2e4\", \"\\uadc0\\ucc2e\\ub2e4\", \"\\uc131\\uc740\", \"\\ub300\\ud45c\", \"\\uc2ac\\ub2e4\", \"\\ube60\\uc9c0\\ub2e4\", \"\\ucf00\\uc774\\uc2a4\", \"\\uc811\\ub2e4\", \"\\uc88b\\ub2e4\", \"\\ubd88\\ud3b8\", \"\\ud3b8\\ud558\\ub2e4\", \"\\uc88b\\uc544\\ud558\\ub2e4\", \"\\ud3f4\\ub354\", \"\\uae30\\ub2a5\", \"\\uc0bc\\uc131\\ud398\\uc774\", \"\\ud50c\\ub9bd\", \"\\ud654\\uba74\", \"\\uc608\\uc058\\ub2e4\", \"\\ub514\\uc790\\uc778\", \"\\uac00\\uaca9\", \"\\ube44\\uc2f8\\ub2e4\", \"\\ub9e4\\ub825\", \"\\uac00\\uc6b4\\ub370\", \"\\ud06c\\ub9bc\", \"\\uac00\\uc9c0\\ub2e4\", \"\\uc8fc\\ub984\", \"\\uc5ec\\uc131\", \"\\uc5b4\\uca4c\\ub2e4\", \"\\ub2e4\\ub2c8\\ub2e4\", \"\\uae68\\uc9c0\\ub2e4\", \"\\uac81\\ub098\\ub2e4\", \"\\ubb34\\uac81\\ub2e4\", \"\\ub354\\ube14\", \"\\ud578\\ub4dc\\ud3f0\", \"\\ub2e4\\uc2dc\", \"\\uc2a4\\ud0c0\\uc77c\", \"\\uc2dc\\ub124\", \"\\uc774\\uac74\", \"\\uc800\\ub7ec\\ub2e4\", \"\\uad6c\\ub3c5\", \"\\ud55c\\uad6d\", \"\\uac00\\ubccd\\ub2e4\", \"\\ub9d0\\uc774\", \"\\ud558\\uae30\", \"\\uc548\\ub418\\ub2e4\", \"\\uad6c\\uc131\", \"\\ubc30\\uacbd\", \"\\ub728\\ub2e4\", \"\\uc774\\ud3ec\", \"\\uc2dc\\ub9ac\\uc988\", \"\\ub77c\\ubca4\\ub354\", \"\\uc561\\uc815\", \"\\ud654\\uba74\", \"\\ud734\\ub300\\ud3f0\", \"\\ube44\\uad50\", \"\\uc2a4\\ub9c8\\ud2b8\\ud3f0\", \"\\uc791\\ub2e4\", \"\\ucf00\\uc774\\uc2a4\", \"\\uc811\\ub2e4\", \"\\uc694\\uc998\", \"\\ud50c\\ub9bd\", \"\\uc88b\\ub2e4\", \"\\uc608\\uc058\\ub2e4\", \"\\ub514\\uc790\\uc778\", \"\\ub2e8\\uc810\", \"\\ubc14\\uafb8\\ub2e4\", \"\\ub118\\uc5b4\\uac00\\ub2e4\", \"\\uae30\\ub2e4\\ub9ac\\ub2e4\", \"\\ud314\\ub2e4\", \"\\ubcf4\\ub2c8\", \"\\uc874\\ubc84\", \"\\uc120\\uc218\", \"\\uc774\\ud574\", \"\\uce74\\uba54\\ub77c\", \"\\ucd9c\\uc2dc\", \"\\uc608\\uc57d\", \"\\ube44\\uc2a4\\ud3ec\\ud06c\", \"\\uadc0\\uc5ec\\uc6cc\", \"\\uc608\\ubed0\\uc11c\", \"\\ud328\\ub4dc\", \"\\ud544\\ub984\", \"\\ub4dc\\ub85c\\uc774\\ub4dc\", \"\\uc9c0\\ub974\\ub2e4\", \"\\ud601\\uc2e0\", \"\\uc218\\ub3c4\", \"\\uae4c\\uc9c0\\ub2e4\", \"\\ucd94\\ucc9c\", \"\\uc9c0\\ubb38\", \"\\uacbd\\ud654\", \"\\ud37c\\ud50c\", \"\\uac00\\ub098\", \"\\ub3c4\\uc0ac\", \"\\ub0b4\\ub9ac\\ub2e4\", \"\\ub098\\uc911\", \"\\uc2a4\\ud399\", \"\\uc808\\ub300\", \"\\uad1c\\ucc2e\\ub2e4\", \"\\uc18c\\ub9ac\", \"\\uc2e0\\uacbd\", \"\\ud3f4\\ub4dc\", \"\\uac1c\\uc120\", \"\\uace0\\ubbfc\", \"\\ucc0d\\ub2e4\", \"\\ub290\\ub08c\", \"\\ub178\\ud2b8\", \"\\ud50c\\ub9bd\", \"\\ud06c\\ub2e4\", \"\\uc9c0\\ub2e4\", \"\\uc88b\\ub2e4\", \"\\ub514\\uc790\\uc778\", \"\\uc0ac\\ub2e4\", \"\\ubc30\\ud130\\ub9ac\", \"\\uc0c9\\uae54\", \"\\uadf8\\ub9b0\", \"\\uc2e4\\ubb3c\", \"\\ubc29\\uc218\", \"\\uc544\\uc774\\ud328\\ub4dc\", \"\\ub4e4\\uc5b4\\uc624\\ub2e4\", \"\\uac08\\uc544\\ud0c0\\ub2e4\", \"\\ube14\\ub799\", \"\\ud1b5\\ud654\\ub179\\uc74c\", \"\\uc6c3\\uae30\\ub2e4\", \"\\ubcf4\\ub77c\", \"\\ub313\\uae00\", \"\\uc5d0\\ub514\", \"\\uac70\\uc2ac\\ub9ac\\ub2e4\", \"\\uc790\\uccb4\", \"\\uceec\\ub7ec\", \"\\uae30\\uae30\", \"\\uc9dc\\ub2e4\", \"\\uc778\\uc904\", \"\\uce6d\\ucc2c\", \"\\ud14c\\uc2a4\\ud2b8\", \"\\ub204\\uac00\", \"\\ubcc4\\ub85c\", \"\\uc544\\uc8fc\", \"\\uc774\\uc815\", \"\\uc544\\uc774\\ud3f0\\uc2ed\\uc774\\ud504\\ub85c\", \"\\uc774\\ud6c4\", \"\\uce74\\ub4dc\", \"\\uc5d0\\uc544\", \"\\uc8fc\\ubb38\", \"\\ub0c9\\uc7a5\\uace0\", \"\\uc0ac\\ub2e4\", \"\\uc608\\uc058\\ub2e4\", \"\\ub9c8\\ub2e4\", \"\\uc544\\uc774\\ud3f0\\uc2ed\\uc774\", \"\\ubcf4\\uba74\", \"\\ud50c\\ub9bd\", \"\\ub514\\uc790\\uc778\", \"\\uc0dd\\ud0dc\\uacc4\", \"\\uace0\\ubbfc\", \"\\uac8c\\uc784\", \"\\ub300\\ubc15\", \"\\uc0ac\\ub791\", \"\\uc624\\ub978\\ucabd\", \"\\ucda9\\uc804\", \"\\uc2f8\\ub2e4\", \"\\ud55c\\uac00\\uc9c0\", \"\\ub098\\ub3c4\", \"\\ud504\\ub85c\", \"\\uc21c\\uac04\", \"\\ubaa9\\uc18c\\ub9ac\", \"\\uc774\\uc601\\uc0c1\", \"\\uc7a1\\ub2e4\", \"\\uae30\\ub300\", \"\\uc7a5\\uc810\", \"\\ube7c\\ub2e4\", \"\\ubb34\\uc120\\ucda9\\uc804\", \"\\ub2ec\\ub2e4\", \"\\uad81\\uae08\", \"\\uc0ac\\uba74\", \"\\uc790\\ub2e4\", \"\\uc5b4\\uc6b8\\ub9ac\\ub2e4\", \"\\ub7ec\\ube0c\", \"\\ud574\\ub3c4\", \"\\uc6a9\\uc11c\", \"\\uace0\\ub3c4\", \"\\uc774\\ub984\", \"\\uce58\\uba85\", \"\\uc544\\uc544\", \"\\uc0b0\\uc9c0\", \"\\uc190\\ud1b1\", \"\\uc548\\ub4dc\\ub85c\\uc774\\ub4dc\", \"\\uac16\\ub2e4\", \"\\uc5ed\\ub300\\uae09\", \"\\ubc30\\ud130\\ub9ac\", \"\\uc544\\uc27d\\ub2e4\", \"\\ubc1c\\uc5f4\", \"\\ub2e8\\uc810\", \"\\ub9de\\ub2e4\", \"\\uc81c\\ud488\", \"\\uac00\\uc9c0\", \"\\ub290\\ub07c\\ub2e4\", \"\\ud50c\\ub9bd\", \"\\uc608\\uc058\\ub2e4\", \"\\uc88b\\ub2e4\", \"\\ub514\\uc790\\uc778\", \"\\uadc0\\uc5fd\\ub2e4\", \"\\uc7ac\\ubc0c\\ub2e4\", \"\\ubbf8\\uce58\\ub2e4\", \"\\uac08\\ub2e4\", \"\\uc81c\\ud2b8\", \"\\uc6c0\\uc9e4\", \"\\uc608\\ubed0\", \"\\ub2ee\\ub2e4\", \"\\ub9e5\\ubd81\", \"\\ub530\\ub2e4\", \"\\ud754\\ub4e4\\ub9ac\\ub2e4\", \"\\ud130\\uc9c0\\ub2e4\", \"\\ubc84\\ub9ac\\ub2e4\", \"\\ud55c\\ubc88\", \"\\ud654\\uc774\\ud305\", \"\\uc774\\ube44\", \"\\uc8fc\\ub2e4\", \"\\ub530\\uc9c0\\ub2e4\", \"\\uc644\\ubcbd\", \"\\uacb0\\uc815\", \"\\uc787\\ub2e4\", \"\\uad6c\\uc785\", \"\\uc774\\uae30\\ub2e4\", \"\\uc4f0\\ub808\\uae30\", \"\\ud0c8\\ucd9c\", \"\\ub0b4\\ub144\", \"\\uc544\\ub2c8\\uc57c\", \"\\uc774\\ub4e0\", \"\\uc778\\uac00\", \"\\ub3c4\\uc6c0\", \"\\uac10\\uc131\", \"\\ud604\\uc2e4\", \"\\ubc14\\uafb8\\ub2e4\", \"\\ub9c8\\uc74c\", \"\\uc81c\\uc77c\", \"\\ub514\\uc790\\uc778\", \"\\uc131\\ub2a5\", \"\\uad6c\\ub9e4\", \"\\uc0ac\\uc6a9\\uc790\", \"\\ud50c\\ub9bd\", \"\\ub290\\ub07c\\ub2e4\", \"\\uc88b\\ub2e4\"], \"Freq\": [469.0, 195.0, 148.0, 106.0, 97.0, 131.0, 63.0, 114.0, 90.0, 64.0, 450.0, 61.0, 53.0, 47.0, 49.0, 42.0, 41.0, 40.0, 48.0, 199.0, 41.0, 78.0, 223.0, 62.0, 47.0, 34.0, 38.0, 42.0, 104.0, 32.0, 31.606457407448676, 30.211305703152483, 40.976420234530096, 26.40950308081337, 23.45940770059041, 23.309663822759774, 22.700561329910627, 21.691994270959743, 19.612067603830866, 19.471802802482518, 18.918770886796235, 17.720884809797212, 18.016508309449133, 18.85135244115974, 18.941422098292456, 16.862774610721782, 16.029845637994633, 15.77246195980832, 16.607463086043754, 15.561477936342538, 14.893994719954264, 15.018256481806748, 14.77161014074667, 14.599805838345622, 14.809280101841047, 14.04417065587298, 13.927965184279403, 17.743211138957566, 13.950032887303115, 12.719893840706398, 37.22487763658309, 151.82279234984483, 98.94648890236243, 124.22864264568756, 46.190715947994555, 23.14106234780269, 20.112144267325323, 25.621421436405218, 23.783319792743065, 25.030831024817033, 59.56433847339004, 28.096083314038708, 27.518861840452615, 19.896502353008405, 47.9596211489908, 29.74974021193645, 26.003194237354684, 21.91994051830068, 33.402029535456336, 20.584648304282734, 20.216571115621566, 19.62459920035443, 20.254563399256206, 30.289950085379434, 17.944935117640092, 17.650035301223397, 17.519754008657994, 17.5702881627796, 44.83587041950928, 16.02798322036316, 15.298779310560883, 14.59945756938727, 13.841391145728297, 13.781740005602574, 14.008831288752498, 13.353845169857866, 13.474061978899632, 13.490958328873774, 12.896091999214757, 13.499362222123874, 12.834191028378854, 16.916059116271715, 12.641245082240976, 12.502370346996983, 21.07960371531038, 27.304019875125363, 35.36797868058442, 63.77438570855705, 18.166172295733144, 21.447724440604137, 19.69619826893505, 17.206324930648965, 43.20719413846552, 31.344826644398445, 15.478913521653443, 43.95109462555795, 28.44167113111195, 30.299288379394287, 22.855943429920107, 20.41130271030604, 17.330840162288638, 63.835555728481225, 33.33738793588273, 28.28938873524569, 30.8138517157987, 31.053322154454232, 22.68117143738206, 22.39264825189304, 58.67739848538157, 19.36060806037942, 19.93338215133094, 18.741835069568616, 17.10256926759369, 17.29874276758487, 15.137595878366826, 14.3271428030833, 13.212289012124542, 12.785812803737526, 12.623779100833435, 12.508073683262529, 12.247800396787177, 11.603423155809445, 11.687363938836489, 15.401930573467045, 20.022891125728474, 11.692956857964884, 11.214818671296495, 11.70749360258574, 10.556769695874161, 10.213406662683694, 10.19505022974479, 26.7443226815739, 18.77616711036817, 32.06552259125247, 73.4753057146944, 16.777547419651732, 46.24102598189428, 25.608258890644226, 33.828926572519194, 31.606314504659274, 198.16469896546292, 35.22579927424489, 13.537737739434084, 32.75066651967808, 24.17030957921982, 22.50454869843691, 15.585212651574494, 96.54738210168769, 52.813959154399505, 37.56090418132446, 28.44150475764565, 33.184072181060074, 32.7253890071322, 102.99271116090887, 23.105957981701106, 22.107403649814458, 21.581691248669923, 20.790662818425385, 21.195272880002932, 19.519807385493294, 19.022008686760568, 19.496193286824493, 14.745389527060324, 16.54643368271785, 13.708390039099749, 13.230908309533481, 12.636391233961076, 12.6099621285353, 11.752331657128266, 10.742126429383932, 9.981103761628237, 9.6481379945285, 9.484881928865063, 10.008027395165074, 9.20025143354991, 9.269598271001211, 8.873812542492743, 8.907451140478171, 122.70967491622987, 365.40560447229643, 13.18608913801112, 14.57141801989426, 14.319926377464533, 74.18000449213959, 32.30987568840454, 13.417097580704171, 13.370377179439075, 40.94602913462515, 29.604831763741604, 24.543785466391505, 24.240502458277927, 26.904050146330828, 22.329075006956558, 21.403705013446146, 21.159607122399517, 26.89667877800838, 20.057799084529396, 20.095231447315076, 18.773580072449704, 18.537045782296698, 17.678866523467313, 20.81802306910068, 47.493604705335905, 17.967784798882374, 15.961807019157963, 15.96119628502866, 15.50004204675744, 21.571935855499316, 25.693048011062192, 15.294982769975798, 14.670460776735569, 14.613603758982665, 15.416538395499812, 15.774904393500275, 14.704227521658408, 13.068052362063991, 13.233977934474947, 24.571573140492816, 26.97726410472463, 34.60622671033624, 19.730398130178443, 54.02491232121995, 33.0250278242044, 27.12254707213554, 46.89517873861289, 24.150585940484422, 21.485428442991076, 17.87153112813452, 25.880182590170506, 33.573619177129366, 32.086454925408795, 19.74116655842946, 18.848649476751017, 63.07998900323874, 40.2567942737225, 41.129686531226966, 40.1126114667014, 26.61488265762313, 25.93126687895862, 24.44776343271628, 33.097569667381386, 20.904475701355576, 19.384723250729248, 19.282513759314654, 16.41392930163189, 15.426114757409518, 15.432674932955418, 14.814474995444336, 14.648795122303804, 31.008756104106045, 14.746184720187218, 13.151816483972654, 12.83249875114445, 12.63720386826269, 12.991040456247141, 15.016708434305263, 13.305270102045496, 12.487369006141488, 12.552428914931397, 12.114197685307763, 12.220032070858565, 12.61574582781703, 10.853537290065676, 43.5240826605184, 18.96495017549312, 75.08322573440348, 28.812856934117168, 20.54484200612431, 80.94038736779994, 25.92814061166957, 23.131440371069825, 17.232210840539754, 41.26112906037475, 16.845987789336817, 15.12671508052716], \"Total\": [469.0, 195.0, 148.0, 106.0, 97.0, 131.0, 63.0, 114.0, 90.0, 64.0, 450.0, 61.0, 53.0, 47.0, 49.0, 42.0, 41.0, 40.0, 48.0, 199.0, 41.0, 78.0, 223.0, 62.0, 47.0, 34.0, 38.0, 42.0, 104.0, 32.0, 32.47512996333006, 31.085655056802295, 42.33125262399508, 27.315084701561425, 24.324497777291096, 24.173424710509078, 23.591396866127074, 22.562319028400704, 20.474174876394493, 20.334234349202536, 19.794591871176166, 18.582985589036447, 18.93782009428885, 19.818806898236694, 19.95015456199823, 17.773583680802943, 16.908758296758087, 16.6372741636496, 17.526366609545292, 16.428377193347853, 15.760912305662387, 15.894054511679895, 15.634683646234878, 15.494639450048956, 15.717212004259673, 14.915100424178569, 14.794747945137821, 18.86390628379792, 14.89590121782262, 13.58594248499075, 40.47176373808176, 195.9608997404052, 131.8837946768173, 223.07716946219583, 74.51653435870651, 29.19019892836837, 24.048925394711645, 35.09941252034817, 33.02520651944454, 44.980589474654465, 450.69488479405464, 104.47112269138161, 469.4346694202229, 199.02166789510383, 48.82713536672703, 30.691347016205132, 26.871504275713434, 22.796003536156665, 34.73703858658499, 21.445531782256083, 21.087471846373596, 20.48748988328112, 21.149074739458754, 31.64135332661227, 18.810338553961955, 18.51629480838367, 18.38151827160791, 18.484872892546925, 47.22989298335847, 16.897131407684252, 16.164339665736787, 15.468405537856672, 14.703039444132422, 14.64608339653895, 14.914695552590976, 14.224786460576201, 14.356647858185879, 14.379289071166301, 13.763396580428763, 14.411996775966236, 13.704795839905206, 18.07656259124877, 13.551874753871278, 13.42597980780504, 23.417225555498153, 32.53096614698669, 46.35376246180737, 104.47112269138161, 21.26853599996055, 29.003671972437083, 26.046186895472594, 21.815042713364846, 195.9608997404052, 131.8837946768173, 19.793870147927787, 450.69488479405464, 223.07716946219583, 469.4346694202229, 199.02166789510383, 90.67041756657973, 114.15502378738066, 64.6817467969094, 34.181603095366164, 29.135534319910427, 31.750480253767886, 31.997651327645418, 23.54914101507536, 23.29507250716673, 61.22168607998021, 20.21628145857879, 20.821880025182878, 19.58422441369257, 17.9428379503225, 18.152913579163663, 16.023029123943562, 15.17501831918715, 14.05792929638765, 13.635972561322703, 13.480566881487277, 13.371407863423364, 13.094797113692577, 12.44602643101184, 12.537457130172804, 16.522325749172794, 21.50454662350608, 12.563457610001477, 12.060898330511613, 12.609904001034538, 11.40377528494539, 11.056478235440851, 11.0445198185543, 29.012501496852146, 20.51452696819897, 36.9032882627252, 90.25453826852049, 18.83178880302128, 62.25363662956319, 31.86020112345248, 44.40494849950668, 42.84712459995635, 450.69488479405464, 58.78508586004733, 16.03680413739646, 223.07716946219583, 199.02166789510383, 148.73809777028663, 78.48669075316592, 97.44244181414058, 53.77217828102971, 38.498603541784824, 29.31744103275406, 34.220498534902475, 33.786251642713, 106.4296400998021, 23.97693151784905, 22.987835097776927, 22.455480418945925, 21.657999141446066, 22.134089137910877, 20.395447746589124, 19.900518433185166, 20.591577602710295, 15.633555801377549, 17.567841273792276, 14.584796348944922, 14.09777563091222, 13.505847761222604, 13.519576907994187, 12.618997186303348, 11.64224370331357, 10.863642955646686, 10.533096137615388, 10.3597768396217, 10.931861362815665, 10.070713378069534, 10.158164109997461, 9.740773885124678, 9.777779504664549, 148.73809777028663, 469.4346694202229, 14.872258071011256, 19.35281876094136, 19.803678811523394, 450.69488479405464, 199.02166789510383, 22.81987356198291, 62.25363662956319, 41.877102488056856, 30.448826885710396, 25.393305543156323, 25.081982219891945, 27.87406756484631, 23.176175574767484, 22.254112690174374, 22.02656477384886, 28.03924129924484, 20.915927577202215, 20.96028522772194, 19.618405020257953, 19.385141607716424, 18.525788859953177, 21.82773890506965, 49.853039671204755, 18.903436699906667, 16.809810846770798, 16.813219313229784, 16.3364884772881, 22.76348779305231, 27.123079189398144, 16.148346817808722, 15.520328435233417, 15.460481702840173, 16.32199824241551, 16.704351653944386, 15.58525025363708, 13.902749549518415, 14.088855474322772, 26.36154776700473, 29.30422881798594, 39.36423465640839, 21.676823191938322, 78.48669075316592, 43.905214692862806, 34.21117209089606, 90.67041756657973, 33.84442613087376, 29.107663108916423, 21.86788556290895, 61.877724999875454, 450.69488479405464, 469.4346694202229, 223.07716946219583, 199.02166789510383, 63.90733754507728, 41.0852151751781, 42.001815224678715, 40.98149753663006, 27.479882857076692, 26.795561975022725, 25.28023724507902, 34.24768150382398, 21.760541970124553, 20.219492841473294, 20.115779861279595, 17.243817936916297, 16.260652155890536, 16.291358698430283, 15.648149005925376, 15.481217914919144, 32.78982335538126, 15.658877693697757, 13.98643941297116, 13.672063471730828, 13.47017330833072, 13.8510824346659, 16.013772667009178, 14.199140523068056, 13.335196822629731, 13.40988006731367, 12.942064470382656, 13.077005886451985, 13.537539997470327, 11.705266204267033, 47.96248813291548, 21.658290206215295, 114.15502378738066, 39.63678757369509, 26.747949331333146, 199.02166789510383, 38.59842189522071, 35.1090969914062, 24.03177771716521, 450.69488479405464, 61.877724999875454, 223.07716946219583], \"Category\": [\"Default\", \"Default\", \"Default\", \"Default\", \"Default\", \"Default\", \"Default\", \"Default\", \"Default\", \"Default\", \"Default\", \"Default\", \"Default\", \"Default\", \"Default\", \"Default\", \"Default\", \"Default\", \"Default\", \"Default\", \"Default\", \"Default\", \"Default\", \"Default\", \"Default\", \"Default\", \"Default\", \"Default\", \"Default\", \"Default\", \"Topic1\", \"Topic1\", \"Topic1\", \"Topic1\", \"Topic1\", \"Topic1\", \"Topic1\", \"Topic1\", \"Topic1\", \"Topic1\", \"Topic1\", \"Topic1\", \"Topic1\", \"Topic1\", \"Topic1\", \"Topic1\", \"Topic1\", \"Topic1\", \"Topic1\", \"Topic1\", \"Topic1\", \"Topic1\", \"Topic1\", \"Topic1\", \"Topic1\", \"Topic1\", \"Topic1\", \"Topic1\", \"Topic1\", \"Topic1\", \"Topic1\", \"Topic1\", \"Topic1\", \"Topic1\", \"Topic1\", \"Topic1\", \"Topic1\", \"Topic1\", \"Topic1\", \"Topic1\", \"Topic1\", \"Topic1\", \"Topic1\", \"Topic1\", \"Topic2\", \"Topic2\", \"Topic2\", \"Topic2\", \"Topic2\", \"Topic2\", \"Topic2\", \"Topic2\", \"Topic2\", \"Topic2\", \"Topic2\", \"Topic2\", \"Topic2\", \"Topic2\", \"Topic2\", \"Topic2\", \"Topic2\", \"Topic2\", \"Topic2\", \"Topic2\", \"Topic2\", \"Topic2\", \"Topic2\", \"Topic2\", \"Topic2\", \"Topic2\", \"Topic2\", \"Topic2\", \"Topic2\", \"Topic2\", \"Topic2\", \"Topic2\", \"Topic2\", \"Topic2\", \"Topic2\", \"Topic2\", \"Topic2\", \"Topic2\", \"Topic2\", \"Topic2\", \"Topic2\", \"Topic2\", \"Topic2\", \"Topic2\", \"Topic2\", \"Topic2\", \"Topic2\", \"Topic3\", \"Topic3\", \"Topic3\", \"Topic3\", \"Topic3\", \"Topic3\", \"Topic3\", \"Topic3\", \"Topic3\", \"Topic3\", \"Topic3\", \"Topic3\", \"Topic3\", \"Topic3\", \"Topic3\", \"Topic3\", \"Topic3\", \"Topic3\", \"Topic3\", \"Topic3\", \"Topic3\", \"Topic3\", \"Topic3\", \"Topic3\", \"Topic3\", \"Topic3\", \"Topic3\", \"Topic3\", \"Topic3\", \"Topic3\", \"Topic3\", \"Topic3\", \"Topic3\", \"Topic3\", \"Topic3\", \"Topic3\", \"Topic3\", \"Topic3\", \"Topic3\", \"Topic3\", \"Topic3\", \"Topic3\", \"Topic3\", \"Topic3\", \"Topic3\", \"Topic3\", \"Topic4\", \"Topic4\", \"Topic4\", \"Topic4\", \"Topic4\", \"Topic4\", \"Topic4\", \"Topic4\", \"Topic4\", \"Topic4\", \"Topic4\", \"Topic4\", \"Topic4\", \"Topic4\", \"Topic4\", \"Topic4\", \"Topic4\", \"Topic4\", \"Topic4\", \"Topic4\", \"Topic4\", \"Topic4\", \"Topic4\", \"Topic4\", \"Topic4\", \"Topic4\", \"Topic4\", \"Topic4\", \"Topic4\", \"Topic4\", \"Topic4\", \"Topic4\", \"Topic4\", \"Topic4\", \"Topic4\", \"Topic4\", \"Topic4\", \"Topic4\", \"Topic4\", \"Topic4\", \"Topic5\", \"Topic5\", \"Topic5\", \"Topic5\", \"Topic5\", \"Topic5\", \"Topic5\", \"Topic5\", \"Topic5\", \"Topic5\", \"Topic5\", \"Topic5\", \"Topic5\", \"Topic5\", \"Topic5\", \"Topic5\", \"Topic5\", \"Topic5\", \"Topic5\", \"Topic5\", \"Topic5\", \"Topic5\", \"Topic5\", \"Topic5\", \"Topic5\", \"Topic5\", \"Topic5\", \"Topic5\", \"Topic5\", \"Topic5\", \"Topic5\", \"Topic5\", \"Topic5\", \"Topic5\", \"Topic5\", \"Topic5\", \"Topic5\", \"Topic5\", \"Topic5\", \"Topic5\", \"Topic5\", \"Topic5\", \"Topic5\", \"Topic5\", \"Topic5\", \"Topic5\", \"Topic6\", \"Topic6\", \"Topic6\", \"Topic6\", \"Topic6\", \"Topic6\", \"Topic6\", \"Topic6\", \"Topic6\", \"Topic6\", \"Topic6\", \"Topic6\", \"Topic6\", \"Topic6\", \"Topic6\", \"Topic6\", \"Topic6\", \"Topic6\", \"Topic6\", \"Topic6\", \"Topic6\", \"Topic6\", \"Topic6\", \"Topic6\", \"Topic6\", \"Topic6\", \"Topic6\", \"Topic6\", \"Topic6\", \"Topic6\", \"Topic6\", \"Topic6\", \"Topic6\", \"Topic6\", \"Topic6\", \"Topic6\", \"Topic6\", \"Topic6\", \"Topic6\", \"Topic6\", \"Topic6\", \"Topic6\"], \"logprob\": [30.0, 29.0, 28.0, 27.0, 26.0, 25.0, 24.0, 23.0, 22.0, 21.0, 20.0, 19.0, 18.0, 17.0, 16.0, 15.0, 14.0, 13.0, 12.0, 11.0, 10.0, 9.0, 8.0, 7.0, 6.0, 5.0, 4.0, 3.0, 2.0, 1.0, -4.3873, -4.4325, -4.1277, -4.567, -4.6854, -4.6918, -4.7183, -4.7638, -4.8646, -4.8717, -4.9005, -4.966, -4.9494, -4.9041, -4.8993, -5.0156, -5.0662, -5.0824, -5.0308, -5.0959, -5.1397, -5.1314, -5.148, -5.1597, -5.1454, -5.1985, -5.2068, -4.9647, -5.2052, -5.2975, -4.2237, -2.818, -3.2461, -3.0186, -4.0079, -4.6991, -4.8394, -4.5973, -4.6717, -4.6206, -3.7536, -4.5051, -4.5258, -4.8502, -3.9498, -4.4273, -4.5619, -4.7328, -4.3115, -4.7956, -4.8137, -4.8434, -4.8118, -4.4093, -4.9328, -4.9494, -4.9568, -4.9539, -4.0171, -5.0458, -5.0924, -5.1392, -5.1925, -5.1968, -5.1805, -5.2284, -5.2194, -5.2181, -5.2632, -5.2175, -5.268, -4.9919, -5.2832, -5.2942, -4.7719, -4.5131, -4.2543, -3.6648, -4.9206, -4.7545, -4.8397, -4.9749, -4.0541, -4.3751, -5.0807, -4.0371, -4.4723, -4.409, -4.6909, -4.8041, -4.9677, -3.5157, -4.1653, -4.3295, -4.2441, -4.2363, -4.5505, -4.5633, -3.6, -4.7088, -4.6796, -4.7413, -4.8328, -4.8214, -4.9548, -5.0099, -5.0909, -5.1237, -5.1364, -5.1456, -5.1667, -5.2207, -5.2135, -4.9375, -4.6751, -5.213, -5.2548, -5.2118, -5.3152, -5.3483, -5.3501, -4.3857, -4.7394, -4.2042, -3.3751, -4.852, -3.8381, -4.4291, -4.1507, -4.2187, -2.3829, -4.1102, -5.0665, -4.1831, -4.4869, -4.5583, -4.9257, -3.0881, -3.6914, -4.0322, -4.3103, -4.1561, -4.17, -3.0235, -4.5181, -4.5623, -4.5863, -4.6237, -4.6044, -4.6868, -4.7126, -4.688, -4.9673, -4.852, -5.0402, -5.0756, -5.1216, -5.1237, -5.1941, -5.284, -5.3575, -5.3914, -5.4085, -5.3548, -5.439, -5.4314, -5.4751, -5.4713, -2.8484, -1.7572, -5.079, -4.9791, -4.9965, -3.3517, -4.1828, -5.0617, -5.0651, -3.8907, -4.215, -4.4025, -4.4149, -4.3107, -4.497, -4.5394, -4.5508, -4.3109, -4.6043, -4.6025, -4.6705, -4.6832, -4.7306, -4.5671, -3.7423, -4.7144, -4.8327, -4.8328, -4.8621, -4.5315, -4.3567, -4.8754, -4.9171, -4.921, -4.8675, -4.8445, -4.9148, -5.0328, -5.0202, -4.4013, -4.3079, -4.0589, -4.6208, -3.6135, -4.1057, -4.3026, -3.755, -4.4186, -4.5356, -4.7197, -4.3495, -4.0892, -4.1345, -4.6202, -4.6665, -3.2915, -3.7406, -3.7192, -3.7442, -4.1544, -4.1804, -4.2394, -3.9364, -4.3959, -4.4714, -4.4767, -4.6378, -4.6998, -4.6994, -4.7403, -4.7515, -4.0016, -4.7449, -4.8593, -4.8839, -4.8993, -4.8716, -4.7267, -4.8477, -4.9112, -4.906, -4.9415, -4.9328, -4.901, -5.0514, -3.6626, -4.4933, -3.1173, -4.0751, -4.4133, -3.0422, -4.1806, -4.2947, -4.5891, -3.716, -4.6118, -4.7194], \"loglift\": [30.0, 29.0, 28.0, 27.0, 26.0, 25.0, 24.0, 23.0, 22.0, 21.0, 20.0, 19.0, 18.0, 17.0, 16.0, 15.0, 14.0, 13.0, 12.0, 11.0, 10.0, 9.0, 8.0, 7.0, 6.0, 5.0, 4.0, 3.0, 2.0, 1.0, 1.6047, 1.6033, 1.5993, 1.5981, 1.5956, 1.5954, 1.5933, 1.5925, 1.5888, 1.5885, 1.5866, 1.5843, 1.5819, 1.5818, 1.5799, 1.5792, 1.5784, 1.5784, 1.578, 1.5776, 1.5752, 1.5751, 1.575, 1.5723, 1.5723, 1.5716, 1.5714, 1.5706, 1.5662, 1.5659, 1.5482, 1.3766, 1.3445, 1.0464, 1.1536, 1.3996, 1.453, 1.3171, 1.3035, 1.0457, -0.3919, 0.3185, -1.2048, -0.6711, 1.6344, 1.6212, 1.6195, 1.6132, 1.6132, 1.6114, 1.6102, 1.6093, 1.6091, 1.6087, 1.6053, 1.6044, 1.6043, 1.6016, 1.6003, 1.5995, 1.5973, 1.5945, 1.592, 1.5915, 1.5897, 1.5892, 1.5889, 1.5886, 1.5873, 1.5869, 1.5867, 1.586, 1.5828, 1.5811, 1.5472, 1.4772, 1.3819, 1.1588, 1.4947, 1.3505, 1.3729, 1.415, 0.1404, 0.2155, 1.4065, -0.6754, -0.4073, -1.0881, -0.5119, 0.1612, -0.2327, 1.7873, 1.7755, 1.771, 1.7705, 1.7705, 1.7629, 1.761, 1.758, 1.7572, 1.7569, 1.7565, 1.7525, 1.7523, 1.7436, 1.743, 1.7385, 1.7361, 1.7348, 1.7337, 1.7336, 1.7304, 1.7303, 1.7303, 1.7291, 1.7287, 1.7278, 1.7262, 1.7233, 1.7212, 1.7205, 1.7191, 1.7119, 1.66, 1.5948, 1.685, 1.5031, 1.582, 1.5285, 1.4962, 0.9788, 1.2884, 1.6311, -0.1181, -0.3078, -0.088, 0.1839, 1.8051, 1.7963, 1.7897, 1.784, 1.7836, 1.7824, 1.7815, 1.7773, 1.7753, 1.7746, 1.7735, 1.771, 1.7704, 1.7692, 1.7597, 1.7558, 1.7544, 1.7524, 1.7509, 1.7478, 1.7447, 1.7432, 1.7339, 1.7296, 1.7266, 1.7261, 1.726, 1.7239, 1.7228, 1.7211, 1.7211, 1.622, 1.5638, 1.694, 1.5305, 1.4901, 0.01, -0.0037, 1.2832, 0.2761, 1.8471, 1.8415, 1.8355, 1.8354, 1.8341, 1.8323, 1.8306, 1.8294, 1.828, 1.8277, 1.8274, 1.8256, 1.8248, 1.8228, 1.8222, 1.8211, 1.8188, 1.8178, 1.8176, 1.817, 1.8158, 1.8154, 1.8153, 1.8133, 1.8132, 1.8125, 1.8123, 1.8114, 1.8077, 1.807, 1.7993, 1.7868, 1.7407, 1.7755, 1.4961, 1.5848, 1.6374, 1.2103, 1.5321, 1.5659, 1.6678, 0.9979, -0.7275, -0.8135, -0.5552, -0.4874, 2.0236, 2.0162, 2.0156, 2.0152, 2.0046, 2.0038, 2.0031, 2.0025, 1.9965, 1.9944, 1.9943, 1.9873, 1.9839, 1.9825, 1.9819, 1.9813, 1.9808, 1.9766, 1.9751, 1.9732, 1.9728, 1.9725, 1.9723, 1.9716, 1.9709, 1.9705, 1.9705, 1.9688, 1.9661, 1.9611, 1.9395, 1.9038, 1.6176, 1.7177, 1.7728, 1.1369, 1.6387, 1.6193, 1.704, -0.3543, 0.7356, -0.6544]}, \"token.table\": {\"Topic\": [2, 3, 2, 2, 3, 5, 2, 6, 1, 4, 1, 6, 2, 5, 3, 6, 4, 2, 5, 6, 3, 5, 1, 3, 4, 3, 5, 2, 1, 4, 6, 2, 6, 5, 3, 6, 1, 4, 4, 1, 2, 3, 5, 3, 1, 2, 5, 3, 6, 3, 4, 3, 2, 3, 4, 1, 1, 2, 5, 6, 1, 3, 5, 1, 2, 2, 1, 2, 3, 4, 5, 1, 5, 6, 5, 1, 4, 2, 3, 6, 3, 1, 4, 1, 2, 3, 4, 5, 6, 6, 6, 2, 1, 2, 6, 5, 1, 1, 4, 2, 3, 6, 2, 2, 5, 2, 6, 1, 5, 2, 5, 6, 1, 2, 3, 6, 2, 3, 5, 6, 4, 2, 1, 2, 3, 5, 6, 6, 1, 4, 3, 4, 1, 4, 1, 2, 3, 5, 6, 4, 2, 3, 3, 2, 1, 2, 2, 5, 1, 3, 4, 5, 5, 2, 6, 5, 1, 2, 3, 4, 6, 1, 4, 2, 3, 4, 3, 1, 3, 6, 1, 2, 3, 5, 1, 5, 1, 3, 5, 1, 2, 2, 3, 1, 2, 2, 5, 2, 3, 4, 5, 6, 6, 2, 5, 5, 4, 1, 3, 4, 4, 4, 2, 3, 5, 1, 1, 2, 3, 5, 2, 4, 4, 2, 1, 5, 1, 2, 1, 6, 3, 1, 2, 3, 4, 5, 6, 3, 5, 6, 1, 2, 5, 6, 4, 1, 1, 2, 6, 6, 5, 6, 5, 4, 2, 3, 4, 6, 4, 1, 6, 1, 5, 1, 4, 1, 2, 5, 5, 6, 2, 1, 3, 1, 2, 4, 2, 3, 6, 6, 2, 5, 3, 1, 2, 3, 4, 5, 6, 1, 2, 5, 6, 2, 4, 3, 4, 3, 3, 1, 4, 3, 5, 1, 1, 3, 3, 5, 5, 4, 4, 2, 3, 4, 1, 2, 1, 2, 3, 2, 4, 6, 6, 4, 4, 1, 3, 3, 2, 3, 1, 1, 2, 1, 2, 2, 3, 5, 1, 2, 3, 4, 5, 6, 3, 2, 5, 2, 6, 5, 1, 2, 5, 3, 1, 6, 1, 2, 3, 4, 5, 6, 1, 1, 2, 3, 6], \"Freq\": [0.9830599243532383, 0.9551510716641475, 0.9055038563607072, 0.9650814435568004, 0.13718747481870985, 0.8231248489122591, 0.9792249599226672, 0.9760502276483972, 0.028187636425217776, 0.9677755172658102, 0.0833985090372094, 0.9173835994093033, 0.10161508371530883, 0.8891319825089523, 0.9027289004681597, 0.053101700027538806, 0.9547489963033574, 0.9721167321147909, 0.9790553205464251, 0.9508440351289748, 0.9078625023932233, 0.9190051228543775, 0.032126637226044946, 0.7389126561990338, 0.20882314196929216, 0.930633299680467, 0.03446789998816544, 0.9386715237085698, 0.2278611723325779, 0.11393058616628896, 0.6551008704561615, 0.9485730507671626, 0.9385548069127185, 0.9516321474145116, 0.94745324274048, 0.9858022946983624, 0.946281751599627, 0.9856398177326187, 0.9676772310870442, 0.726717635690463, 0.27251911338392365, 0.9654316068187466, 0.9716185440777767, 0.9163944959064847, 0.9564756497791448, 0.9569205757973306, 0.9533942408001971, 0.9645928409797385, 0.9694344718031636, 0.9516329386025064, 0.9204543828899492, 0.9894599816691722, 0.2333878899311294, 0.7468412477796141, 0.9509471967411794, 0.9686279911135273, 0.1939308531466558, 0.11312633100221589, 0.4201835151510876, 0.27473537529109576, 0.2026801134585256, 0.7656804286210968, 0.022520012606502843, 0.03160421078320124, 0.9481263234960373, 0.9469062892369845, 0.11028955494394797, 0.22057910988789595, 0.044115821977579184, 0.11028955494394797, 0.5183609082365555, 0.9650753682102405, 0.9518251065313823, 0.9635688768104004, 0.9852596329114726, 0.9398558566734657, 0.9487627825638224, 0.9737692060223782, 0.9120381996896735, 0.9397479568632163, 0.924745012292849, 0.9386460433953822, 0.9767286513157024, 0.1004915706491877, 0.11556530624656587, 0.12058988477902526, 0.16078651303870034, 0.09546699211672832, 0.40699086112921024, 0.9396872685663052, 0.9579230576682429, 0.9592768702563734, 0.9523735738966095, 0.8299784235735335, 0.15369970806917288, 0.9288876545218671, 0.9517215570453358, 0.06723928506520355, 0.874110705847646, 0.17660361569375876, 0.07568726386875375, 0.7316435507312863, 0.9040780761594058, 0.2659226652329013, 0.7091271072877369, 0.9675677153474023, 0.9650494931988038, 0.9586853586877854, 0.9541854885423089, 0.9792444635981348, 0.9522078067470595, 0.9761482874175855, 0.07008013957318596, 0.14892029659302017, 0.12264024425307543, 0.6570013084986184, 0.02923021746647815, 0.1169208698659126, 0.7892158715949101, 0.02923021746647815, 0.9550628913593725, 0.9404442860298032, 0.025482027345118077, 0.038223041017677116, 0.20385621876094462, 0.688014738318188, 0.050964054690236155, 0.9224722265869357, 0.9699671574107882, 0.9448350575988392, 0.9763631841858887, 0.9696186551145032, 0.2524783424123498, 0.7069393587545795, 0.6173126594772367, 0.1476182446576001, 0.01341984042341819, 0.21471744677469104, 0.01341984042341819, 0.9592553568782646, 0.7240462524868171, 0.24134875082893903, 0.9701686213683243, 0.9774742041839969, 0.914217631814869, 0.07412575393093533, 0.02005895741955335, 0.9427709987190074, 0.020169681103715913, 0.15463422179515532, 0.8269569252523524, 0.9845114476141007, 0.9794026434900067, 0.2496694198246671, 0.7073966895032234, 0.9227151221540151, 0.5557952950813801, 0.17785449442604165, 0.022231811803255206, 0.13339087081953124, 0.08892724721302082, 0.9739245582015666, 0.9954594547724442, 0.21910726132724156, 0.17528580906179325, 0.5696788794508281, 0.9766810596308452, 0.025907794953757446, 0.2849857444913319, 0.6736026687976936, 0.9542032137564253, 0.048745944839487215, 0.9261729519502571, 0.048745944839487215, 0.037934039717183975, 0.9483509929295995, 0.9749316723599266, 0.9722237278813903, 0.9562090864093185, 0.2303600148489656, 0.7678667161632187, 0.9279686216811681, 0.9044471292807889, 0.9568714142844283, 0.9697185636418494, 0.8967757495537036, 0.08540721424320988, 0.10839142494627692, 0.8671313995702153, 0.9870487888932475, 0.9492506616989899, 0.9155483727258054, 0.9272091038845828, 0.22776337776627684, 0.7516191466287135, 0.9350668336286266, 0.9643342853799265, 0.985369420726982, 0.20668823748160972, 0.7750808905560365, 0.8687445819854789, 0.9205015334936258, 0.9020262911575923, 0.06824953532892386, 0.921368726940472, 0.9455488129942965, 0.21573221824742664, 0.7550627638659932, 0.036868970260237985, 0.9585932267661876, 0.9456678481865273, 0.980610979886173, 0.8859868675622578, 0.9762054851004984, 0.04613222108910789, 0.9226444217821578, 0.96855154191113, 0.023623208339295855, 0.975077073075118, 0.9493581791710349, 0.9364887859937259, 0.05964621239965405, 0.06390665614248649, 0.008520887485664864, 0.7775309830669188, 0.06816709988531891, 0.02130221871416216, 0.9605280587445101, 0.9568621725983902, 0.929471727303496, 0.2020827645178201, 0.7578103669418254, 0.9702155656149071, 0.9703099350644595, 0.979716291504428, 0.9680767370132389, 0.9543677336626054, 0.952184074129449, 0.936693701847179, 0.9176412478663956, 0.9578342417271809, 0.9689160169720628, 0.9684783233081696, 0.9493884674885273, 0.9682719761311274, 0.9444057318658999, 0.9147573014431597, 0.9602926382806053, 0.9221312879667963, 0.9598581331533685, 0.9650952294696953, 0.04392999917636576, 0.9664599818800468, 0.9343848248087658, 0.9227073498972314, 0.18335971432911408, 0.7792787858987349, 0.9801321230708413, 0.9620785776910039, 0.9735862360571562, 0.955886950862807, 0.9437491226028644, 0.9054264163843907, 0.7506608392835571, 0.23505541432111385, 0.00758243272003593, 0.074772087206594, 0.11215813080989102, 0.7851069156692372, 0.9825369394923344, 0.24048649916714615, 0.7214594975014385, 0.9688211076047489, 0.5558614550244859, 0.12551710274746458, 0.1479308710952261, 0.013448261008656918, 0.08965507339104613, 0.0672413050432846, 0.8316379909597955, 0.12474569864396932, 0.030497267068560964, 0.9454152791253898, 0.9484304304330058, 0.92395122873595, 0.8729918929017282, 0.12471312755738974, 0.9533606746080888, 0.9571318869055709, 0.9504789838735626, 0.9599037014330868, 0.816065155999949, 0.18832272830768054, 0.9518550018815702, 0.9514580691581137, 0.9641631460864913, 0.9398365391246242, 0.9686422671247074, 0.9624484532418399, 0.9625460193120959, 0.8936804834103241, 0.032668162673389844, 0.9637107988650003, 0.9594746192467792, 0.7756649423500228, 0.21943152974375643, 0.10206670471290129, 0.2891889966865537, 0.5953891108252576, 0.9499946265639406, 0.028787715956483047, 0.8998742320500352, 0.9278687619257752, 0.9615685526603307, 0.9570279196116012, 0.9594054052774057, 0.9610257938830923, 0.9361525766426507, 0.04650179413254521, 0.9300358826509043, 0.9768403425653461, 0.7879357059690179, 0.17129037086282997, 0.7407531389571558, 0.2564145481005539, 0.1772764041227229, 0.8088235938099233, 0.9629361833241604, 0.13312775898802812, 0.09762702325788727, 0.43932160466049275, 0.16419090275190132, 0.07543906342654925, 0.09097063530848587, 0.9225689027537142, 0.9445342887587578, 0.9436458012218079, 0.9138977260593205, 0.9207335175454268, 0.9664743927678622, 0.021173031248500854, 0.9527864061825384, 0.021173031248500854, 0.9643511370321352, 0.0923433928051282, 0.8772622316487179, 0.2680166468844684, 0.6126094785930707, 0.047860115515083644, 0.047860115515083644, 0.02871606930905019, 0.958579829110782, 0.9462551725674425, 0.961695999153397, 0.8463205930127671, 0.09403562144586301, 0.9445321101655455], \"Term\": [\"\\uac00\\uaca9\", \"\\uac00\\ub098\", \"\\uac00\\ubccd\\ub2e4\", \"\\uac00\\uc6b4\\ub370\", \"\\uac00\\uc9c0\", \"\\uac00\\uc9c0\", \"\\uac00\\uc9c0\\ub2e4\", \"\\uac08\\ub2e4\", \"\\uac08\\uc544\\ud0c0\\ub2e4\", \"\\uac08\\uc544\\ud0c0\\ub2e4\", \"\\uac10\\uc131\", \"\\uac10\\uc131\", \"\\uac16\\ub2e4\", \"\\uac16\\ub2e4\", \"\\uac1c\\uc120\", \"\\uac1c\\uc120\", \"\\uac70\\uc2ac\\ub9ac\\ub2e4\", \"\\uac81\\ub098\\ub2e4\", \"\\uac8c\\uc784\", \"\\uacb0\\uc815\", \"\\uacbd\\ud654\", \"\\uace0\\ub3c4\", \"\\uace0\\ubbfc\", \"\\uace0\\ubbfc\", \"\\uace0\\ubbfc\", \"\\uad1c\\ucc2e\\ub2e4\", \"\\uad1c\\ucc2e\\ub2e4\", \"\\uad6c\\ub3c5\", \"\\uad6c\\ub9e4\", \"\\uad6c\\ub9e4\", \"\\uad6c\\ub9e4\", \"\\uad6c\\uc131\", \"\\uad6c\\uc785\", \"\\uad81\\uae08\", \"\\uadc0\\uc5ec\\uc6cc\", \"\\uadc0\\uc5fd\\ub2e4\", \"\\uadc0\\ucc2e\\ub2e4\", \"\\uadf8\\ub9b0\", \"\\uae30\\uae30\", \"\\uae30\\ub2a5\", \"\\uae30\\ub2a5\", \"\\uae30\\ub2e4\\ub9ac\\ub2e4\", \"\\uae30\\ub300\", \"\\uae4c\\uc9c0\\ub2e4\", \"\\uae54\\ub2e4\", \"\\uae68\\uc9c0\\ub2e4\", \"\\ub098\\ub3c4\", \"\\ub098\\uc911\", \"\\ub0b4\\ub144\", \"\\ub0b4\\ub9ac\\ub2e4\", \"\\ub0c9\\uc7a5\\uace0\", \"\\ub118\\uc5b4\\uac00\\ub2e4\", \"\\ub178\\ud2b8\", \"\\ub178\\ud2b8\", \"\\ub204\\uac00\", \"\\ub204\\ub974\\ub2e4\", \"\\ub290\\ub07c\\ub2e4\", \"\\ub290\\ub07c\\ub2e4\", \"\\ub290\\ub07c\\ub2e4\", \"\\ub290\\ub07c\\ub2e4\", \"\\ub290\\ub08c\", \"\\ub290\\ub08c\", \"\\ub290\\ub08c\", \"\\ub2e4\\ub2c8\\ub2e4\", \"\\ub2e4\\ub2c8\\ub2e4\", \"\\ub2e4\\uc2dc\", \"\\ub2e8\\uc810\", \"\\ub2e8\\uc810\", \"\\ub2e8\\uc810\", \"\\ub2e8\\uc810\", \"\\ub2e8\\uc810\", \"\\ub2eb\\ub2e4\", \"\\ub2ec\\ub2e4\", \"\\ub2ee\\ub2e4\", \"\\ub300\\ubc15\", \"\\ub300\\ud45c\", \"\\ub313\\uae00\", \"\\ub354\\ube14\", \"\\ub3c4\\uc0ac\", \"\\ub3c4\\uc6c0\", \"\\ub4dc\\ub85c\\uc774\\ub4dc\", \"\\ub4e3\\ub2e4\", \"\\ub4e4\\uc5b4\\uc624\\ub2e4\", \"\\ub514\\uc790\\uc778\", \"\\ub514\\uc790\\uc778\", \"\\ub514\\uc790\\uc778\", \"\\ub514\\uc790\\uc778\", \"\\ub514\\uc790\\uc778\", \"\\ub514\\uc790\\uc778\", \"\\ub530\\ub2e4\", \"\\ub530\\uc9c0\\ub2e4\", \"\\ub728\\ub2e4\", \"\\ub77c\\uace0\", \"\\ub77c\\ubca4\\ub354\", \"\\ub77c\\ubca4\\ub354\", \"\\ub7ec\\ube0c\", \"\\ub85c\\uace0\", \"\\ub9c8\\ub2e4\", \"\\ub9c8\\ub2e4\", \"\\ub9c8\\uc74c\", \"\\ub9c8\\uc74c\", \"\\ub9c8\\uc74c\", \"\\ub9d0\\uc774\", \"\\ub9de\\ub2e4\", \"\\ub9de\\ub2e4\", \"\\ub9e4\\ub825\", \"\\ub9e5\\ubd81\", \"\\ubaa8\\ub378\", \"\\ubaa9\\uc18c\\ub9ac\", \"\\ubb34\\uac81\\ub2e4\", \"\\ubb34\\uc120\\ucda9\\uc804\", \"\\ubbf8\\uce58\\ub2e4\", \"\\ubc14\\uafb8\\ub2e4\", \"\\ubc14\\uafb8\\ub2e4\", \"\\ubc14\\uafb8\\ub2e4\", \"\\ubc14\\uafb8\\ub2e4\", \"\\ubc1c\\uc5f4\", \"\\ubc1c\\uc5f4\", \"\\ubc1c\\uc5f4\", \"\\ubc1c\\uc5f4\", \"\\ubc29\\uc218\", \"\\ubc30\\uacbd\", \"\\ubc30\\ud130\\ub9ac\", \"\\ubc30\\ud130\\ub9ac\", \"\\ubc30\\ud130\\ub9ac\", \"\\ubc30\\ud130\\ub9ac\", \"\\ubc30\\ud130\\ub9ac\", \"\\ubc84\\ub9ac\\ub2e4\", \"\\ubc84\\ud2bc\", \"\\ubcc4\\ub85c\", \"\\ubcf4\\ub2c8\", \"\\ubcf4\\ub77c\", \"\\ubcf4\\uba74\", \"\\ubcf4\\uba74\", \"\\ubd88\\ud3b8\", \"\\ubd88\\ud3b8\", \"\\ubd88\\ud3b8\", \"\\ubd88\\ud3b8\", \"\\ubd88\\ud3b8\", \"\\ube14\\ub799\", \"\\ube44\\uad50\", \"\\ube44\\uad50\", \"\\ube44\\uc2a4\\ud3ec\\ud06c\", \"\\ube44\\uc2f8\\ub2e4\", \"\\ube60\\uc9c0\\ub2e4\", \"\\ube60\\uc9c0\\ub2e4\", \"\\ube7c\\ub2e4\", \"\\ube7c\\ub2e4\", \"\\uc0ac\\ub2e4\", \"\\uc0ac\\ub2e4\", \"\\uc0ac\\ub2e4\", \"\\uc0ac\\ub791\", \"\\uc0ac\\uba74\", \"\\uc0ac\\uc6a9\\uc790\", \"\\uc0ac\\uc6a9\\uc790\", \"\\uc0b0\\uc9c0\", \"\\uc0bc\\uc131\\ud398\\uc774\", \"\\uc0bc\\uc131\\ud398\\uc774\", \"\\uc0bc\\uc131\\ud398\\uc774\", \"\\uc0bc\\uc131\\ud398\\uc774\", \"\\uc0bc\\uc131\\ud398\\uc774\", \"\\uc0c1\\ud0dc\", \"\\uc0c9\\uae54\", \"\\uc0dd\\ud0dc\\uacc4\", \"\\uc0dd\\ud0dc\\uacc4\", \"\\uc0dd\\ud0dc\\uacc4\", \"\\uc120\\uc218\", \"\\uc131\\ub2a5\", \"\\uc131\\ub2a5\", \"\\uc131\\ub2a5\", \"\\uc131\\uc740\", \"\\uc18c\\ub9ac\", \"\\uc18c\\ub9ac\", \"\\uc18c\\ub9ac\", \"\\uc190\\ud1b1\", \"\\uc190\\ud1b1\", \"\\uc190\\ud1b1\\uc790\\uad6d\", \"\\uc218\\ub3c4\", \"\\uc21c\\uac04\", \"\\uc2a4\\ub9c8\\ud2b8\\ud3f0\", \"\\uc2a4\\ub9c8\\ud2b8\\ud3f0\", \"\\uc2a4\\ud0c0\\uc77c\", \"\\uc2a4\\ud399\", \"\\uc2ac\\ub2e4\", \"\\uc2dc\\ub124\", \"\\uc2dc\\ub9ac\\uc988\", \"\\uc2dc\\ub9ac\\uc988\", \"\\uc2e0\\uacbd\", \"\\uc2e0\\uacbd\", \"\\uc2e4\\ubb3c\", \"\\uc2f8\\ub2e4\", \"\\uc4f0\\ub808\\uae30\", \"\\uc544\\ub2c8\\uc57c\", \"\\uc544\\uc27d\\ub2e4\", \"\\uc544\\uc27d\\ub2e4\", \"\\uc544\\uc544\", \"\\uc544\\uc774\\ud328\\ub4dc\", \"\\uc544\\uc774\\ud3f0\\uc2ed\\uc0bc\", \"\\uc544\\uc774\\ud3f0\\uc2ed\\uc774\", \"\\uc544\\uc774\\ud3f0\\uc2ed\\uc774\", \"\\uc544\\uc774\\ud3f0\\uc2ed\\uc774\\ud504\\ub85c\", \"\\uc544\\uc8fc\", \"\\uc548\\ub418\\ub2e4\", \"\\uc548\\ub4dc\\ub85c\\uc774\\ub4dc\", \"\\uc548\\ub4dc\\ub85c\\uc774\\ub4dc\", \"\\uc54c\\ub9ac\\ub2e4\", \"\\uc561\\uc815\", \"\\uc561\\uc815\", \"\\uc5b4\\uc6b8\\ub9ac\\ub2e4\", \"\\uc5b4\\uc6b8\\ub9ac\\ub2e4\", \"\\uc5b4\\uca4c\\ub2e4\", \"\\uc5d0\\ub514\", \"\\uc5d0\\uc544\", \"\\uc5ec\\uc131\", \"\\uc5ed\\ub300\\uae09\", \"\\uc5ed\\ub300\\uae09\", \"\\uc5f4\\ub2e4\", \"\\uc5f4\\ub2e4\", \"\\uc5f4\\ub9ac\\ub2e4\", \"\\uc608\\ubed0\", \"\\uc608\\ubed0\\uc11c\", \"\\uc608\\uc058\\ub2e4\", \"\\uc608\\uc058\\ub2e4\", \"\\uc608\\uc058\\ub2e4\", \"\\uc608\\uc058\\ub2e4\", \"\\uc608\\uc058\\ub2e4\", \"\\uc608\\uc058\\ub2e4\", \"\\uc608\\uc57d\", \"\\uc624\\ub978\\ucabd\", \"\\uc644\\ubcbd\", \"\\uc694\\uc998\", \"\\uc694\\uc998\", \"\\uc6a9\\uc11c\", \"\\uc6c0\\uc9e4\", \"\\uc6c3\\uae30\\ub2e4\", \"\\uc704\\uce58\", \"\\uc744\\uc0ac\", \"\\uc774\\uac74\", \"\\uc774\\uae30\\ub2e4\", \"\\uc774\\ub4e0\", \"\\uc774\\ub984\", \"\\uc774\\ube44\", \"\\uc774\\uc601\\uc0c1\", \"\\uc774\\uc815\", \"\\uc774\\ud3ec\", \"\\uc774\\ud574\", \"\\uc774\\ud6c4\", \"\\uc778\\uac00\", \"\\uc778\\uc904\", \"\\uc785\\ub2e4\", \"\\uc787\\ub2e4\", \"\\uc790\\ub2e4\", \"\\uc790\\ub2e4\", \"\\uc790\\ub791\", \"\\uc790\\uccb4\", \"\\uc791\\ub2e4\", \"\\uc791\\ub2e4\", \"\\uc7a1\\ub2e4\", \"\\uc7a5\\uc810\", \"\\uc7ac\\ubc0c\\ub2e4\", \"\\uc800\\ub7ec\\ub2e4\", \"\\uc804\\ud654\", \"\\uc808\\ub300\", \"\\uc811\\ub2e4\", \"\\uc811\\ub2e4\", \"\\uc811\\ub2e4\", \"\\uc81c\\uc77c\", \"\\uc81c\\uc77c\", \"\\uc81c\\uc77c\", \"\\uc81c\\ud2b8\", \"\\uc81c\\ud488\", \"\\uc81c\\ud488\", \"\\uc874\\ubc84\", \"\\uc88b\\ub2e4\", \"\\uc88b\\ub2e4\", \"\\uc88b\\ub2e4\", \"\\uc88b\\ub2e4\", \"\\uc88b\\ub2e4\", \"\\uc88b\\ub2e4\", \"\\uc88b\\uc544\\ud558\\ub2e4\", \"\\uc88b\\uc544\\ud558\\ub2e4\", \"\\uc8fc\\ub2e4\", \"\\uc8fc\\ub2e4\", \"\\uc8fc\\ub984\", \"\\uc8fc\\ubb38\", \"\\uc9c0\\ub2e4\", \"\\uc9c0\\ub2e4\", \"\\uc9c0\\ub974\\ub2e4\", \"\\uc9c0\\ubb38\", \"\\uc9c0\\ubb38\\uc778\\uc2dd\", \"\\uc9dc\\ub2e4\", \"\\ucc0d\\ub2e4\", \"\\ucc0d\\ub2e4\", \"\\ucc38\\ub2e4\", \"\\ucd5c\\uace0\", \"\\ucd94\\ucc9c\", \"\\ucd9c\\uc2dc\", \"\\ucda9\\uc804\", \"\\uce58\\uba85\", \"\\uce6d\\ucc2c\", \"\\uce74\\ub4dc\", \"\\uce74\\uba54\\ub77c\", \"\\uce74\\uba54\\ub77c\", \"\\uceec\\ub7ec\", \"\\ucf00\\uc774\\uc2a4\", \"\\ucf00\\uc774\\uc2a4\", \"\\ud06c\\ub2e4\", \"\\ud06c\\ub2e4\", \"\\ud06c\\ub2e4\", \"\\ud06c\\ub9bc\", \"\\ud06c\\ub9bc\", \"\\ud0c8\\ucd9c\", \"\\ud130\\uc9c0\\ub2e4\", \"\\ud14c\\uc2a4\\ud2b8\", \"\\ud1b5\\ud654\\ub179\\uc74c\", \"\\ud22c\\uba85\", \"\\ud314\\ub2e4\", \"\\ud328\\ub4dc\", \"\\ud37c\\ud50c\", \"\\ud37c\\ud50c\", \"\\ud3b4\\ub2e4\", \"\\ud3b8\\ud558\\ub2e4\", \"\\ud3b8\\ud558\\ub2e4\", \"\\ud3f4\\ub354\", \"\\ud3f4\\ub354\", \"\\ud3f4\\ub4dc\", \"\\ud3f4\\ub4dc\", \"\\ud504\\ub85c\", \"\\ud50c\\ub9bd\", \"\\ud50c\\ub9bd\", \"\\ud50c\\ub9bd\", \"\\ud50c\\ub9bd\", \"\\ud50c\\ub9bd\", \"\\ud50c\\ub9bd\", \"\\ud544\\ub984\", \"\\ud558\\uae30\", \"\\ud55c\\uac00\\uc9c0\", \"\\ud55c\\uad6d\", \"\\ud55c\\ubc88\", \"\\ud574\\ub3c4\", \"\\ud578\\ub4dc\\ud3f0\", \"\\ud578\\ub4dc\\ud3f0\", \"\\ud578\\ub4dc\\ud3f0\", \"\\ud601\\uc2e0\", \"\\ud604\\uc2e4\", \"\\ud604\\uc2e4\", \"\\ud654\\uba74\", \"\\ud654\\uba74\", \"\\ud654\\uba74\", \"\\ud654\\uba74\", \"\\ud654\\uba74\", \"\\ud654\\uc774\\ud305\", \"\\ud6c4\\uae30\", \"\\ud734\\ub300\\uc131\", \"\\ud734\\ub300\\ud3f0\", \"\\ud734\\ub300\\ud3f0\", \"\\ud754\\ub4e4\\ub9ac\\ub2e4\"]}, \"R\": 30, \"lambda.step\": 0.01, \"plot.opts\": {\"xlab\": \"PC1\", \"ylab\": \"PC2\"}, \"topic.order\": [6, 2, 5, 4, 1, 3]};\n",
              "\n",
              "function LDAvis_load_lib(url, callback){\n",
              "  var s = document.createElement('script');\n",
              "  s.src = url;\n",
              "  s.async = true;\n",
              "  s.onreadystatechange = s.onload = callback;\n",
              "  s.onerror = function(){console.warn(\"failed to load library \" + url);};\n",
              "  document.getElementsByTagName(\"head\")[0].appendChild(s);\n",
              "}\n",
              "\n",
              "if(typeof(LDAvis) !== \"undefined\"){\n",
              "   // already loaded: just create the visualization\n",
              "   !function(LDAvis){\n",
              "       new LDAvis(\"#\" + \"ldavis_el591404639496748321289666989\", ldavis_el591404639496748321289666989_data);\n",
              "   }(LDAvis);\n",
              "}else if(typeof define === \"function\" && define.amd){\n",
              "   // require.js is available: use it to load d3/LDAvis\n",
              "   require.config({paths: {d3: \"https://d3js.org/d3.v5\"}});\n",
              "   require([\"d3\"], function(d3){\n",
              "      window.d3 = d3;\n",
              "      LDAvis_load_lib(\"https://cdn.jsdelivr.net/gh/bmabey/pyLDAvis@3.3.1/pyLDAvis/js/ldavis.v3.0.0.js\", function(){\n",
              "        new LDAvis(\"#\" + \"ldavis_el591404639496748321289666989\", ldavis_el591404639496748321289666989_data);\n",
              "      });\n",
              "    });\n",
              "}else{\n",
              "    // require.js not available: dynamically load d3 & LDAvis\n",
              "    LDAvis_load_lib(\"https://d3js.org/d3.v5.js\", function(){\n",
              "         LDAvis_load_lib(\"https://cdn.jsdelivr.net/gh/bmabey/pyLDAvis@3.3.1/pyLDAvis/js/ldavis.v3.0.0.js\", function(){\n",
              "                 new LDAvis(\"#\" + \"ldavis_el591404639496748321289666989\", ldavis_el591404639496748321289666989_data);\n",
              "            })\n",
              "         });\n",
              "}\n",
              "</script>"
            ]
          },
          "metadata": {},
          "execution_count": 151
        }
      ],
      "source": [
        "pyLDAvis.sklearn.prepare(lda_model, tfidf, vectorizer)"
      ]
    },
    {
      "cell_type": "code",
      "source": [
        "#폴드 댓글의 토픽모델링"
      ],
      "metadata": {
        "id": "R-hq27hXFtJi"
      },
      "execution_count": null,
      "outputs": []
    },
    {
      "cell_type": "code",
      "source": [
        "fold_vocab = []\n",
        "for i in range(len(fold_bag['comment_list'])):\n",
        "  ls = []\n",
        "  for w in fold_bag['comment_list'][i].replace('[','').replace(']','').split(','):\n",
        "    ls.append(w.replace(\"'\",'').replace(' ',''))\n",
        "  fold_vocab.append(ls)"
      ],
      "metadata": {
        "id": "874phKkrLU1l"
      },
      "execution_count": null,
      "outputs": []
    },
    {
      "cell_type": "code",
      "source": [
        "detokenized = []\n",
        "for i in range(len(fold_vocab)):\n",
        "  text = ' '.join(fold_vocab[i])\n",
        "  detokenized.append(text)\n",
        "\n",
        "vectorizer = TfidfVectorizer(max_features=1000) #max_features=1000\n",
        "tfidf = vectorizer.fit_transform(detokenized)"
      ],
      "metadata": {
        "id": "SC0QHDSpKvzM"
      },
      "execution_count": null,
      "outputs": []
    },
    {
      "cell_type": "code",
      "source": [
        "tfidf.shape"
      ],
      "metadata": {
        "colab": {
          "base_uri": "https://localhost:8080/"
        },
        "id": "a3vnVytALsFN",
        "outputId": "75bbde82-4c54-45ee-c7a5-9d51b70fb2f4"
      },
      "execution_count": null,
      "outputs": [
        {
          "output_type": "execute_result",
          "data": {
            "text/plain": [
              "(9864, 1000)"
            ]
          },
          "metadata": {},
          "execution_count": 154
        }
      ]
    },
    {
      "cell_type": "code",
      "source": [
        "lda_model = LatentDirichletAllocation(n_components=6,learning_method='online',random_state=777,max_iter=1)\n",
        "lda_top = lda_model.fit_transform(tfidf)\n",
        "\n",
        "terms = vectorizer.get_feature_names()\n",
        "\n",
        "def get_topics(components, feature_names, n=10):\n",
        "    for idx, topic in enumerate(components):\n",
        "        print(\"Topic %d:\" % (idx+1), [(feature_names[i], topic[i].round(2)) for i in topic.argsort()[:-n - 1:-1]])\n",
        "\n",
        "get_topics(lda_model.components_,terms)"
      ],
      "metadata": {
        "colab": {
          "base_uri": "https://localhost:8080/"
        },
        "id": "3A9PpWTTK7PD",
        "outputId": "2ca510cf-9eb3-4744-8cd4-e210c5fedac4"
      },
      "execution_count": null,
      "outputs": [
        {
          "output_type": "stream",
          "name": "stdout",
          "text": [
            "Topic 1: [('발열', 53.37), ('방수', 50.86), ('핸드폰', 45.16), ('쉽다', 39.16), ('신경', 37.9), ('알리다', 35.26), ('맞다', 30.3), ('게임', 29.2), ('들어오다', 28.51), ('지원', 27.38)]\n",
            "Topic 2: [('접다', 110.01), ('폴드', 76.56), ('바꾸다', 73.08), ('스마트폰', 65.95), ('찍다', 57.78), ('주름', 48.68), ('기대', 45.5), ('좋다', 41.1), ('플립', 36.88), ('화면', 35.53)]\n",
            "Topic 3: [('예쁘다', 110.3), ('색깔', 71.72), ('폴드', 70.25), ('아쉽다', 65.35), ('구매', 56.17), ('크다', 53.68), ('두껍다', 46.72), ('필요', 45.26), ('플립', 45.25), ('기능', 44.53)]\n",
            "Topic 4: [('기다리다', 53.75), ('고민', 41.17), ('가격', 38.14), ('폴드', 32.27), ('미니', 31.51), ('완벽', 31.25), ('넘어가다', 26.51), ('구독', 25.41), ('요즘', 23.81), ('발전', 22.91)]\n",
            "Topic 5: [('좋다', 187.13), ('사다', 132.02), ('카메라', 70.2), ('언더디스플레이카메라', 62.97), ('케이스', 54.39), ('성능', 51.42), ('폴드', 47.81), ('더블', 42.26), ('폴더', 35.75), ('존버', 31.94)]\n",
            "Topic 6: [('폴드', 217.5), ('플립', 109.04), ('갖다', 91.38), ('화면', 66.94), ('무겁다', 66.58), ('배터리', 64.87), ('무게', 60.68), ('노트', 59.41), ('단점', 52.36), ('좋다', 49.7)]\n"
          ]
        },
        {
          "output_type": "stream",
          "name": "stderr",
          "text": [
            "/usr/local/lib/python3.7/dist-packages/sklearn/utils/deprecation.py:87: FutureWarning: Function get_feature_names is deprecated; get_feature_names is deprecated in 1.0 and will be removed in 1.2. Please use get_feature_names_out instead.\n",
            "  warnings.warn(msg, category=FutureWarning)\n"
          ]
        }
      ]
    },
    {
      "cell_type": "code",
      "source": [
        "# visualization - fold"
      ],
      "metadata": {
        "id": "JAtOhnScLC3d"
      },
      "execution_count": null,
      "outputs": []
    },
    {
      "cell_type": "code",
      "source": [
        "pyLDAvis.sklearn.prepare(lda_model, tfidf, vectorizer)"
      ],
      "metadata": {
        "colab": {
          "base_uri": "https://localhost:8080/",
          "height": 953
        },
        "id": "HQputafGEgVM",
        "outputId": "404685d7-019a-4a2c-9735-da1f8b85eefe"
      },
      "execution_count": null,
      "outputs": [
        {
          "output_type": "stream",
          "name": "stderr",
          "text": [
            "/usr/local/lib/python3.7/dist-packages/sklearn/utils/deprecation.py:87: FutureWarning: Function get_feature_names is deprecated; get_feature_names is deprecated in 1.0 and will be removed in 1.2. Please use get_feature_names_out instead.\n",
            "  warnings.warn(msg, category=FutureWarning)\n",
            "/usr/local/lib/python3.7/dist-packages/pyLDAvis/_prepare.py:247: FutureWarning: In a future version of pandas all arguments of DataFrame.drop except for the argument 'labels' will be keyword-only\n",
            "  by='saliency', ascending=False).head(R).drop('saliency', 1)\n"
          ]
        },
        {
          "output_type": "execute_result",
          "data": {
            "text/plain": [
              "PreparedData(topic_coordinates=              x         y  topics  cluster       Freq\n",
              "topic                                                \n",
              "2      0.038044 -0.117977       1        1  19.198631\n",
              "1     -0.129193 -0.165274       2        1  18.874148\n",
              "5     -0.126308 -0.106809       3        1  18.340647\n",
              "4      0.191276 -0.020152       4        1  16.148053\n",
              "0      0.216531  0.126779       5        1  15.356536\n",
              "3     -0.190350  0.283433       6        1  12.081986, topic_info=     Term        Freq       Total Category  logprob  loglift\n",
              "416    사다  135.000000  135.000000  Default  30.0000  30.0000\n",
              "793    좋다  321.000000  321.000000  Default  29.0000  29.0000\n",
              "772    접다  106.000000  106.000000  Default  28.0000  28.0000\n",
              "609   예쁘다  113.000000  113.000000  Default  27.0000  27.0000\n",
              "27     갖다   80.000000   80.000000  Default  26.0000  26.0000\n",
              "..    ...         ...         ...      ...      ...      ...\n",
              "60     고민   48.260659   60.256676   Topic6  -3.5317   1.8915\n",
              "682    이건   15.845822   17.120229   Topic6  -4.6454   2.0361\n",
              "154  넘어가다   31.072267   43.737678   Topic6  -3.9720   1.7716\n",
              "1      가격   44.703987   75.729936   Topic6  -3.6082   1.5863\n",
              "924    폴드   37.826943  433.696730   Topic6  -3.7753  -0.3259\n",
              "\n",
              "[292 rows x 6 columns], token_table=      Topic      Freq Term\n",
              "term                      \n",
              "1         1  0.052819   가격\n",
              "1         2  0.026410   가격\n",
              "1         3  0.052819   가격\n",
              "1         4  0.184867   가격\n",
              "1         5  0.079229   가격\n",
              "...     ...       ...  ...\n",
              "995       3  0.968216   휴대\n",
              "996       1  0.941519  휴대성\n",
              "997       2  0.840988  휴대폰\n",
              "997       4  0.044263  휴대폰\n",
              "997       5  0.088525  휴대폰\n",
              "\n",
              "[379 rows x 3 columns], R=30, lambda_step=0.01, plot_opts={'xlab': 'PC1', 'ylab': 'PC2'}, topic_order=[3, 2, 6, 5, 1, 4])"
            ],
            "text/html": [
              "\n",
              "<link rel=\"stylesheet\" type=\"text/css\" href=\"https://cdn.jsdelivr.net/gh/bmabey/pyLDAvis@3.3.1/pyLDAvis/js/ldavis.v1.0.0.css\">\n",
              "\n",
              "\n",
              "<div id=\"ldavis_el591404639507447844621054955\"></div>\n",
              "<script type=\"text/javascript\">\n",
              "\n",
              "var ldavis_el591404639507447844621054955_data = {\"mdsDat\": {\"x\": [0.03804440519910593, -0.12919308968559298, -0.1263080098972208, 0.19127626115343632, 0.21653085300218922, -0.19035041977191786], \"y\": [-0.11797670930671476, -0.16527371943181918, -0.10680897457444173, -0.0201522858542055, 0.1267788095199013, 0.28343287964728], \"topics\": [1, 2, 3, 4, 5, 6], \"cluster\": [1, 1, 1, 1, 1, 1], \"Freq\": [19.198630580337674, 18.87414798160863, 18.340647006444712, 16.148052708760574, 15.356535715228558, 12.081986007619843]}, \"tinfo\": {\"Term\": [\"\\uc0ac\\ub2e4\", \"\\uc88b\\ub2e4\", \"\\uc811\\ub2e4\", \"\\uc608\\uc058\\ub2e4\", \"\\uac16\\ub2e4\", \"\\uae30\\ub2e4\\ub9ac\\ub2e4\", \"\\ubc14\\uafb8\\ub2e4\", \"\\uc0c9\\uae54\", \"\\ubc1c\\uc5f4\", \"\\uace0\\ubbfc\", \"\\ubb34\\uac81\\ub2e4\", \"\\uc2a4\\ub9c8\\ud2b8\\ud3f0\", \"\\uce74\\uba54\\ub77c\", \"\\ubc29\\uc218\", \"\\ucf00\\uc774\\uc2a4\", \"\\ud50c\\ub9bd\", \"\\ud578\\ub4dc\\ud3f0\", \"\\uc131\\ub2a5\", \"\\ucc0d\\ub2e4\", \"\\ubc30\\ud130\\ub9ac\", \"\\ubbf8\\ub2c8\", \"\\uc544\\uc27d\\ub2e4\", \"\\uc644\\ubcbd\", \"\\uc5b8\\ub354\\ub514\\uc2a4\\ud50c\\ub808\\uc774\\uce74\\uba54\\ub77c\", \"\\uc27d\\ub2e4\", \"\\uac00\\uaca9\", \"\\ud3f4\\ub4dc\", \"\\ubb34\\uac8c\", \"\\uc2e0\\uacbd\", \"\\uc8fc\\ub984\", \"\\uc0c9\\uae54\", \"\\ud544\\uc694\", \"\\uc88b\\uc544\\ud558\\ub2e4\", \"\\uc218\\ub0a9\", \"\\uacc4\\uc18d\", \"\\uc62c\\ub9ac\\ub2e4\", \"\\uac00\\uc9c0\\ub2e4\", \"\\ubabb\\uc4f0\\ub2e4\", \"\\uc2f8\\ub2e4\", \"\\uc0ac\\uc9c4\", \"\\uadf8\\ub9b0\", \"\\ub9e4\\ub825\", \"\\ube14\\ub799\", \"\\uadc0\\ucc2e\\ub2e4\", \"\\uc5d0\\uc120\", \"\\uc6d0\\ub798\", \"\\ub7ec\\ube0c\", \"\\ud734\\ub300\\uc131\", \"\\uc548\\ub418\\ub2e4\", \"\\uc751\\uc6d0\", \"\\uc544\\uc8fc\", \"\\uba4b\\uc788\\ub2e4\", \"\\uad6c\\uc785\", \"\\ub450\\uaecd\\ub2e4\", \"\\ubc29\\uc9c4\", \"\\uc2e4\\ubb3c\", \"\\ub3d9\\uc601\\uc0c1\", \"\\ub54c\\ub2e4\", \"\\uac78\\ub2e4\", \"\\uc911\\uad6d\", \"\\ud32c\\ud140\", \"\\uc2e4\\ubc84\", \"\\uc774\\uc548\", \"\\uc608\\uc058\\ub2e4\", \"\\uc544\\uc27d\\ub2e4\", \"\\ub0b4\\ubd80\", \"\\uad6c\\ub9e4\", \"\\uae30\\uc220\", \"\\uae30\\ub2a5\", \"\\ud06c\\ub2e4\", \"\\uc81c\\ud488\", \"\\ub514\\uc790\\uc778\", \"\\ub290\\ub08c\", \"\\ub2e4\\ub974\\ub2e4\", \"\\ub514\\uc2a4\\ud50c\\ub808\\uc774\", \"\\uc5d0\\uc2a4\\ud39c\", \"\\ud3f4\\ub4dc\", \"\\ud50c\\ub9bd\", \"\\uce74\\uba54\\ub77c\", \"\\uc88b\\ub2e4\", \"\\ud654\\uba74\", \"\\uc5b8\\ub354\\ub514\\uc2a4\\ud50c\\ub808\\uc774\\uce74\\uba54\\ub77c\", \"\\uc2a4\\ub9c8\\ud2b8\\ud3f0\", \"\\ucc0d\\ub2e4\", \"\\uc8fc\\ub984\", \"\\ubc14\\uafb8\\ub2e4\", \"\\ubb38\\uc81c\", \"\\ub298\\ub2e4\", \"\\ud3b4\\ub2e4\", \"\\uc7a1\\ub2e4\", \"\\ucd9c\\uc2dc\", \"\\ub192\\ub2e4\", \"\\ub0b4\\ub144\", \"\\uc544\\uc774\\ud3f0\\uc2ed\\uc0bc\", \"\\ud574\\uacb0\", \"\\uac00\\uc6b4\\ub370\", \"\\ud06c\\uae30\", \"\\ud504\\ub85c\", \"\\ud3f4\\ub354\\ube14\\ud3f0\", \"\\uc2a4\\ub0c5\\ub4dc\\ub798\\uace4\", \"\\uc774\\ud574\", \"\\ubb38\\uc81c\\uc810\", \"\\uc2dc\\uc7a5\", \"\\ud55c\\ubc88\", \"\\ub9c8\\ucf00\\ud305\", \"\\uc804\\ud654\", \"\\ud0d0\\ub098\\ub2e4\", \"\\uc800\\ub7ec\\ub2e4\", \"\\ud6c4\\uae30\", \"\\uac10\\uc131\", \"\\ucee4\\ubc84\", \"\\uc218\\uc900\", \"\\uc811\\ub2e4\", \"\\uc774\\uace0\", \"\\uae30\\ub300\", \"\\uc790\\uccb4\", \"\\ud3bc\\uce58\\ub2e4\", \"\\uc720\\ud29c\\ube0c\", \"\\uc2dc\\ub9ac\\uc988\", \"\\uc678\\ubd80\", \"\\ube44\\uad50\", \"\\ud734\\ub300\\ud3f0\", \"\\ub4e4\\uc5b4\\uac00\\ub2e4\", \"\\ud3f4\\ub4dc\", \"\\ud654\\uba74\", \"\\ud50c\\ub9bd\", \"\\uc88b\\ub2e4\", \"\\ub290\\ub08c\", \"\\uac16\\ub2e4\", \"\\ubb34\\uac81\\ub2e4\", \"\\ud0dc\\ube14\\ub9bf\", \"\\ucd5c\\uace0\", \"\\uc544\\uc774\\ud328\\ub4dc\", \"\\ube44\\uc728\", \"\\uac08\\uc544\\ud0c0\\ub2e4\", \"\\ud615\\ud0dc\", \"\\uc5f4\\ub2e4\", \"\\uc7a5\\uc810\", \"\\ud734\\ub300\", \"\\ucc38\\ub2e4\", \"\\uae4c\\uc9c0\\ub2e4\", \"\\uc2ec\\ud558\\ub2e4\", \"\\uc778\\uac00\", \"\\uc5ec\\uc804\", \"\\ubc14\\ub00c\\ub2e4\", \"\\ud615\\ub2d8\", \"\\ub113\\ub2e4\", \"\\ubcf4\\uba74\", \"\\uc9c0\\ub974\\ub2e4\", \"\\ud314\\ub9ac\\ub2e4\", \"\\uac70\\uc9c0\", \"\\ub204\\ub974\\ub2e4\", \"\\uad81\\uae08\", \"\\uc608\\uc57d\", \"\\uc9c0\\ub2e4\", \"\\uc11c\\ub2e4\", \"\\ucc28\\ub2e4\", \"\\ubc30\\uc6b0\", \"\\ub313\\uae00\", \"\\uc791\\ub2e4\", \"\\ubb34\\uac8c\", \"\\ubc30\\ud130\\ub9ac\", \"\\ube44\\uc2f8\\ub2e4\", \"\\ud3f4\\ub4dc\", \"\\ubd88\\ud3b8\", \"\\ud50c\\ub9bd\", \"\\ub2e8\\uc810\", \"\\ub178\\ud2b8\", \"\\ub9cc\\uc871\", \"\\ud654\\uba74\", \"\\uc88b\\ub2e4\", \"\\ub2e4\\ub2c8\\ub2e4\", \"\\ub290\\ub07c\\ub2e4\", \"\\ube7c\\ub2e4\", \"\\uc131\\ub2a5\", \"\\ud3f4\\ub354\", \"\\ud601\\uc2e0\", \"\\uac70\\uc2ac\\ub9ac\\ub2e4\", \"\\uc2a4\\ud53c\\ucee4\", \"\\ubaa9\\uc18c\\ub9ac\", \"\\ucf00\\uc774\\uc2a4\", \"\\uc7ac\\ubc0c\\ub2e4\", \"\\ubd80\\ud0c1\", \"\\ub3c4\\uc6c0\", \"\\ud6c4\\uba74\", \"\\uc874\\ubc84\", \"\\uac00\\uc9c0\", \"\\ud3b8\\ud558\\ub2e4\", \"\\uc774\\ub098\", \"\\uc5b4\\ub835\\ub2e4\", \"\\uc720\\ub8cc\", \"\\uae30\\ubd84\", \"\\ubd80\\uc871\", \"\\uc0c8\\ub86d\\ub2e4\", \"\\uadc0\\uc5fd\\ub2e4\", \"\\ud45c\\uc2dc\", \"\\ud1b5\\ud654\", \"\\ud310\\ub9e4\\ub7c9\", \"\\uc8fc\\ub2e4\", \"\\uc120\\ud0dd\", \"\\uc18c\\ube44\\uc790\", \"\\uc0ac\\ub2e4\", \"\\uc904\\uc774\\ub2e4\", \"\\ub0b4\\ub2e4\", \"\\uc774\\uac70\", \"\\uacbd\\uc6b0\", \"\\ub0ab\\ub2e4\", \"\\uc88b\\ub2e4\", \"\\ub354\\ube14\", \"\\uac1c\\uc120\", \"\\uce74\\uba54\\ub77c\", \"\\uc5b8\\ub354\\ub514\\uc2a4\\ud50c\\ub808\\uc774\\uce74\\uba54\\ub77c\", \"\\ub5a8\\uc5b4\\uc9c0\\ub2e4\", \"\\uc0ac\\uc6a9\\uc790\", \"\\ud3f4\\ub4dc\", \"\\ub2e8\\uc810\", \"\\ud654\\uba74\", \"\\ubc1c\\uc5f4\", \"\\ud578\\ub4dc\\ud3f0\", \"\\uc54c\\ub9ac\\ub2e4\", \"\\ub4e4\\uc5b4\\uc624\\ub2e4\", \"\\uc9c0\\uc6d0\", \"\\uc27d\\ub2e4\", \"\\ube60\\ub974\\ub2e4\", \"\\uc790\\ub9c9\", \"\\uc804\\uba74\", \"\\uc131\\uc740\", \"\\ub300\\ubc15\", \"\\ub9c8\\uc74c\", \"\\uac00\\ub2a5\", \"\\ud55c\\uad6d\", \"\\uba40\\ud2f0\", \"\\ud574\\uc8fc\", \"\\uc67c\\uc190\\uc7a1\\uc774\", \"\\uc548\\ub155\", \"\\ub2e4\\uc2dc\", \"\\uc4f0\\uc774\\ub2e4\", \"\\uc2e0\\uacbd\", \"\\ubc30\\uacbd\", \"\\ub2ec\\ub2e4\", \"\\ud328\\ub4dc\", \"\\uc774\\ub984\", \"\\uae54\\ub2e4\", \"\\ud5c8\\ub2e4\", \"\\uc800\\ub807\\ub2e4\", \"\\ub9dd\\uc124\\uc774\\ub2e4\", \"\\uba54\\uc778\", \"\\ubc29\\uc218\", \"\\ub9de\\ub2e4\", \"\\uac8c\\uc784\", \"\\ud380\\uce58\", \"\\uc5b8\\ub354\\ub514\\uc2a4\\ud50c\\ub808\\uc774\\uce74\\uba54\\ub77c\", \"\\ud3f4\\ub4dc\", \"\\uce74\\uba54\\ub77c\", \"\\uc88b\\ub2e4\", \"\\uae30\\ub2e4\\ub9ac\\ub2e4\", \"\\ubbf8\\ub2c8\", \"\\uad6c\\ub3c5\", \"\\uc694\\uc998\", \"\\ube60\\uc9c0\\ub2e4\", \"\\ub300\\ud558\\ub2e4\", \"\\ud314\\ub2e4\", \"\\ucd94\\ucc9c\", \"\\uc81c\\uc77c\", \"\\uba39\\ub2e4\", \"\\uc9c1\\ub3c4\", \"\\uc774\\ud615\", \"\\uc218\\ub3c4\", \"\\uc2a4\\ud0c0\", \"\\uc5c5\\ub85c\\ub4dc\", \"\\ud14c\\ud06c\", \"\\ucc3e\\ub2e4\", \"\\uc5b4\\uc6b8\\ub9ac\\ub2e4\", \"\\ube68\\ub2e4\", \"\\uae30\\uc5c5\", \"\\uae30\\uac00\", \"\\uc640\\uc6b0\", \"\\ub2e4\\uc6b4\", \"\\ubbff\\ub2e4\", \"\\ub3cc\\uc544\\uac00\\ub2e4\", \"\\uc790\\uae09\\uc81c\", \"\\uac00\\ubccd\\ub2e4\", \"\\uc774\\uc774\", \"\\uc644\\uc131\\ub3c4\", \"\\ubc1c\\uc804\", \"\\uad00\\uc2ec\", \"\\uc644\\ubcbd\", \"\\uace0\\ubbfc\", \"\\uc774\\uac74\", \"\\ub118\\uc5b4\\uac00\\ub2e4\", \"\\uac00\\uaca9\", \"\\ud3f4\\ub4dc\"], \"Freq\": [135.0, 321.0, 106.0, 113.0, 80.0, 64.0, 66.0, 65.0, 56.0, 60.0, 59.0, 59.0, 124.0, 71.0, 54.0, 184.0, 47.0, 50.0, 52.0, 68.0, 37.0, 68.0, 39.0, 114.0, 42.0, 75.0, 433.0, 60.0, 41.0, 44.0, 64.52050571442098, 40.714636803110245, 29.737012819843184, 25.630041387564013, 20.97465150745902, 20.264220773192765, 20.849680977351408, 18.13757780533837, 17.30538024212065, 17.26542925123599, 16.764757279272175, 15.675127194480748, 14.87909557079004, 16.42311212684144, 14.673909837051925, 14.774364743747018, 14.231651297981223, 14.02131416683868, 13.593779626568704, 13.21144184489996, 13.973666410571397, 12.530368313536167, 12.484953474628627, 42.03101008750341, 12.101264992844227, 11.874770517928596, 12.529831532969625, 12.52686067487613, 14.719040043849223, 11.281113644219493, 16.47632817861675, 37.10481240538607, 23.003491144212642, 99.22846298724971, 58.79087970265393, 30.956073589755587, 50.53415650934224, 36.37410771484539, 40.055861403778835, 48.292443939708114, 30.420314200168644, 30.990868764065894, 37.41731052948788, 22.732122217917176, 28.579122668791758, 28.566818103270375, 63.19166721876888, 40.70752218379734, 34.08318099042909, 38.88428899450694, 30.691678634973066, 23.61806346947693, 58.83932078945524, 51.55740991142942, 43.43649163536663, 65.20552729011838, 27.83935829735879, 30.17338564227237, 24.815334275682225, 23.673149226796223, 26.953092297279767, 21.32047231384773, 19.5470613353323, 19.457036443405478, 19.500101331397108, 17.296975373748502, 16.96892447605537, 20.43909870500244, 22.83335703640486, 15.213996567627394, 17.06991751545542, 15.521041394027291, 14.063653997984462, 13.307236270100757, 12.735975485379303, 14.05904007558173, 12.222849999217178, 12.236804268042906, 12.019186229786321, 12.200688529268437, 19.83286517602816, 13.428769731360942, 98.1550701624718, 15.946453285303418, 40.59978604094073, 18.380853669879315, 25.23472455068097, 27.481804851398778, 29.41065013037101, 29.42936059177969, 27.66199582641391, 19.157597068261122, 21.929305395203425, 68.30970080571278, 31.701678663143625, 32.90783400173341, 36.667245315112886, 20.366461390276793, 80.11649474551407, 58.37601169068825, 38.564598629732046, 29.221453290398753, 28.93289593781099, 25.55001026406476, 25.56326736661216, 25.794343357217805, 23.878149177704934, 21.488234136693016, 19.81251972690415, 18.183345862188126, 17.682876995859893, 17.423667477590758, 16.17424650398964, 16.09438001965254, 16.753849814279754, 19.13878725130893, 15.172981411136554, 15.492896514115316, 14.235746136845954, 14.038782346550201, 13.864080333956238, 13.34201140572449, 12.74560950081369, 12.185502890205019, 11.676636693037622, 13.975002214726125, 11.91536587884476, 11.91076713666536, 13.078000109071402, 19.319339250945948, 53.205005729585004, 56.87815159026357, 27.51345303465818, 190.68981857291547, 32.42953862448034, 95.59789303109274, 45.909891454502386, 52.08349381770782, 33.82042985192645, 58.686733635203126, 43.574251564369675, 18.53265259889971, 20.403764809022615, 16.766964873133812, 49.297650900280196, 34.279971236966865, 29.233640778903005, 26.859026130105466, 24.4060512541325, 21.076810421914043, 52.15135215721077, 19.822290187022336, 19.568354148561323, 18.728052889003866, 18.728371552540793, 30.61954430292161, 15.951295431737998, 14.776700647306763, 17.676131077111496, 15.193730093030887, 14.107174534826678, 13.848619109731917, 13.33969944402428, 14.092651704565121, 12.935658493410639, 13.413873553353692, 13.734524439217036, 12.355601183502257, 17.667753296705417, 15.120867778949265, 13.580990579548446, 126.57866416291182, 11.164411202203809, 10.962362383752117, 12.518022218588847, 13.439472711618729, 19.01004102321649, 179.42195525457484, 40.51621550196717, 24.880249002762092, 67.30300521146944, 60.37832188997006, 20.13100326111324, 20.32170935529479, 45.84315130056985, 18.095942830351152, 15.006349098011272, 55.696393912408624, 47.125611900478226, 36.795520674259805, 29.74788773820464, 28.577370631777217, 40.86792236408536, 26.62556739813326, 24.24081191339526, 25.996995881593104, 22.923074368501435, 20.628520021841783, 21.644551347582908, 19.803477936201073, 21.129258857192685, 18.49990103876147, 18.613329246304936, 18.02776655213922, 17.420731125069214, 17.14932070747692, 18.71590574906217, 39.557102561099605, 15.786249819867747, 15.147626827675646, 15.113553563212637, 14.529107056627055, 14.049202112962032, 14.10390489054936, 13.302946441316433, 17.211380028093714, 16.411034908989247, 53.074669314793844, 31.622199138068353, 30.472903416052993, 20.799667737217955, 25.43098880890913, 27.835449903596018, 21.231010614412106, 21.435388434423555, 63.000249241581834, 36.9334768450119, 29.781251665327684, 27.906065549246858, 25.84515197205589, 25.459821846216418, 23.20975407195439, 22.69288889303719, 26.399035311289367, 21.462864931092803, 19.373770801073444, 19.72671417391144, 18.202109225210187, 17.440974157520426, 17.147775011712962, 16.357680763094688, 16.427850226396654, 16.508040771467773, 15.650326365142318, 15.65546272727671, 16.418842225146072, 15.488092903484501, 14.71936493712246, 16.1149174178367, 13.967143716494776, 13.733143678755217, 19.277599574395378, 15.584310040314259, 12.713624877421985, 26.857214838631013, 26.711499672662256, 36.633722862479004, 48.260658709968695, 15.845821599443596, 31.072266920264962, 44.703986816421406, 37.82694250295276], \"Total\": [135.0, 321.0, 106.0, 113.0, 80.0, 64.0, 66.0, 65.0, 56.0, 60.0, 59.0, 59.0, 124.0, 71.0, 54.0, 184.0, 47.0, 50.0, 52.0, 68.0, 37.0, 68.0, 39.0, 114.0, 42.0, 75.0, 433.0, 60.0, 41.0, 44.0, 65.39441362365068, 41.558542183568775, 30.57873379031557, 26.470422587555365, 21.826894108180873, 21.12697861829229, 21.809733018915757, 18.98924145666791, 18.14616566681258, 18.112483289684224, 17.63131536195864, 16.512538150510405, 15.71371858195205, 17.360869779061158, 15.515935684682244, 15.634417558062346, 15.072759982932743, 14.86958583165637, 14.449948929905247, 14.04930494737147, 14.870890297164307, 13.368998984944483, 13.329205460321024, 44.88306468622516, 12.938018146216276, 12.710454170839546, 13.437267455076707, 13.434312523115588, 15.81344114003623, 12.12370052236342, 17.742129420152985, 40.361990023512995, 25.11748882579278, 113.94000151442663, 68.36751147492815, 36.207591623610185, 63.50279267708906, 46.556492936091416, 52.633926435606455, 83.37477822255092, 44.89180222801437, 47.2575928448601, 65.08534133038204, 33.07317382529314, 52.75936513882191, 53.97118257626545, 433.69673030451577, 184.24635775229603, 124.85437852003469, 321.9267485816052, 148.76845818206124, 114.60201234604102, 59.70003244566075, 52.40158037055297, 44.277487184591834, 66.53422915729547, 28.68210444439404, 31.107946032249142, 25.658365341615408, 24.5544570082269, 27.970518639845594, 22.192494146871063, 20.38474205900133, 20.29461323963069, 20.34329780349209, 18.137246896194906, 17.808998796419974, 21.456809784341715, 24.07092832229214, 16.05649426420095, 18.044664806381178, 16.42549865029125, 14.906089066317744, 14.177006130694572, 13.580139149744648, 14.991135746545321, 13.057956342472007, 13.08216458690685, 12.85512871525222, 13.050390593641366, 21.229911125730254, 14.376169234994512, 106.400678690335, 17.180198803321304, 45.43712059771727, 20.296413798162938, 28.647910162129612, 31.59639547641266, 36.31278780573895, 36.7434622344727, 34.76602972336719, 22.592485149396587, 30.931269895098055, 433.69673030451577, 148.76845818206124, 184.24635775229603, 321.9267485816052, 65.08534133038204, 80.95740455466104, 59.262470168543494, 39.484056236780376, 30.06367820179786, 29.853489314935914, 26.394890057936372, 26.42592973387295, 26.671237921407464, 24.729059959410904, 22.36065818417728, 20.656547324321263, 19.05764205217604, 18.53877142623293, 18.268332193911608, 17.01971937053239, 16.965748598680342, 17.678477283094697, 20.208914192614877, 16.026936268508194, 16.382278312008008, 15.080170007850844, 14.890202492339059, 14.741328022172624, 14.194972156482326, 13.618174798249498, 13.043363544996932, 12.517239575517674, 14.985810147107138, 12.781111377067507, 12.78174226659636, 14.058161346998366, 21.08393491810425, 60.86247233008246, 68.45693461002006, 31.883843616797368, 433.69673030451577, 44.96659135380507, 184.24635775229603, 71.29344982553499, 88.05098637154845, 51.78624089607556, 148.76845818206124, 321.9267485816052, 28.230995323338334, 40.51040724092925, 20.822636643087097, 50.61644833004185, 35.22950424391784, 30.107435379674154, 27.706756385241903, 25.244702547496697, 21.90804728300929, 54.27207860501233, 20.652806385460586, 20.40377901724748, 19.555926885076524, 19.562669589797494, 31.994883827661603, 16.788839108910647, 15.625424527841192, 18.70650295787771, 16.090250785312367, 14.953007734222025, 14.720999668942483, 14.18017748776444, 14.990880182264918, 13.760646211637269, 14.286444680733455, 14.651309001907412, 13.193970344113506, 18.8946082180251, 16.190241907573434, 14.556377542483775, 135.9129640299913, 11.998030174271308, 11.834714036010235, 13.528827285640723, 14.686490283642218, 21.69414846569852, 321.9267485816052, 55.31306336306876, 31.974916484663282, 124.85437852003469, 114.60201234604102, 26.993725207310835, 29.29342874299095, 433.69673030451577, 71.29344982553499, 148.76845818206124, 56.51945492598227, 47.95231868106381, 37.620428848530196, 30.56689303953191, 29.423806199340948, 42.10261874716949, 27.43788321538226, 25.066367299771183, 26.88813630175637, 23.74612297168746, 21.450934270534905, 22.533024059744612, 20.634692040414166, 22.050319489838575, 19.315418516184906, 19.441813370038822, 18.844200662610852, 18.231076182068332, 17.986927468230217, 19.65389455487869, 41.55445325952006, 16.60530746635406, 15.965607645475831, 15.947942703349273, 15.340261691163164, 14.860872483649668, 14.919583981285792, 14.115719813781443, 18.267055924696987, 17.429325674719415, 71.50784697845637, 40.16405115651212, 40.0262784097187, 26.417019240131467, 114.60201234604102, 433.69673030451577, 124.85437852003469, 321.9267485816052, 64.02347791960511, 37.72878894495915, 30.616692979864617, 28.72227058639579, 26.640812254750482, 26.306590739595027, 24.025250030535346, 23.537623048123802, 27.404581808691265, 22.303059824535506, 20.16506614856137, 20.55538891051845, 19.0017167995112, 18.236157685460437, 17.959561168651668, 17.148488658699538, 17.225037573520563, 17.314306731629788, 16.4416347319965, 16.477185267438745, 17.281786256804256, 16.30703701286574, 15.51359446657391, 16.992642619561625, 14.764380550291795, 14.52871525211676, 20.453706951606343, 16.536485773417855, 13.505859271931534, 28.5342710614946, 28.51847488115616, 39.520523511802516, 60.25667631040349, 17.12022853546791, 43.73767802564822, 75.72993641969073, 433.69673030451577], \"Category\": [\"Default\", \"Default\", \"Default\", \"Default\", \"Default\", \"Default\", \"Default\", \"Default\", \"Default\", \"Default\", \"Default\", \"Default\", \"Default\", \"Default\", \"Default\", \"Default\", \"Default\", \"Default\", \"Default\", \"Default\", \"Default\", \"Default\", \"Default\", \"Default\", \"Default\", \"Default\", \"Default\", \"Default\", \"Default\", \"Default\", \"Topic1\", \"Topic1\", \"Topic1\", \"Topic1\", \"Topic1\", \"Topic1\", \"Topic1\", \"Topic1\", \"Topic1\", \"Topic1\", \"Topic1\", \"Topic1\", \"Topic1\", \"Topic1\", \"Topic1\", \"Topic1\", \"Topic1\", \"Topic1\", \"Topic1\", \"Topic1\", \"Topic1\", \"Topic1\", \"Topic1\", \"Topic1\", \"Topic1\", \"Topic1\", \"Topic1\", \"Topic1\", \"Topic1\", \"Topic1\", \"Topic1\", \"Topic1\", \"Topic1\", \"Topic1\", \"Topic1\", \"Topic1\", \"Topic1\", \"Topic1\", \"Topic1\", \"Topic1\", \"Topic1\", \"Topic1\", \"Topic1\", \"Topic1\", \"Topic1\", \"Topic1\", \"Topic1\", \"Topic1\", \"Topic1\", \"Topic1\", \"Topic1\", \"Topic1\", \"Topic2\", \"Topic2\", \"Topic2\", \"Topic2\", \"Topic2\", \"Topic2\", \"Topic2\", \"Topic2\", \"Topic2\", \"Topic2\", \"Topic2\", \"Topic2\", \"Topic2\", \"Topic2\", \"Topic2\", \"Topic2\", \"Topic2\", \"Topic2\", \"Topic2\", \"Topic2\", \"Topic2\", \"Topic2\", \"Topic2\", \"Topic2\", \"Topic2\", \"Topic2\", \"Topic2\", \"Topic2\", \"Topic2\", \"Topic2\", \"Topic2\", \"Topic2\", \"Topic2\", \"Topic2\", \"Topic2\", \"Topic2\", \"Topic2\", \"Topic2\", \"Topic2\", \"Topic2\", \"Topic2\", \"Topic2\", \"Topic2\", \"Topic2\", \"Topic2\", \"Topic2\", \"Topic3\", \"Topic3\", \"Topic3\", \"Topic3\", \"Topic3\", \"Topic3\", \"Topic3\", \"Topic3\", \"Topic3\", \"Topic3\", \"Topic3\", \"Topic3\", \"Topic3\", \"Topic3\", \"Topic3\", \"Topic3\", \"Topic3\", \"Topic3\", \"Topic3\", \"Topic3\", \"Topic3\", \"Topic3\", \"Topic3\", \"Topic3\", \"Topic3\", \"Topic3\", \"Topic3\", \"Topic3\", \"Topic3\", \"Topic3\", \"Topic3\", \"Topic3\", \"Topic3\", \"Topic3\", \"Topic3\", \"Topic3\", \"Topic3\", \"Topic3\", \"Topic3\", \"Topic3\", \"Topic3\", \"Topic3\", \"Topic3\", \"Topic3\", \"Topic3\", \"Topic3\", \"Topic4\", \"Topic4\", \"Topic4\", \"Topic4\", \"Topic4\", \"Topic4\", \"Topic4\", \"Topic4\", \"Topic4\", \"Topic4\", \"Topic4\", \"Topic4\", \"Topic4\", \"Topic4\", \"Topic4\", \"Topic4\", \"Topic4\", \"Topic4\", \"Topic4\", \"Topic4\", \"Topic4\", \"Topic4\", \"Topic4\", \"Topic4\", \"Topic4\", \"Topic4\", \"Topic4\", \"Topic4\", \"Topic4\", \"Topic4\", \"Topic4\", \"Topic4\", \"Topic4\", \"Topic4\", \"Topic4\", \"Topic4\", \"Topic4\", \"Topic4\", \"Topic4\", \"Topic4\", \"Topic4\", \"Topic4\", \"Topic4\", \"Topic5\", \"Topic5\", \"Topic5\", \"Topic5\", \"Topic5\", \"Topic5\", \"Topic5\", \"Topic5\", \"Topic5\", \"Topic5\", \"Topic5\", \"Topic5\", \"Topic5\", \"Topic5\", \"Topic5\", \"Topic5\", \"Topic5\", \"Topic5\", \"Topic5\", \"Topic5\", \"Topic5\", \"Topic5\", \"Topic5\", \"Topic5\", \"Topic5\", \"Topic5\", \"Topic5\", \"Topic5\", \"Topic5\", \"Topic5\", \"Topic5\", \"Topic5\", \"Topic5\", \"Topic5\", \"Topic5\", \"Topic5\", \"Topic5\", \"Topic5\", \"Topic6\", \"Topic6\", \"Topic6\", \"Topic6\", \"Topic6\", \"Topic6\", \"Topic6\", \"Topic6\", \"Topic6\", \"Topic6\", \"Topic6\", \"Topic6\", \"Topic6\", \"Topic6\", \"Topic6\", \"Topic6\", \"Topic6\", \"Topic6\", \"Topic6\", \"Topic6\", \"Topic6\", \"Topic6\", \"Topic6\", \"Topic6\", \"Topic6\", \"Topic6\", \"Topic6\", \"Topic6\", \"Topic6\", \"Topic6\", \"Topic6\", \"Topic6\", \"Topic6\", \"Topic6\", \"Topic6\", \"Topic6\", \"Topic6\"], \"logprob\": [30.0, 29.0, 28.0, 27.0, 26.0, 25.0, 24.0, 23.0, 22.0, 21.0, 20.0, 19.0, 18.0, 17.0, 16.0, 15.0, 14.0, 13.0, 12.0, 11.0, 10.0, 9.0, 8.0, 7.0, 6.0, 5.0, 4.0, 3.0, 2.0, 1.0, -3.7044, -4.1648, -4.479, -4.6277, -4.8281, -4.8626, -4.8341, -4.9734, -5.0204, -5.0227, -5.0522, -5.1194, -5.1715, -5.0727, -5.1854, -5.1785, -5.216, -5.2309, -5.2618, -5.2903, -5.2343, -5.3433, -5.3469, -4.133, -5.3781, -5.397, -5.3433, -5.3436, -5.1823, -5.4483, -5.0695, -4.2577, -4.7358, -3.274, -3.7974, -4.4389, -3.9488, -4.2776, -4.1812, -3.9942, -4.4563, -4.4377, -4.2493, -4.7477, -4.5188, -4.5192, -3.7253, -4.165, -4.3426, -4.2108, -4.4474, -4.7094, -3.7796, -3.9117, -4.0831, -3.6768, -4.5279, -4.4474, -4.6429, -4.69, -4.5603, -4.7947, -4.8816, -4.8862, -4.884, -5.0039, -5.023, -4.8369, -4.7262, -5.1322, -5.0171, -5.1122, -5.2108, -5.2661, -5.31, -5.2111, -5.3511, -5.3499, -5.3679, -5.3529, -4.867, -5.257, -3.2678, -5.0851, -4.1506, -4.9431, -4.6262, -4.5409, -4.473, -4.4724, -4.5343, -4.9017, -4.7666, -3.6303, -4.398, -4.3607, -4.2525, -4.8405, -3.4422, -3.7588, -4.1734, -4.4508, -4.4607, -4.5851, -4.5846, -4.5756, -4.6527, -4.7582, -4.8394, -4.9252, -4.9531, -4.9679, -5.0423, -5.0472, -5.0071, -4.874, -5.1062, -5.0853, -5.17, -5.1839, -5.1964, -5.2348, -5.2805, -5.3255, -5.3681, -5.1884, -5.3479, -5.3483, -5.2548, -4.8646, -3.8516, -3.7848, -4.511, -2.5751, -4.3466, -3.2656, -3.999, -3.8729, -4.3046, -3.7535, -4.0512, -4.9062, -4.81, -5.0063, -3.8005, -4.1638, -4.3231, -4.4078, -4.5036, -4.6502, -3.7442, -4.7116, -4.7245, -4.7684, -4.7684, -4.2768, -4.9289, -5.0053, -4.8262, -4.9775, -5.0517, -5.0702, -5.1076, -5.0527, -5.1384, -5.1021, -5.0785, -5.1843, -4.8266, -4.9823, -5.0897, -2.8575, -5.2857, -5.3039, -5.1712, -5.1002, -4.7534, -2.5086, -3.9967, -4.4843, -3.4892, -3.5978, -4.6961, -4.6867, -3.8732, -4.8027, -4.9899, -3.6282, -3.7953, -4.0428, -4.2554, -4.2955, -3.9378, -4.3663, -4.4601, -4.3902, -4.516, -4.6215, -4.5734, -4.6623, -4.5975, -4.7304, -4.7243, -4.7562, -4.7905, -4.8062, -4.7188, -3.9704, -4.889, -4.9303, -4.9325, -4.972, -5.0056, -5.0017, -5.0601, -4.8026, -4.8502, -3.6764, -4.1943, -4.2313, -4.6132, -4.4122, -4.3218, -4.5927, -4.5831, -3.2652, -3.7992, -4.0144, -4.0795, -4.1562, -4.1712, -4.2637, -4.2863, -4.135, -4.342, -4.4444, -4.4263, -4.5068, -4.5495, -4.5664, -4.6136, -4.6093, -4.6045, -4.6578, -4.6575, -4.6099, -4.6682, -4.7191, -4.6286, -4.7716, -4.7885, -4.4494, -4.662, -4.8656, -4.1178, -4.1232, -3.8073, -3.5317, -4.6454, -3.972, -3.6082, -3.7753], \"loglift\": [30.0, 29.0, 28.0, 27.0, 26.0, 25.0, 24.0, 23.0, 22.0, 21.0, 20.0, 19.0, 18.0, 17.0, 16.0, 15.0, 14.0, 13.0, 12.0, 11.0, 10.0, 9.0, 8.0, 7.0, 6.0, 5.0, 4.0, 3.0, 2.0, 1.0, 1.6369, 1.6298, 1.6224, 1.6181, 1.6105, 1.6086, 1.6053, 1.6044, 1.6029, 1.6024, 1.5999, 1.5983, 1.5958, 1.5948, 1.5945, 1.5938, 1.5929, 1.5916, 1.5893, 1.5888, 1.5881, 1.5855, 1.5849, 1.5847, 1.5835, 1.5823, 1.5804, 1.5804, 1.5786, 1.5783, 1.5763, 1.5662, 1.5624, 1.5121, 1.4994, 1.4936, 1.4219, 1.4035, 1.3772, 1.1043, 1.2612, 1.2284, 1.0968, 1.2754, 1.0373, 1.0141, -0.2758, 0.1405, 0.352, -0.4634, 0.0719, 0.0709, 1.6529, 1.6511, 1.6482, 1.6472, 1.6376, 1.6369, 1.634, 1.6308, 1.6303, 1.6273, 1.6254, 1.6252, 1.625, 1.6199, 1.6191, 1.6188, 1.6146, 1.6135, 1.6118, 1.6107, 1.6092, 1.6041, 1.6032, 1.6032, 1.6013, 1.6006, 1.6001, 1.6001, 1.5993, 1.5992, 1.5867, 1.5929, 1.5548, 1.5682, 1.5405, 1.5279, 1.4566, 1.4454, 1.4388, 1.5025, 1.3234, -0.1809, 0.1214, -0.0552, -0.5051, 0.5056, 1.6856, 1.681, 1.6725, 1.6676, 1.6647, 1.6635, 1.6629, 1.6626, 1.661, 1.6563, 1.6543, 1.6491, 1.6488, 1.6487, 1.6451, 1.6433, 1.6423, 1.6416, 1.6413, 1.6402, 1.6384, 1.6372, 1.6347, 1.6341, 1.6298, 1.628, 1.6265, 1.6262, 1.6259, 1.6255, 1.6238, 1.6086, 1.5616, 1.5108, 1.5486, 0.8744, 1.3692, 1.0399, 1.2559, 1.171, 1.27, 0.7659, -0.3038, 1.2752, 1.0102, 1.4794, 1.797, 1.796, 1.7939, 1.7923, 1.7896, 1.7847, 1.7835, 1.7823, 1.7816, 1.7801, 1.7798, 1.7794, 1.7722, 1.7675, 1.7667, 1.766, 1.7651, 1.7623, 1.7623, 1.7616, 1.7615, 1.7603, 1.7588, 1.7577, 1.7562, 1.755, 1.754, 1.7522, 1.7514, 1.7468, 1.7457, 1.7346, 1.6913, 1.2388, 1.5121, 1.5725, 1.2054, 1.1825, 1.53, 1.4577, -0.4237, 0.4523, -0.4705, 1.859, 1.8562, 1.8515, 1.8465, 1.8444, 1.8439, 1.8436, 1.8401, 1.8399, 1.8384, 1.8345, 1.8334, 1.8325, 1.831, 1.8305, 1.8301, 1.8293, 1.8282, 1.8259, 1.8247, 1.8244, 1.823, 1.821, 1.8199, 1.8193, 1.8175, 1.8174, 1.8143, 1.8141, 1.8134, 1.5755, 1.6345, 1.6009, 1.6346, 0.3681, -0.8724, 0.1019, -0.8357, 2.0973, 2.0921, 2.0858, 2.0846, 2.0831, 2.0807, 2.0789, 2.0769, 2.0761, 2.0751, 2.0734, 2.0723, 2.0705, 2.0689, 2.0672, 2.0662, 2.0661, 2.0658, 2.0641, 2.0623, 2.0622, 2.0619, 2.0609, 2.0604, 2.0579, 2.0571, 2.0542, 2.0542, 2.053, 2.0529, 2.048, 2.0376, 1.8915, 2.0361, 1.7716, 1.5863, -0.3259]}, \"token.table\": {\"Topic\": [1, 2, 3, 4, 5, 6, 5, 5, 6, 2, 4, 1, 3, 2, 3, 1, 2, 4, 4, 3, 1, 1, 4, 5, 4, 1, 2, 6, 2, 6, 6, 1, 2, 3, 1, 3, 4, 1, 1, 6, 1, 3, 5, 6, 1, 2, 5, 6, 4, 1, 3, 6, 6, 3, 5, 4, 6, 2, 4, 1, 5, 3, 1, 6, 1, 2, 3, 4, 5, 2, 3, 1, 2, 3, 6, 1, 2, 4, 2, 3, 5, 6, 1, 2, 3, 5, 6, 2, 3, 4, 5, 5, 6, 3, 1, 4, 4, 6, 1, 1, 2, 1, 2, 5, 1, 2, 3, 5, 1, 2, 1, 1, 2, 4, 5, 1, 5, 2, 1, 2, 3, 4, 5, 1, 2, 5, 1, 6, 5, 1, 5, 4, 1, 3, 1, 3, 4, 5, 6, 2, 2, 6, 6, 1, 2, 3, 5, 5, 6, 1, 5, 1, 5, 3, 2, 3, 3, 4, 4, 3, 5, 1, 2, 3, 5, 1, 3, 3, 5, 6, 6, 2, 3, 1, 2, 4, 3, 4, 1, 4, 1, 3, 4, 4, 5, 5, 4, 1, 6, 2, 1, 5, 2, 2, 6, 4, 2, 3, 4, 5, 6, 2, 2, 3, 5, 1, 1, 3, 4, 3, 1, 5, 1, 2, 5, 3, 2, 1, 5, 1, 5, 4, 6, 1, 2, 3, 4, 5, 6, 6, 1, 1, 3, 5, 3, 3, 1, 2, 3, 1, 6, 3, 6, 6, 2, 5, 5, 6, 1, 4, 2, 3, 1, 4, 2, 6, 2, 4, 5, 1, 5, 6, 2, 6, 3, 6, 5, 2, 5, 3, 6, 2, 3, 4, 2, 5, 5, 2, 1, 2, 3, 5, 6, 1, 4, 4, 6, 1, 2, 3, 4, 5, 6, 1, 1, 4, 2, 4, 1, 3, 3, 5, 6, 2, 3, 3, 6, 3, 6, 2, 1, 2, 3, 4, 5, 1, 2, 1, 4, 2, 1, 2, 3, 5, 6, 2, 3, 6, 4, 4, 6, 3, 5, 1, 5, 4, 5, 2, 4, 2, 3, 4, 2, 6, 1, 2, 3, 4, 5, 6, 4, 2, 1, 2, 3, 5, 6, 1, 5, 2, 2, 5, 5, 5, 4, 3, 3, 1, 2, 3, 4, 5, 2, 4, 3, 1, 2, 4, 5], \"Freq\": [0.05281927054358321, 0.026409635271791604, 0.05281927054358321, 0.18486744690254123, 0.07922890581537481, 0.5942167936153111, 0.9692415065283705, 0.04889089309659169, 0.9289269688352421, 0.9372977110195543, 0.9530140765663796, 0.9628728596442024, 0.9838821287212085, 0.9195127083665101, 0.988173971733313, 0.09382354450992687, 0.09382354450992687, 0.7818628709160573, 0.9744915508905128, 0.9497109065711323, 0.948560143688348, 0.04996717355352188, 0.17488510743732658, 0.7495076033028282, 0.8851672352569744, 0.9621158143672421, 0.18255238545410474, 0.7965922274360934, 0.0350649887193217, 0.9467546954216859, 0.9798576227592513, 0.8031142860021037, 0.12597871152974174, 0.06298935576487087, 0.9002787177166814, 0.954606633604897, 0.9447230747787123, 0.9216128110872362, 0.9641935188045715, 0.925830221612677, 0.7599661037816913, 0.2089906785399651, 0.018999152594542282, 0.9840140218422638, 0.06602531059485134, 0.9023459114629683, 0.022008436864950447, 0.022008436864950447, 0.951022370412547, 0.7732541205244471, 0.021479281125679085, 0.17183424900543268, 0.9710396369468679, 0.9709381267050656, 0.9420712017684814, 0.8758122048460051, 0.09219075840484264, 0.9811259785437688, 0.9294690151810684, 0.8561740400260583, 0.13809258710097716, 0.9359243556408188, 0.2743629872843976, 0.7087710504846938, 0.15899878669075038, 0.2044270114595362, 0.5905669219942157, 0.02271411238439291, 0.011357056192196456, 0.9462658798520313, 0.9158172243447039, 0.19748011794651343, 0.271535162176456, 0.4937002948662836, 0.02468501474331418, 0.5684843813322416, 0.3072888547741846, 0.10755109917096461, 0.964383825563393, 0.6730191331331792, 0.07084411927717675, 0.24795441747011862, 0.6954276635649177, 0.12094394148955091, 0.18141591223432635, 0.9451308473905063, 0.9668939092303517, 0.09818573820077406, 0.6452205653193724, 0.25247761251627615, 0.939519518021636, 0.978978338899005, 0.9503321904184099, 0.9247297480175599, 0.25310476673666704, 0.7412353883002392, 0.9715724604441653, 0.9482280649914101, 0.9674586029831903, 0.9357649771382481, 0.04456023700658324, 0.2586379423519184, 0.7112543414677757, 0.981454018280538, 0.5496654465741654, 0.20849379007985583, 0.05686194274905159, 0.17058582824715476, 0.655979243415308, 0.33856993208532027, 0.9676713994580449, 0.07409129287047535, 0.11113693930571303, 0.7409129287047536, 0.037045646435237674, 0.928827899857262, 0.9763447614340917, 0.9572803236146843, 0.28965222693228393, 0.03862029692430452, 0.6565450477131769, 0.01931014846215226, 0.9306371026661208, 0.17428520775263062, 0.024897886821804376, 0.79673237829774, 0.9689606682002087, 0.9415748406367984, 0.9318980059850797, 0.9723989069518195, 0.9179930594335844, 0.9585518840963283, 0.9479051620400274, 0.9786969701912018, 0.03286097201495808, 0.870815758396389, 0.01643048600747904, 0.06572194402991616, 0.01643048600747904, 0.9762184659177839, 0.9740952369635546, 0.9806834789735142, 0.9415839759721121, 0.015029857753906962, 0.9769407540039525, 0.9616212826348172, 0.9908092721937509, 0.03504557722343375, 0.9462305850327113, 0.2517206259254733, 0.741177398558338, 0.9274990855929044, 0.9635473496904202, 0.9388391464722806, 0.16068496292835655, 0.8326402624469385, 0.915623560674414, 0.9167727280717909, 0.9802105768296078, 0.7116394424522499, 0.2668647909195937, 0.954579905562787, 0.8053838825657001, 0.08629113027489645, 0.08629113027489645, 0.12545538888205685, 0.878187722174398, 0.9850391474611337, 0.984040925754186, 0.975946219333601, 0.9731392444124153, 0.14407397350402162, 0.8164191831894558, 0.05150354898047358, 0.007357649854353368, 0.9344215315028778, 0.2730987918890909, 0.6827469797227274, 0.9385791958015041, 0.9339011338749017, 0.9939686954619616, 0.9342170935418237, 0.9264839948428031, 0.9680647618832937, 0.01975642371190395, 0.9685791666885132, 0.9617777471860737, 0.982228368814311, 0.9472828265950701, 0.9042742741477586, 0.023751491706610978, 0.9738111599710502, 0.9342014360783303, 0.9882741697620027, 0.9322139177132682, 0.9506945053064163, 0.7986167340040133, 0.08261552420731172, 0.08261552420731172, 0.027538508069103906, 0.027538508069103906, 0.9392134944124834, 0.02406480946229034, 0.02406480946229034, 0.9625923784916136, 0.9441047376206685, 0.9167040569220086, 0.0495515706444329, 0.02477578532221645, 0.93057208614072, 0.9368370328003346, 0.9667295174982826, 0.8629829977303851, 0.07313415235003264, 0.05850732188002611, 0.9714107350758189, 0.9362090213622496, 0.9414365730792611, 0.9324737514245489, 0.9688615556990624, 0.9835081930876385, 0.9322415293671135, 0.9818469929809195, 0.2094204064020442, 0.008725850266751843, 0.017451700533503686, 0.5235510160051106, 0.21814625666879606, 0.017451700533503686, 0.9465710125297172, 0.9667480134509974, 0.5373237830951871, 0.24086928207715286, 0.2223408757635257, 0.9430765702401448, 0.9705180884106575, 0.8688783454813718, 0.12287168521958793, 0.9200080913640456, 0.9466568959691887, 0.9198482831777146, 0.050606617075877415, 0.9362224159037321, 0.9625451989579935, 0.7892560536331878, 0.16329435592410785, 0.9552010362378571, 0.9748532907862134, 0.959421733767422, 0.93626648556859, 0.8545278533482099, 0.0949475392609122, 0.9253126790754309, 0.9609110771779893, 0.05841043523036529, 0.9345669636858447, 0.9313047062590949, 0.9622322269710926, 0.9778190425943533, 0.9156966351023769, 0.03981289717836421, 0.9675574495833784, 0.9421067214276128, 0.9729808609831629, 0.9400860056307443, 0.9636089466314147, 0.9574582432700203, 0.8868561795694769, 0.04926978775385983, 0.9011600573517788, 0.0474294767027252, 0.977419292634281, 0.9391494573652532, 0.968391395664264, 0.9172793936570769, 0.9209590563924239, 0.9669692130466344, 0.9338852130150495, 0.05639061774654841, 0.9210467565269573, 0.009398436291091402, 0.009398436291091402, 0.9487464607744605, 0.6682734599877289, 0.3118609479942735, 0.9689049088904188, 0.031254997060981254, 0.1211455716924184, 0.11493297827229437, 0.13667705524272844, 0.5560271111010998, 0.0652322309113022, 0.0062125934201240195, 0.9810739779389146, 0.052925151369162496, 0.9526527246449249, 0.9711481552856417, 0.916817164169874, 0.9073137347552723, 0.9586778241003442, 0.928371496654978, 0.9855964861762024, 0.9422235394628503, 0.9923364836000511, 0.9388854885914683, 0.944502995214181, 0.9288804121156885, 0.9646191595500031, 0.9771589914994983, 0.9653020863737923, 0.27231724191830575, 0.008009330644656051, 0.008009330644656051, 0.5366251531919554, 0.16819594353777706, 0.04710335309826233, 0.9420670619652465, 0.018425680860280232, 0.958135404734572, 0.9545735947501663, 0.5757136753260608, 0.16791648863676772, 0.047976139610505064, 0.1439284188315152, 0.05997017451313133, 0.9189799448914588, 0.9877404632928908, 0.9330268292700592, 0.9555460196885739, 0.9095063644245497, 0.9573261452333571, 0.9402155549733414, 0.9405601887978822, 0.9018083241928035, 0.05636302026205022, 0.18927192180729613, 0.7949420715906437, 0.9743411034627525, 0.959973917718087, 0.8726640044078372, 0.10471968052894046, 0.9651001548189511, 0.9555094715104797, 0.04154389006567303, 0.14526279678374607, 0.15679159017928146, 0.44039990770945237, 0.1060648992389257, 0.06456124301499826, 0.08761882980606905, 0.9099534762159307, 0.9321050147256824, 0.222528143840548, 0.179108018213124, 0.5210415075290881, 0.005427515703428, 0.075985219847992, 0.9865601112497732, 0.9523671532141477, 0.9169778075960452, 0.983124771273163, 0.9772750945794138, 0.980140299629768, 0.9383639662849004, 0.9632172131000638, 0.9401791614783213, 0.9748328921445112, 0.2083775040678484, 0.215099359037779, 0.396589443225905, 0.1008278245489589, 0.08066225963916712, 0.9334795680234896, 0.9712375866077633, 0.9682160181944717, 0.9415191625710867, 0.8409876060273724, 0.04426250558038802, 0.08852501116077605], \"Term\": [\"\\uac00\\uaca9\", \"\\uac00\\uaca9\", \"\\uac00\\uaca9\", \"\\uac00\\uaca9\", \"\\uac00\\uaca9\", \"\\uac00\\uaca9\", \"\\uac00\\ub2a5\", \"\\uac00\\ubccd\\ub2e4\", \"\\uac00\\ubccd\\ub2e4\", \"\\uac00\\uc6b4\\ub370\", \"\\uac00\\uc9c0\", \"\\uac00\\uc9c0\\ub2e4\", \"\\uac08\\uc544\\ud0c0\\ub2e4\", \"\\uac10\\uc131\", \"\\uac16\\ub2e4\", \"\\uac1c\\uc120\", \"\\uac1c\\uc120\", \"\\uac1c\\uc120\", \"\\uac70\\uc2ac\\ub9ac\\ub2e4\", \"\\uac70\\uc9c0\", \"\\uac78\\ub2e4\", \"\\uac8c\\uc784\", \"\\uac8c\\uc784\", \"\\uac8c\\uc784\", \"\\uacbd\\uc6b0\", \"\\uacc4\\uc18d\", \"\\uace0\\ubbfc\", \"\\uace0\\ubbfc\", \"\\uad00\\uc2ec\", \"\\uad00\\uc2ec\", \"\\uad6c\\ub3c5\", \"\\uad6c\\ub9e4\", \"\\uad6c\\ub9e4\", \"\\uad6c\\ub9e4\", \"\\uad6c\\uc785\", \"\\uad81\\uae08\", \"\\uadc0\\uc5fd\\ub2e4\", \"\\uadc0\\ucc2e\\ub2e4\", \"\\uadf8\\ub9b0\", \"\\uae30\\uac00\", \"\\uae30\\ub2a5\", \"\\uae30\\ub2a5\", \"\\uae30\\ub2a5\", \"\\uae30\\ub2e4\\ub9ac\\ub2e4\", \"\\uae30\\ub300\", \"\\uae30\\ub300\", \"\\uae30\\ub300\", \"\\uae30\\ub300\", \"\\uae30\\ubd84\", \"\\uae30\\uc220\", \"\\uae30\\uc220\", \"\\uae30\\uc220\", \"\\uae30\\uc5c5\", \"\\uae4c\\uc9c0\\ub2e4\", \"\\uae54\\ub2e4\", \"\\ub0ab\\ub2e4\", \"\\ub0ab\\ub2e4\", \"\\ub0b4\\ub144\", \"\\ub0b4\\ub2e4\", \"\\ub0b4\\ubd80\", \"\\ub0b4\\ubd80\", \"\\ub113\\ub2e4\", \"\\ub118\\uc5b4\\uac00\\ub2e4\", \"\\ub118\\uc5b4\\uac00\\ub2e4\", \"\\ub178\\ud2b8\", \"\\ub178\\ud2b8\", \"\\ub178\\ud2b8\", \"\\ub178\\ud2b8\", \"\\ub178\\ud2b8\", \"\\ub192\\ub2e4\", \"\\ub204\\ub974\\ub2e4\", \"\\ub290\\ub07c\\ub2e4\", \"\\ub290\\ub07c\\ub2e4\", \"\\ub290\\ub07c\\ub2e4\", \"\\ub290\\ub07c\\ub2e4\", \"\\ub290\\ub08c\", \"\\ub290\\ub08c\", \"\\ub290\\ub08c\", \"\\ub298\\ub2e4\", \"\\ub2e4\\ub2c8\\ub2e4\", \"\\ub2e4\\ub2c8\\ub2e4\", \"\\ub2e4\\ub2c8\\ub2e4\", \"\\ub2e4\\ub974\\ub2e4\", \"\\ub2e4\\ub974\\ub2e4\", \"\\ub2e4\\ub974\\ub2e4\", \"\\ub2e4\\uc2dc\", \"\\ub2e4\\uc6b4\", \"\\ub2e8\\uc810\", \"\\ub2e8\\uc810\", \"\\ub2e8\\uc810\", \"\\ub2ec\\ub2e4\", \"\\ub300\\ubc15\", \"\\ub300\\ud558\\ub2e4\", \"\\ub313\\uae00\", \"\\ub354\\ube14\", \"\\ub354\\ube14\", \"\\ub3c4\\uc6c0\", \"\\ub3cc\\uc544\\uac00\\ub2e4\", \"\\ub3d9\\uc601\\uc0c1\", \"\\ub450\\uaecd\\ub2e4\", \"\\ub450\\uaecd\\ub2e4\", \"\\ub4e4\\uc5b4\\uac00\\ub2e4\", \"\\ub4e4\\uc5b4\\uac00\\ub2e4\", \"\\ub4e4\\uc5b4\\uc624\\ub2e4\", \"\\ub514\\uc2a4\\ud50c\\ub808\\uc774\", \"\\ub514\\uc2a4\\ud50c\\ub808\\uc774\", \"\\ub514\\uc2a4\\ud50c\\ub808\\uc774\", \"\\ub514\\uc2a4\\ud50c\\ub808\\uc774\", \"\\ub514\\uc790\\uc778\", \"\\ub514\\uc790\\uc778\", \"\\ub54c\\ub2e4\", \"\\ub5a8\\uc5b4\\uc9c0\\ub2e4\", \"\\ub5a8\\uc5b4\\uc9c0\\ub2e4\", \"\\ub5a8\\uc5b4\\uc9c0\\ub2e4\", \"\\ub5a8\\uc5b4\\uc9c0\\ub2e4\", \"\\ub7ec\\ube0c\", \"\\ub9c8\\uc74c\", \"\\ub9c8\\ucf00\\ud305\", \"\\ub9cc\\uc871\", \"\\ub9cc\\uc871\", \"\\ub9cc\\uc871\", \"\\ub9cc\\uc871\", \"\\ub9dd\\uc124\\uc774\\ub2e4\", \"\\ub9de\\ub2e4\", \"\\ub9de\\ub2e4\", \"\\ub9de\\ub2e4\", \"\\ub9e4\\ub825\", \"\\uba39\\ub2e4\", \"\\uba40\\ud2f0\", \"\\uba4b\\uc788\\ub2e4\", \"\\uba54\\uc778\", \"\\ubaa9\\uc18c\\ub9ac\", \"\\ubabb\\uc4f0\\ub2e4\", \"\\ubb34\\uac81\\ub2e4\", \"\\ubb34\\uac8c\", \"\\ubb34\\uac8c\", \"\\ubb34\\uac8c\", \"\\ubb34\\uac8c\", \"\\ubb34\\uac8c\", \"\\ubb38\\uc81c\", \"\\ubb38\\uc81c\\uc810\", \"\\ubbf8\\ub2c8\", \"\\ubbff\\ub2e4\", \"\\ubc14\\uafb8\\ub2e4\", \"\\ubc14\\uafb8\\ub2e4\", \"\\ubc14\\ub00c\\ub2e4\", \"\\ubc1c\\uc5f4\", \"\\ubc1c\\uc804\", \"\\ubc1c\\uc804\", \"\\ubc29\\uc218\", \"\\ubc29\\uc218\", \"\\ubc29\\uc9c4\", \"\\ubc30\\uacbd\", \"\\ubc30\\uc6b0\", \"\\ubc30\\ud130\\ub9ac\", \"\\ubc30\\ud130\\ub9ac\", \"\\ubcf4\\uba74\", \"\\ubd80\\uc871\", \"\\ubd80\\ud0c1\", \"\\ubd88\\ud3b8\", \"\\ubd88\\ud3b8\", \"\\ube14\\ub799\", \"\\ube44\\uad50\", \"\\ube44\\uad50\", \"\\ube44\\uad50\", \"\\ube44\\uc2f8\\ub2e4\", \"\\ube44\\uc2f8\\ub2e4\", \"\\ube44\\uc728\", \"\\ube60\\ub974\\ub2e4\", \"\\ube60\\uc9c0\\ub2e4\", \"\\ube68\\ub2e4\", \"\\ube7c\\ub2e4\", \"\\ube7c\\ub2e4\", \"\\uc0ac\\ub2e4\", \"\\uc0ac\\ub2e4\", \"\\uc0ac\\ub2e4\", \"\\uc0ac\\uc6a9\\uc790\", \"\\uc0ac\\uc6a9\\uc790\", \"\\uc0ac\\uc9c4\", \"\\uc0c8\\ub86d\\ub2e4\", \"\\uc0c9\\uae54\", \"\\uc11c\\ub2e4\", \"\\uc120\\ud0dd\", \"\\uc131\\ub2a5\", \"\\uc131\\ub2a5\", \"\\uc131\\uc740\", \"\\uc18c\\ube44\\uc790\", \"\\uc218\\ub0a9\", \"\\uc218\\ub3c4\", \"\\uc218\\uc900\", \"\\uc27d\\ub2e4\", \"\\uc27d\\ub2e4\", \"\\uc2a4\\ub0c5\\ub4dc\\ub798\\uace4\", \"\\uc2a4\\ub9c8\\ud2b8\\ud3f0\", \"\\uc2a4\\ud0c0\", \"\\uc2a4\\ud53c\\ucee4\", \"\\uc2dc\\ub9ac\\uc988\", \"\\uc2dc\\ub9ac\\uc988\", \"\\uc2dc\\ub9ac\\uc988\", \"\\uc2dc\\ub9ac\\uc988\", \"\\uc2dc\\ub9ac\\uc988\", \"\\uc2dc\\uc7a5\", \"\\uc2e0\\uacbd\", \"\\uc2e0\\uacbd\", \"\\uc2e0\\uacbd\", \"\\uc2e4\\ubb3c\", \"\\uc2e4\\ubc84\", \"\\uc2e4\\ubc84\", \"\\uc2e4\\ubc84\", \"\\uc2ec\\ud558\\ub2e4\", \"\\uc2f8\\ub2e4\", \"\\uc4f0\\uc774\\ub2e4\", \"\\uc544\\uc27d\\ub2e4\", \"\\uc544\\uc27d\\ub2e4\", \"\\uc544\\uc27d\\ub2e4\", \"\\uc544\\uc774\\ud328\\ub4dc\", \"\\uc544\\uc774\\ud3f0\\uc2ed\\uc0bc\", \"\\uc544\\uc8fc\", \"\\uc548\\ub155\", \"\\uc548\\ub418\\ub2e4\", \"\\uc54c\\ub9ac\\ub2e4\", \"\\uc5b4\\ub835\\ub2e4\", \"\\uc5b4\\uc6b8\\ub9ac\\ub2e4\", \"\\uc5b8\\ub354\\ub514\\uc2a4\\ud50c\\ub808\\uc774\\uce74\\uba54\\ub77c\", \"\\uc5b8\\ub354\\ub514\\uc2a4\\ud50c\\ub808\\uc774\\uce74\\uba54\\ub77c\", \"\\uc5b8\\ub354\\ub514\\uc2a4\\ud50c\\ub808\\uc774\\uce74\\uba54\\ub77c\", \"\\uc5b8\\ub354\\ub514\\uc2a4\\ud50c\\ub808\\uc774\\uce74\\uba54\\ub77c\", \"\\uc5b8\\ub354\\ub514\\uc2a4\\ud50c\\ub808\\uc774\\uce74\\uba54\\ub77c\", \"\\uc5b8\\ub354\\ub514\\uc2a4\\ud50c\\ub808\\uc774\\uce74\\uba54\\ub77c\", \"\\uc5c5\\ub85c\\ub4dc\", \"\\uc5d0\\uc120\", \"\\uc5d0\\uc2a4\\ud39c\", \"\\uc5d0\\uc2a4\\ud39c\", \"\\uc5d0\\uc2a4\\ud39c\", \"\\uc5ec\\uc804\", \"\\uc5f4\\ub2e4\", \"\\uc608\\uc058\\ub2e4\", \"\\uc608\\uc058\\ub2e4\", \"\\uc608\\uc57d\", \"\\uc62c\\ub9ac\\ub2e4\", \"\\uc640\\uc6b0\", \"\\uc644\\ubcbd\", \"\\uc644\\ubcbd\", \"\\uc644\\uc131\\ub3c4\", \"\\uc678\\ubd80\", \"\\uc678\\ubd80\", \"\\uc67c\\uc190\\uc7a1\\uc774\", \"\\uc694\\uc998\", \"\\uc6d0\\ub798\", \"\\uc720\\ub8cc\", \"\\uc720\\ud29c\\ube0c\", \"\\uc720\\ud29c\\ube0c\", \"\\uc751\\uc6d0\", \"\\uc774\\uac70\", \"\\uc774\\uac74\", \"\\uc774\\uac74\", \"\\uc774\\uace0\", \"\\uc774\\ub098\", \"\\uc774\\ub984\", \"\\uc774\\uc548\", \"\\uc774\\uc548\", \"\\uc774\\uc774\", \"\\uc774\\ud574\", \"\\uc774\\ud615\", \"\\uc778\\uac00\", \"\\uc790\\uae09\\uc81c\", \"\\uc790\\ub9c9\", \"\\uc790\\uccb4\", \"\\uc790\\uccb4\", \"\\uc791\\ub2e4\", \"\\uc791\\ub2e4\", \"\\uc7a1\\ub2e4\", \"\\uc7a5\\uc810\", \"\\uc7ac\\ubc0c\\ub2e4\", \"\\uc800\\ub7ec\\ub2e4\", \"\\uc800\\ub807\\ub2e4\", \"\\uc804\\uba74\", \"\\uc804\\ud654\", \"\\uc811\\ub2e4\", \"\\uc811\\ub2e4\", \"\\uc811\\ub2e4\", \"\\uc811\\ub2e4\", \"\\uc81c\\uc77c\", \"\\uc81c\\ud488\", \"\\uc81c\\ud488\", \"\\uc874\\ubc84\", \"\\uc874\\ubc84\", \"\\uc88b\\ub2e4\", \"\\uc88b\\ub2e4\", \"\\uc88b\\ub2e4\", \"\\uc88b\\ub2e4\", \"\\uc88b\\ub2e4\", \"\\uc88b\\ub2e4\", \"\\uc88b\\uc544\\ud558\\ub2e4\", \"\\uc8fc\\ub2e4\", \"\\uc8fc\\ub2e4\", \"\\uc8fc\\ub984\", \"\\uc904\\uc774\\ub2e4\", \"\\uc911\\uad6d\", \"\\uc9c0\\ub2e4\", \"\\uc9c0\\ub974\\ub2e4\", \"\\uc9c0\\uc6d0\", \"\\uc9c1\\ub3c4\", \"\\ucc0d\\ub2e4\", \"\\ucc28\\ub2e4\", \"\\ucc38\\ub2e4\", \"\\ucc3e\\ub2e4\", \"\\ucd5c\\uace0\", \"\\ucd94\\ucc9c\", \"\\ucd9c\\uc2dc\", \"\\uce74\\uba54\\ub77c\", \"\\uce74\\uba54\\ub77c\", \"\\uce74\\uba54\\ub77c\", \"\\uce74\\uba54\\ub77c\", \"\\uce74\\uba54\\ub77c\", \"\\ucee4\\ubc84\", \"\\ucee4\\ubc84\", \"\\ucf00\\uc774\\uc2a4\", \"\\ucf00\\uc774\\uc2a4\", \"\\ud06c\\uae30\", \"\\ud06c\\ub2e4\", \"\\ud06c\\ub2e4\", \"\\ud06c\\ub2e4\", \"\\ud06c\\ub2e4\", \"\\ud06c\\ub2e4\", \"\\ud0d0\\ub098\\ub2e4\", \"\\ud0dc\\ube14\\ub9bf\", \"\\ud14c\\ud06c\", \"\\ud1b5\\ud654\", \"\\ud310\\ub9e4\\ub7c9\", \"\\ud314\\ub2e4\", \"\\ud314\\ub9ac\\ub2e4\", \"\\ud328\\ub4dc\", \"\\ud32c\\ud140\", \"\\ud32c\\ud140\", \"\\ud380\\uce58\", \"\\ud380\\uce58\", \"\\ud3b4\\ub2e4\", \"\\ud3b8\\ud558\\ub2e4\", \"\\ud3bc\\uce58\\ub2e4\", \"\\ud3bc\\uce58\\ub2e4\", \"\\ud3f4\\ub354\", \"\\ud3f4\\ub354\\ube14\\ud3f0\", \"\\ud3f4\\ub354\\ube14\\ud3f0\", \"\\ud3f4\\ub4dc\", \"\\ud3f4\\ub4dc\", \"\\ud3f4\\ub4dc\", \"\\ud3f4\\ub4dc\", \"\\ud3f4\\ub4dc\", \"\\ud3f4\\ub4dc\", \"\\ud45c\\uc2dc\", \"\\ud504\\ub85c\", \"\\ud50c\\ub9bd\", \"\\ud50c\\ub9bd\", \"\\ud50c\\ub9bd\", \"\\ud50c\\ub9bd\", \"\\ud50c\\ub9bd\", \"\\ud544\\uc694\", \"\\ud55c\\uad6d\", \"\\ud55c\\ubc88\", \"\\ud574\\uacb0\", \"\\ud574\\uc8fc\", \"\\ud578\\ub4dc\\ud3f0\", \"\\ud5c8\\ub2e4\", \"\\ud601\\uc2e0\", \"\\ud615\\ub2d8\", \"\\ud615\\ud0dc\", \"\\ud654\\uba74\", \"\\ud654\\uba74\", \"\\ud654\\uba74\", \"\\ud654\\uba74\", \"\\ud654\\uba74\", \"\\ud6c4\\uae30\", \"\\ud6c4\\uba74\", \"\\ud734\\ub300\", \"\\ud734\\ub300\\uc131\", \"\\ud734\\ub300\\ud3f0\", \"\\ud734\\ub300\\ud3f0\", \"\\ud734\\ub300\\ud3f0\"]}, \"R\": 30, \"lambda.step\": 0.01, \"plot.opts\": {\"xlab\": \"PC1\", \"ylab\": \"PC2\"}, \"topic.order\": [3, 2, 6, 5, 1, 4]};\n",
              "\n",
              "function LDAvis_load_lib(url, callback){\n",
              "  var s = document.createElement('script');\n",
              "  s.src = url;\n",
              "  s.async = true;\n",
              "  s.onreadystatechange = s.onload = callback;\n",
              "  s.onerror = function(){console.warn(\"failed to load library \" + url);};\n",
              "  document.getElementsByTagName(\"head\")[0].appendChild(s);\n",
              "}\n",
              "\n",
              "if(typeof(LDAvis) !== \"undefined\"){\n",
              "   // already loaded: just create the visualization\n",
              "   !function(LDAvis){\n",
              "       new LDAvis(\"#\" + \"ldavis_el591404639507447844621054955\", ldavis_el591404639507447844621054955_data);\n",
              "   }(LDAvis);\n",
              "}else if(typeof define === \"function\" && define.amd){\n",
              "   // require.js is available: use it to load d3/LDAvis\n",
              "   require.config({paths: {d3: \"https://d3js.org/d3.v5\"}});\n",
              "   require([\"d3\"], function(d3){\n",
              "      window.d3 = d3;\n",
              "      LDAvis_load_lib(\"https://cdn.jsdelivr.net/gh/bmabey/pyLDAvis@3.3.1/pyLDAvis/js/ldavis.v3.0.0.js\", function(){\n",
              "        new LDAvis(\"#\" + \"ldavis_el591404639507447844621054955\", ldavis_el591404639507447844621054955_data);\n",
              "      });\n",
              "    });\n",
              "}else{\n",
              "    // require.js not available: dynamically load d3 & LDAvis\n",
              "    LDAvis_load_lib(\"https://d3js.org/d3.v5.js\", function(){\n",
              "         LDAvis_load_lib(\"https://cdn.jsdelivr.net/gh/bmabey/pyLDAvis@3.3.1/pyLDAvis/js/ldavis.v3.0.0.js\", function(){\n",
              "                 new LDAvis(\"#\" + \"ldavis_el591404639507447844621054955\", ldavis_el591404639507447844621054955_data);\n",
              "            })\n",
              "         });\n",
              "}\n",
              "</script>"
            ]
          },
          "metadata": {},
          "execution_count": 157
        }
      ]
    }
  ]
}